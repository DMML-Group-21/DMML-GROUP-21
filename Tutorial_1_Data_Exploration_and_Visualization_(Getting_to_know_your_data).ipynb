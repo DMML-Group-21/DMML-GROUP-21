{
 "cells": [
  {
   "cell_type": "markdown",
   "metadata": {
    "id": "ln8q979HhRrL"
   },
   "source": [
    "https://github.com/ageron/handson-ml2/blob/master/02_end_to_end_machine_learning_project.ipynb\n",
    "https://colab.research.google.com/github/ageron/handson-ml2/blob/master/02_end_to_end_machine_learning_project.ipynb#scrollTo=E-hlmIU5tN3P\n"
   ]
  },
  {
   "cell_type": "markdown",
   "metadata": {
    "id": "1Yp2x5NphRrR"
   },
   "source": [
    "# Tutorial 1 (housing) Data Exploration and Visualization (Getting to know your data)"
   ]
  },
  {
   "cell_type": "markdown",
   "metadata": {
    "id": "3G2agedJhRrS"
   },
   "source": [
    "## Setup"
   ]
  },
  {
   "cell_type": "code",
   "execution_count": 1,
   "metadata": {
    "id": "UJMHBNTNhRrS"
   },
   "outputs": [],
   "source": [
    "import sys\n",
    "assert sys.version_info >= (3, 5)\n",
    "# Python ≥3.5 is required\n"
   ]
  },
  {
   "cell_type": "code",
   "execution_count": 2,
   "metadata": {
    "id": "rEM0Cu7xhRrU"
   },
   "outputs": [],
   "source": [
    "# Scikit-Learn ≥0.20 is required\n",
    "import sklearn\n",
    "assert sklearn.__version__ >= \"0.20\""
   ]
  },
  {
   "cell_type": "code",
   "execution_count": 3,
   "metadata": {
    "id": "kBhrMzIvhRrV"
   },
   "outputs": [],
   "source": [
    "# Common imports\n",
    "import numpy as np\n",
    "import os\n",
    "import tarfile\n",
    "import urllib\n",
    "import pandas as pd\n",
    "import urllib.request\n",
    "import seaborn as sns\n"
   ]
  },
  {
   "cell_type": "code",
   "execution_count": 4,
   "metadata": {
    "id": "F0MqHkqGhRrW"
   },
   "outputs": [],
   "source": [
    "# To plot pretty figures\n",
    "%matplotlib inline\n",
    "import matplotlib as mpl\n",
    "import matplotlib.pyplot as plt"
   ]
  },
  {
   "cell_type": "markdown",
   "metadata": {
    "id": "e1PFyyJfhRrX"
   },
   "source": [
    "# Get the data"
   ]
  },
  {
   "cell_type": "markdown",
   "metadata": {
    "id": "lVD91J2YhRrX"
   },
   "source": [
    "With this code, we download and store the tgz file and extract it on the same location of the notebook and sub folders \"datasets/housing/\""
   ]
  },
  {
   "cell_type": "code",
   "execution_count": 8,
   "metadata": {},
   "outputs": [],
   "source": [
    "data = pd.read_csv(\"US_Accidents_Dec21_updated.csv\")"
   ]
  },
  {
   "cell_type": "code",
   "execution_count": 7,
   "metadata": {
    "scrolled": true
   },
   "outputs": [
    {
     "ename": "NameError",
     "evalue": "name 'data' is not defined",
     "output_type": "error",
     "traceback": [
      "\u001b[1;31m---------------------------------------------------------------------------\u001b[0m",
      "\u001b[1;31mNameError\u001b[0m                                 Traceback (most recent call last)",
      "Input \u001b[1;32mIn [7]\u001b[0m, in \u001b[0;36m<cell line: 1>\u001b[1;34m()\u001b[0m\n\u001b[1;32m----> 1\u001b[0m \u001b[43mdata\u001b[49m\u001b[38;5;241m.\u001b[39mhead()\n",
      "\u001b[1;31mNameError\u001b[0m: name 'data' is not defined"
     ]
    }
   ],
   "source": [
    "data.head()"
   ]
  },
  {
   "cell_type": "code",
   "execution_count": 7,
   "metadata": {
    "colab": {
     "base_uri": "https://localhost:8080/"
    },
    "id": "6jx67hw8hRrd",
    "outputId": "b7367d26-67ea-430f-82de-02c2c75f76bc"
   },
   "outputs": [
    {
     "name": "stdout",
     "output_type": "stream",
     "text": [
      "<class 'pandas.core.frame.DataFrame'>\n",
      "RangeIndex: 2845342 entries, 0 to 2845341\n",
      "Data columns (total 47 columns):\n",
      " #   Column                 Dtype  \n",
      "---  ------                 -----  \n",
      " 0   ID                     object \n",
      " 1   Severity               int64  \n",
      " 2   Start_Time             object \n",
      " 3   End_Time               object \n",
      " 4   Start_Lat              float64\n",
      " 5   Start_Lng              float64\n",
      " 6   End_Lat                float64\n",
      " 7   End_Lng                float64\n",
      " 8   Distance(mi)           float64\n",
      " 9   Description            object \n",
      " 10  Number                 float64\n",
      " 11  Street                 object \n",
      " 12  Side                   object \n",
      " 13  City                   object \n",
      " 14  County                 object \n",
      " 15  State                  object \n",
      " 16  Zipcode                object \n",
      " 17  Country                object \n",
      " 18  Timezone               object \n",
      " 19  Airport_Code           object \n",
      " 20  Weather_Timestamp      object \n",
      " 21  Temperature(F)         float64\n",
      " 22  Wind_Chill(F)          float64\n",
      " 23  Humidity(%)            float64\n",
      " 24  Pressure(in)           float64\n",
      " 25  Visibility(mi)         float64\n",
      " 26  Wind_Direction         object \n",
      " 27  Wind_Speed(mph)        float64\n",
      " 28  Precipitation(in)      float64\n",
      " 29  Weather_Condition      object \n",
      " 30  Amenity                bool   \n",
      " 31  Bump                   bool   \n",
      " 32  Crossing               bool   \n",
      " 33  Give_Way               bool   \n",
      " 34  Junction               bool   \n",
      " 35  No_Exit                bool   \n",
      " 36  Railway                bool   \n",
      " 37  Roundabout             bool   \n",
      " 38  Station                bool   \n",
      " 39  Stop                   bool   \n",
      " 40  Traffic_Calming        bool   \n",
      " 41  Traffic_Signal         bool   \n",
      " 42  Turning_Loop           bool   \n",
      " 43  Sunrise_Sunset         object \n",
      " 44  Civil_Twilight         object \n",
      " 45  Nautical_Twilight      object \n",
      " 46  Astronomical_Twilight  object \n",
      "dtypes: bool(13), float64(13), int64(1), object(20)\n",
      "memory usage: 773.4+ MB\n"
     ]
    }
   ],
   "source": [
    "#This method prints information about a DataFrame including the dtype and columns, non-null values and memory usage.\n",
    "data.info() \n",
    "#Q2 Can you tell if there are any missing values? If yes, which attribuites contain missing values ? "
   ]
  },
  {
   "cell_type": "markdown",
   "metadata": {
    "id": "co0dQ38ShRrf"
   },
   "source": [
    "All attributes are numerical, except the ocean_proximity field."
   ]
  },
  {
   "cell_type": "code",
   "execution_count": 8,
   "metadata": {
    "colab": {
     "base_uri": "https://localhost:8080/",
     "height": 317
    },
    "id": "UCE1jukBhRrg",
    "outputId": "09d3e84c-557a-47ac-dbbc-8add01ed3c31"
   },
   "outputs": [
    {
     "data": {
      "text/html": [
       "<div>\n",
       "<style scoped>\n",
       "    .dataframe tbody tr th:only-of-type {\n",
       "        vertical-align: middle;\n",
       "    }\n",
       "\n",
       "    .dataframe tbody tr th {\n",
       "        vertical-align: top;\n",
       "    }\n",
       "\n",
       "    .dataframe thead th {\n",
       "        text-align: right;\n",
       "    }\n",
       "</style>\n",
       "<table border=\"1\" class=\"dataframe\">\n",
       "  <thead>\n",
       "    <tr style=\"text-align: right;\">\n",
       "      <th></th>\n",
       "      <th>count</th>\n",
       "      <th>mean</th>\n",
       "      <th>std</th>\n",
       "      <th>min</th>\n",
       "      <th>25%</th>\n",
       "      <th>50%</th>\n",
       "      <th>75%</th>\n",
       "      <th>max</th>\n",
       "    </tr>\n",
       "  </thead>\n",
       "  <tbody>\n",
       "    <tr>\n",
       "      <th>Severity</th>\n",
       "      <td>2845342.0</td>\n",
       "      <td>2.137572</td>\n",
       "      <td>0.478722</td>\n",
       "      <td>1.000000</td>\n",
       "      <td>2.000000</td>\n",
       "      <td>2.000000</td>\n",
       "      <td>2.000000</td>\n",
       "      <td>4.000000e+00</td>\n",
       "    </tr>\n",
       "    <tr>\n",
       "      <th>Start_Lat</th>\n",
       "      <td>2845342.0</td>\n",
       "      <td>36.245201</td>\n",
       "      <td>5.363797</td>\n",
       "      <td>24.566027</td>\n",
       "      <td>33.445174</td>\n",
       "      <td>36.098609</td>\n",
       "      <td>40.160243</td>\n",
       "      <td>4.900058e+01</td>\n",
       "    </tr>\n",
       "    <tr>\n",
       "      <th>Start_Lng</th>\n",
       "      <td>2845342.0</td>\n",
       "      <td>-97.114633</td>\n",
       "      <td>18.317819</td>\n",
       "      <td>-124.548074</td>\n",
       "      <td>-118.033113</td>\n",
       "      <td>-92.418076</td>\n",
       "      <td>-80.372431</td>\n",
       "      <td>-6.711317e+01</td>\n",
       "    </tr>\n",
       "    <tr>\n",
       "      <th>End_Lat</th>\n",
       "      <td>2845342.0</td>\n",
       "      <td>36.245321</td>\n",
       "      <td>5.363873</td>\n",
       "      <td>24.566013</td>\n",
       "      <td>33.446278</td>\n",
       "      <td>36.097987</td>\n",
       "      <td>40.161049</td>\n",
       "      <td>4.907500e+01</td>\n",
       "    </tr>\n",
       "    <tr>\n",
       "      <th>End_Lng</th>\n",
       "      <td>2845342.0</td>\n",
       "      <td>-97.114387</td>\n",
       "      <td>18.317632</td>\n",
       "      <td>-124.545748</td>\n",
       "      <td>-118.033331</td>\n",
       "      <td>-92.417718</td>\n",
       "      <td>-80.373383</td>\n",
       "      <td>-6.710924e+01</td>\n",
       "    </tr>\n",
       "    <tr>\n",
       "      <th>Distance(mi)</th>\n",
       "      <td>2845342.0</td>\n",
       "      <td>0.702678</td>\n",
       "      <td>1.560361</td>\n",
       "      <td>0.000000</td>\n",
       "      <td>0.052000</td>\n",
       "      <td>0.244000</td>\n",
       "      <td>0.764000</td>\n",
       "      <td>1.551860e+02</td>\n",
       "    </tr>\n",
       "    <tr>\n",
       "      <th>Number</th>\n",
       "      <td>1101431.0</td>\n",
       "      <td>8089.408114</td>\n",
       "      <td>18360.093995</td>\n",
       "      <td>0.000000</td>\n",
       "      <td>1270.000000</td>\n",
       "      <td>4007.000000</td>\n",
       "      <td>9567.000000</td>\n",
       "      <td>9.999997e+06</td>\n",
       "    </tr>\n",
       "    <tr>\n",
       "      <th>Temperature(F)</th>\n",
       "      <td>2776068.0</td>\n",
       "      <td>61.793556</td>\n",
       "      <td>18.622629</td>\n",
       "      <td>-89.000000</td>\n",
       "      <td>50.000000</td>\n",
       "      <td>64.000000</td>\n",
       "      <td>76.000000</td>\n",
       "      <td>1.960000e+02</td>\n",
       "    </tr>\n",
       "    <tr>\n",
       "      <th>Wind_Chill(F)</th>\n",
       "      <td>2375699.0</td>\n",
       "      <td>59.658231</td>\n",
       "      <td>21.160967</td>\n",
       "      <td>-89.000000</td>\n",
       "      <td>46.000000</td>\n",
       "      <td>63.000000</td>\n",
       "      <td>76.000000</td>\n",
       "      <td>1.960000e+02</td>\n",
       "    </tr>\n",
       "    <tr>\n",
       "      <th>Humidity(%)</th>\n",
       "      <td>2772250.0</td>\n",
       "      <td>64.365452</td>\n",
       "      <td>22.874568</td>\n",
       "      <td>1.000000</td>\n",
       "      <td>48.000000</td>\n",
       "      <td>67.000000</td>\n",
       "      <td>83.000000</td>\n",
       "      <td>1.000000e+02</td>\n",
       "    </tr>\n",
       "    <tr>\n",
       "      <th>Pressure(in)</th>\n",
       "      <td>2786142.0</td>\n",
       "      <td>29.472344</td>\n",
       "      <td>1.045286</td>\n",
       "      <td>0.000000</td>\n",
       "      <td>29.310000</td>\n",
       "      <td>29.820000</td>\n",
       "      <td>30.010000</td>\n",
       "      <td>5.890000e+01</td>\n",
       "    </tr>\n",
       "    <tr>\n",
       "      <th>Visibility(mi)</th>\n",
       "      <td>2774796.0</td>\n",
       "      <td>9.099391</td>\n",
       "      <td>2.717546</td>\n",
       "      <td>0.000000</td>\n",
       "      <td>10.000000</td>\n",
       "      <td>10.000000</td>\n",
       "      <td>10.000000</td>\n",
       "      <td>1.400000e+02</td>\n",
       "    </tr>\n",
       "    <tr>\n",
       "      <th>Wind_Speed(mph)</th>\n",
       "      <td>2687398.0</td>\n",
       "      <td>7.395044</td>\n",
       "      <td>5.527454</td>\n",
       "      <td>0.000000</td>\n",
       "      <td>3.500000</td>\n",
       "      <td>7.000000</td>\n",
       "      <td>10.000000</td>\n",
       "      <td>1.087000e+03</td>\n",
       "    </tr>\n",
       "    <tr>\n",
       "      <th>Precipitation(in)</th>\n",
       "      <td>2295884.0</td>\n",
       "      <td>0.007017</td>\n",
       "      <td>0.093488</td>\n",
       "      <td>0.000000</td>\n",
       "      <td>0.000000</td>\n",
       "      <td>0.000000</td>\n",
       "      <td>0.000000</td>\n",
       "      <td>2.400000e+01</td>\n",
       "    </tr>\n",
       "  </tbody>\n",
       "</table>\n",
       "</div>"
      ],
      "text/plain": [
       "                       count         mean           std         min  \\\n",
       "Severity           2845342.0     2.137572      0.478722    1.000000   \n",
       "Start_Lat          2845342.0    36.245201      5.363797   24.566027   \n",
       "Start_Lng          2845342.0   -97.114633     18.317819 -124.548074   \n",
       "End_Lat            2845342.0    36.245321      5.363873   24.566013   \n",
       "End_Lng            2845342.0   -97.114387     18.317632 -124.545748   \n",
       "Distance(mi)       2845342.0     0.702678      1.560361    0.000000   \n",
       "Number             1101431.0  8089.408114  18360.093995    0.000000   \n",
       "Temperature(F)     2776068.0    61.793556     18.622629  -89.000000   \n",
       "Wind_Chill(F)      2375699.0    59.658231     21.160967  -89.000000   \n",
       "Humidity(%)        2772250.0    64.365452     22.874568    1.000000   \n",
       "Pressure(in)       2786142.0    29.472344      1.045286    0.000000   \n",
       "Visibility(mi)     2774796.0     9.099391      2.717546    0.000000   \n",
       "Wind_Speed(mph)    2687398.0     7.395044      5.527454    0.000000   \n",
       "Precipitation(in)  2295884.0     0.007017      0.093488    0.000000   \n",
       "\n",
       "                           25%          50%          75%           max  \n",
       "Severity              2.000000     2.000000     2.000000  4.000000e+00  \n",
       "Start_Lat            33.445174    36.098609    40.160243  4.900058e+01  \n",
       "Start_Lng          -118.033113   -92.418076   -80.372431 -6.711317e+01  \n",
       "End_Lat              33.446278    36.097987    40.161049  4.907500e+01  \n",
       "End_Lng            -118.033331   -92.417718   -80.373383 -6.710924e+01  \n",
       "Distance(mi)          0.052000     0.244000     0.764000  1.551860e+02  \n",
       "Number             1270.000000  4007.000000  9567.000000  9.999997e+06  \n",
       "Temperature(F)       50.000000    64.000000    76.000000  1.960000e+02  \n",
       "Wind_Chill(F)        46.000000    63.000000    76.000000  1.960000e+02  \n",
       "Humidity(%)          48.000000    67.000000    83.000000  1.000000e+02  \n",
       "Pressure(in)         29.310000    29.820000    30.010000  5.890000e+01  \n",
       "Visibility(mi)       10.000000    10.000000    10.000000  1.400000e+02  \n",
       "Wind_Speed(mph)       3.500000     7.000000    10.000000  1.087000e+03  \n",
       "Precipitation(in)     0.000000     0.000000     0.000000  2.400000e+01  "
      ]
     },
     "execution_count": 8,
     "metadata": {},
     "output_type": "execute_result"
    }
   ],
   "source": [
    "#This method shows a statistical summary of the numerical attributes \n",
    "data.describe().T"
   ]
  },
  {
   "cell_type": "code",
   "execution_count": 9,
   "metadata": {},
   "outputs": [
    {
     "data": {
      "text/plain": [
       "ID                             0\n",
       "Severity                       0\n",
       "Start_Time                     0\n",
       "End_Time                       0\n",
       "Start_Lat                      0\n",
       "Start_Lng                      0\n",
       "End_Lat                        0\n",
       "End_Lng                        0\n",
       "Distance(mi)                   0\n",
       "Description                    0\n",
       "Number                   1743911\n",
       "Street                         2\n",
       "Side                           0\n",
       "City                         137\n",
       "County                         0\n",
       "State                          0\n",
       "Zipcode                     1319\n",
       "Country                        0\n",
       "Timezone                    3659\n",
       "Airport_Code                9549\n",
       "Weather_Timestamp          50736\n",
       "Temperature(F)             69274\n",
       "Wind_Chill(F)             469643\n",
       "Humidity(%)                73092\n",
       "Pressure(in)               59200\n",
       "Visibility(mi)             70546\n",
       "Wind_Direction             73775\n",
       "Wind_Speed(mph)           157944\n",
       "Precipitation(in)         549458\n",
       "Weather_Condition          70636\n",
       "Amenity                        0\n",
       "Bump                           0\n",
       "Crossing                       0\n",
       "Give_Way                       0\n",
       "Junction                       0\n",
       "No_Exit                        0\n",
       "Railway                        0\n",
       "Roundabout                     0\n",
       "Station                        0\n",
       "Stop                           0\n",
       "Traffic_Calming                0\n",
       "Traffic_Signal                 0\n",
       "Turning_Loop                   0\n",
       "Sunrise_Sunset              2867\n",
       "Civil_Twilight              2867\n",
       "Nautical_Twilight           2867\n",
       "Astronomical_Twilight       2867\n",
       "dtype: int64"
      ]
     },
     "execution_count": 9,
     "metadata": {},
     "output_type": "execute_result"
    }
   ],
   "source": [
    "data.isnull().sum()"
   ]
  },
  {
   "cell_type": "code",
   "execution_count": null,
   "metadata": {},
   "outputs": [],
   "source": []
  },
  {
   "cell_type": "markdown",
   "metadata": {
    "id": "DTWv5nPvhRrh"
   },
   "source": [
    "The count, mean, min, and max rows are self-explanatory. Note that the null values are ignored (so, for example, the count of total_bedrooms is 20,433, not 20,640).\n",
    "\n",
    "The 25%, 50%, and 75% rows show the corresponding percentiles: a percentile indicates the value below which a given percentage of observations in a group of observations fall."
   ]
  },
  {
   "cell_type": "code",
   "execution_count": 71,
   "metadata": {
    "colab": {
     "base_uri": "https://localhost:8080/",
     "height": 838
    },
    "id": "zL4M1klihRri",
    "outputId": "daab2804-eae7-421b-c2f3-4cc1fb38c6d0"
   },
   "outputs": [
    {
     "data": {
      "image/png": "[encoded data removed]",
      "text/plain": [
       "<Figure size 1440x1080 with 16 Axes>"
      ]
     },
     "metadata": {
      "needs_background": "light"
     },
     "output_type": "display_data"
    }
   ],
   "source": [
    "#To plot a histogram for each numerical attribute\n",
    "testData1.hist(bins=50, figsize=(20,15))\n",
    "plt.show()\n",
    "# Q4 List down the main observations you noted from the statistical summary and the histogram"
   ]
  },
  {
   "cell_type": "code",
   "execution_count": 11,
   "metadata": {},
   "outputs": [
    {
     "data": {
      "text/plain": [
       "11682"
      ]
     },
     "execution_count": 11,
     "metadata": {},
     "output_type": "execute_result"
    }
   ],
   "source": [
    "cities = data.City.unique()\n",
    "len(cities)"
   ]
  },
  {
   "cell_type": "raw",
   "metadata": {},
   "source": [
    "numOfAccidentsPerCity = data.City.value_counts()\n",
    "numOfAccidentsPerCity.head(20)"
   ]
  },
  {
   "cell_type": "code",
   "execution_count": 13,
   "metadata": {},
   "outputs": [
    {
     "data": {
      "text/html": [
       "<div>\n",
       "<style scoped>\n",
       "    .dataframe tbody tr th:only-of-type {\n",
       "        vertical-align: middle;\n",
       "    }\n",
       "\n",
       "    .dataframe tbody tr th {\n",
       "        vertical-align: top;\n",
       "    }\n",
       "\n",
       "    .dataframe thead th {\n",
       "        text-align: right;\n",
       "    }\n",
       "</style>\n",
       "<table border=\"1\" class=\"dataframe\">\n",
       "  <thead>\n",
       "    <tr style=\"text-align: right;\">\n",
       "      <th></th>\n",
       "      <th>Weather_Condition</th>\n",
       "      <th>Accidents</th>\n",
       "      <th>Percentage</th>\n",
       "    </tr>\n",
       "  </thead>\n",
       "  <tbody>\n",
       "    <tr>\n",
       "      <th>0</th>\n",
       "      <td>Fair</td>\n",
       "      <td>1107194</td>\n",
       "      <td>39.90</td>\n",
       "    </tr>\n",
       "    <tr>\n",
       "      <th>1</th>\n",
       "      <td>Mostly Cloudy</td>\n",
       "      <td>363959</td>\n",
       "      <td>13.12</td>\n",
       "    </tr>\n",
       "    <tr>\n",
       "      <th>2</th>\n",
       "      <td>Cloudy</td>\n",
       "      <td>348767</td>\n",
       "      <td>12.57</td>\n",
       "    </tr>\n",
       "    <tr>\n",
       "      <th>3</th>\n",
       "      <td>Partly Cloudy</td>\n",
       "      <td>249939</td>\n",
       "      <td>9.01</td>\n",
       "    </tr>\n",
       "    <tr>\n",
       "      <th>4</th>\n",
       "      <td>Clear</td>\n",
       "      <td>173823</td>\n",
       "      <td>6.26</td>\n",
       "    </tr>\n",
       "    <tr>\n",
       "      <th>5</th>\n",
       "      <td>Light Rain</td>\n",
       "      <td>128403</td>\n",
       "      <td>4.63</td>\n",
       "    </tr>\n",
       "    <tr>\n",
       "      <th>6</th>\n",
       "      <td>Overcast</td>\n",
       "      <td>84882</td>\n",
       "      <td>3.06</td>\n",
       "    </tr>\n",
       "    <tr>\n",
       "      <th>7</th>\n",
       "      <td>Scattered Clouds</td>\n",
       "      <td>45132</td>\n",
       "      <td>1.63</td>\n",
       "    </tr>\n",
       "    <tr>\n",
       "      <th>8</th>\n",
       "      <td>Light Snow</td>\n",
       "      <td>43752</td>\n",
       "      <td>1.58</td>\n",
       "    </tr>\n",
       "    <tr>\n",
       "      <th>9</th>\n",
       "      <td>Fog</td>\n",
       "      <td>41226</td>\n",
       "      <td>1.49</td>\n",
       "    </tr>\n",
       "  </tbody>\n",
       "</table>\n",
       "</div>"
      ],
      "text/plain": [
       "  Weather_Condition  Accidents  Percentage\n",
       "0              Fair    1107194       39.90\n",
       "1     Mostly Cloudy     363959       13.12\n",
       "2            Cloudy     348767       12.57\n",
       "3     Partly Cloudy     249939        9.01\n",
       "4             Clear     173823        6.26\n",
       "5        Light Rain     128403        4.63\n",
       "6          Overcast      84882        3.06\n",
       "7  Scattered Clouds      45132        1.63\n",
       "8        Light Snow      43752        1.58\n",
       "9               Fog      41226        1.49"
      ]
     },
     "execution_count": 13,
     "metadata": {},
     "output_type": "execute_result"
    }
   ],
   "source": [
    "Weatherconditions = data.Weather_Condition.value_counts().reset_index()\n",
    "Weatherconditions.columns = ['Weather_Condition','Accidents']\n",
    "Weatherconditions['Percentage'] = round(Weatherconditions['Accidents'] * 100 /Weatherconditions['Accidents'].sum() , 2)\n",
    "Weatherconditions.head(10)"
   ]
  },
  {
   "cell_type": "code",
   "execution_count": 14,
   "metadata": {},
   "outputs": [
    {
     "data": {
      "text/html": [
       "<div>\n",
       "<style scoped>\n",
       "    .dataframe tbody tr th:only-of-type {\n",
       "        vertical-align: middle;\n",
       "    }\n",
       "\n",
       "    .dataframe tbody tr th {\n",
       "        vertical-align: top;\n",
       "    }\n",
       "\n",
       "    .dataframe thead th {\n",
       "        text-align: right;\n",
       "    }\n",
       "</style>\n",
       "<table border=\"1\" class=\"dataframe\">\n",
       "  <thead>\n",
       "    <tr style=\"text-align: right;\">\n",
       "      <th></th>\n",
       "      <th>Severity</th>\n",
       "      <th>Accidents</th>\n",
       "      <th>Percentage</th>\n",
       "    </tr>\n",
       "  </thead>\n",
       "  <tbody>\n",
       "    <tr>\n",
       "      <th>0</th>\n",
       "      <td>2</td>\n",
       "      <td>2532991</td>\n",
       "      <td>89.02</td>\n",
       "    </tr>\n",
       "    <tr>\n",
       "      <th>1</th>\n",
       "      <td>3</td>\n",
       "      <td>155105</td>\n",
       "      <td>5.45</td>\n",
       "    </tr>\n",
       "    <tr>\n",
       "      <th>2</th>\n",
       "      <td>4</td>\n",
       "      <td>131193</td>\n",
       "      <td>4.61</td>\n",
       "    </tr>\n",
       "    <tr>\n",
       "      <th>3</th>\n",
       "      <td>1</td>\n",
       "      <td>26053</td>\n",
       "      <td>0.92</td>\n",
       "    </tr>\n",
       "  </tbody>\n",
       "</table>\n",
       "</div>"
      ],
      "text/plain": [
       "   Severity  Accidents  Percentage\n",
       "0         2    2532991       89.02\n",
       "1         3     155105        5.45\n",
       "2         4     131193        4.61\n",
       "3         1      26053        0.92"
      ]
     },
     "execution_count": 14,
     "metadata": {},
     "output_type": "execute_result"
    }
   ],
   "source": [
    "Severitycounts = data.Severity.value_counts().reset_index()\n",
    "Severitycounts.columns = ['Severity','Accidents']\n",
    "Severitycounts['Percentage'] = round(Severitycounts['Accidents'] * 100 /Severitycounts['Accidents'].sum() , 2)\n",
    "Severitycounts.head()"
   ]
  },
  {
   "cell_type": "code",
   "execution_count": 15,
   "metadata": {},
   "outputs": [],
   "source": [
    "table = data"
   ]
  },
  {
   "cell_type": "code",
   "execution_count": 67,
   "metadata": {},
   "outputs": [
    {
     "data": {
      "text/html": [
       "<div>\n",
       "<style scoped>\n",
       "    .dataframe tbody tr th:only-of-type {\n",
       "        vertical-align: middle;\n",
       "    }\n",
       "\n",
       "    .dataframe tbody tr th {\n",
       "        vertical-align: top;\n",
       "    }\n",
       "\n",
       "    .dataframe thead th {\n",
       "        text-align: right;\n",
       "    }\n",
       "</style>\n",
       "<table border=\"1\" class=\"dataframe\">\n",
       "  <thead>\n",
       "    <tr style=\"text-align: right;\">\n",
       "      <th></th>\n",
       "      <th>ID</th>\n",
       "      <th>Severity</th>\n",
       "      <th>Start_Time</th>\n",
       "      <th>End_Time</th>\n",
       "      <th>Start_Lat</th>\n",
       "      <th>Start_Lng</th>\n",
       "      <th>End_Lat</th>\n",
       "      <th>End_Lng</th>\n",
       "      <th>Distance(mi)</th>\n",
       "      <th>Description</th>\n",
       "      <th>...</th>\n",
       "      <th>Roundabout</th>\n",
       "      <th>Station</th>\n",
       "      <th>Stop</th>\n",
       "      <th>Traffic_Calming</th>\n",
       "      <th>Traffic_Signal</th>\n",
       "      <th>Turning_Loop</th>\n",
       "      <th>Sunrise_Sunset</th>\n",
       "      <th>Civil_Twilight</th>\n",
       "      <th>Nautical_Twilight</th>\n",
       "      <th>Astronomical_Twilight</th>\n",
       "    </tr>\n",
       "  </thead>\n",
       "  <tbody>\n",
       "    <tr>\n",
       "      <th>1735388</th>\n",
       "      <td>A-1735389</td>\n",
       "      <td>1</td>\n",
       "      <td>2020-08-03 14:35:16</td>\n",
       "      <td>2020-08-03 15:20:16</td>\n",
       "      <td>32.20676</td>\n",
       "      <td>-110.98050</td>\n",
       "      <td>32.20676</td>\n",
       "      <td>-110.98050</td>\n",
       "      <td>0.0</td>\n",
       "      <td>At I-10/Freeway - Accident.</td>\n",
       "      <td>...</td>\n",
       "      <td>False</td>\n",
       "      <td>False</td>\n",
       "      <td>True</td>\n",
       "      <td>False</td>\n",
       "      <td>True</td>\n",
       "      <td>False</td>\n",
       "      <td>Day</td>\n",
       "      <td>Day</td>\n",
       "      <td>Day</td>\n",
       "      <td>Day</td>\n",
       "    </tr>\n",
       "    <tr>\n",
       "      <th>1736991</th>\n",
       "      <td>A-1736992</td>\n",
       "      <td>1</td>\n",
       "      <td>2020-09-22 16:44:38</td>\n",
       "      <td>2020-09-22 17:29:38</td>\n",
       "      <td>32.38084</td>\n",
       "      <td>-110.96392</td>\n",
       "      <td>32.38084</td>\n",
       "      <td>-110.96392</td>\n",
       "      <td>0.0</td>\n",
       "      <td>At N 1st Ave - Accident.</td>\n",
       "      <td>...</td>\n",
       "      <td>False</td>\n",
       "      <td>False</td>\n",
       "      <td>False</td>\n",
       "      <td>False</td>\n",
       "      <td>True</td>\n",
       "      <td>False</td>\n",
       "      <td>Day</td>\n",
       "      <td>Day</td>\n",
       "      <td>Day</td>\n",
       "      <td>Day</td>\n",
       "    </tr>\n",
       "    <tr>\n",
       "      <th>1749719</th>\n",
       "      <td>A-1749720</td>\n",
       "      <td>1</td>\n",
       "      <td>2020-08-03 15:42:10</td>\n",
       "      <td>2020-08-03 15:57:10</td>\n",
       "      <td>41.37978</td>\n",
       "      <td>-81.99410</td>\n",
       "      <td>41.37978</td>\n",
       "      <td>-81.99410</td>\n",
       "      <td>0.0</td>\n",
       "      <td>At I-80 - Accident.</td>\n",
       "      <td>...</td>\n",
       "      <td>False</td>\n",
       "      <td>False</td>\n",
       "      <td>False</td>\n",
       "      <td>False</td>\n",
       "      <td>False</td>\n",
       "      <td>False</td>\n",
       "      <td>Day</td>\n",
       "      <td>Day</td>\n",
       "      <td>Day</td>\n",
       "      <td>Day</td>\n",
       "    </tr>\n",
       "    <tr>\n",
       "      <th>1751859</th>\n",
       "      <td>A-1751860</td>\n",
       "      <td>1</td>\n",
       "      <td>2020-09-22 16:29:33</td>\n",
       "      <td>2020-09-22 17:14:33</td>\n",
       "      <td>33.63950</td>\n",
       "      <td>-112.13436</td>\n",
       "      <td>33.63950</td>\n",
       "      <td>-112.13436</td>\n",
       "      <td>0.0</td>\n",
       "      <td>At N 35th Ave - Accident.</td>\n",
       "      <td>...</td>\n",
       "      <td>False</td>\n",
       "      <td>False</td>\n",
       "      <td>False</td>\n",
       "      <td>False</td>\n",
       "      <td>True</td>\n",
       "      <td>False</td>\n",
       "      <td>Day</td>\n",
       "      <td>Day</td>\n",
       "      <td>Day</td>\n",
       "      <td>Day</td>\n",
       "    </tr>\n",
       "    <tr>\n",
       "      <th>1753408</th>\n",
       "      <td>A-1753409</td>\n",
       "      <td>1</td>\n",
       "      <td>2020-08-03 13:41:01</td>\n",
       "      <td>2020-08-03 13:56:01</td>\n",
       "      <td>38.08320</td>\n",
       "      <td>-122.11450</td>\n",
       "      <td>38.08320</td>\n",
       "      <td>-122.11450</td>\n",
       "      <td>0.0</td>\n",
       "      <td>At Lake Herman Rd - Accident. Hard shoulder bl...</td>\n",
       "      <td>...</td>\n",
       "      <td>False</td>\n",
       "      <td>False</td>\n",
       "      <td>False</td>\n",
       "      <td>False</td>\n",
       "      <td>False</td>\n",
       "      <td>False</td>\n",
       "      <td>Day</td>\n",
       "      <td>Day</td>\n",
       "      <td>Day</td>\n",
       "      <td>Day</td>\n",
       "    </tr>\n",
       "    <tr>\n",
       "      <th>...</th>\n",
       "      <td>...</td>\n",
       "      <td>...</td>\n",
       "      <td>...</td>\n",
       "      <td>...</td>\n",
       "      <td>...</td>\n",
       "      <td>...</td>\n",
       "      <td>...</td>\n",
       "      <td>...</td>\n",
       "      <td>...</td>\n",
       "      <td>...</td>\n",
       "      <td>...</td>\n",
       "      <td>...</td>\n",
       "      <td>...</td>\n",
       "      <td>...</td>\n",
       "      <td>...</td>\n",
       "      <td>...</td>\n",
       "      <td>...</td>\n",
       "      <td>...</td>\n",
       "      <td>...</td>\n",
       "      <td>...</td>\n",
       "      <td>...</td>\n",
       "    </tr>\n",
       "    <tr>\n",
       "      <th>2355619</th>\n",
       "      <td>A-2355620</td>\n",
       "      <td>1</td>\n",
       "      <td>2020-02-28 16:40:00</td>\n",
       "      <td>2020-02-28 19:00:00</td>\n",
       "      <td>35.72694</td>\n",
       "      <td>-81.56068</td>\n",
       "      <td>35.72694</td>\n",
       "      <td>-81.56068</td>\n",
       "      <td>0.0</td>\n",
       "      <td>At Milestone Avenue - Accident. Hard shoulder ...</td>\n",
       "      <td>...</td>\n",
       "      <td>False</td>\n",
       "      <td>False</td>\n",
       "      <td>False</td>\n",
       "      <td>False</td>\n",
       "      <td>False</td>\n",
       "      <td>False</td>\n",
       "      <td>Day</td>\n",
       "      <td>Day</td>\n",
       "      <td>Day</td>\n",
       "      <td>Day</td>\n",
       "    </tr>\n",
       "    <tr>\n",
       "      <th>2355621</th>\n",
       "      <td>A-2355622</td>\n",
       "      <td>1</td>\n",
       "      <td>2020-02-28 17:51:00</td>\n",
       "      <td>2020-02-28 20:51:00</td>\n",
       "      <td>35.37480</td>\n",
       "      <td>-80.70915</td>\n",
       "      <td>35.37480</td>\n",
       "      <td>-80.70915</td>\n",
       "      <td>0.0</td>\n",
       "      <td>At Bruton Smith Blvd - Accident. Two lanes clo...</td>\n",
       "      <td>...</td>\n",
       "      <td>False</td>\n",
       "      <td>False</td>\n",
       "      <td>False</td>\n",
       "      <td>False</td>\n",
       "      <td>False</td>\n",
       "      <td>False</td>\n",
       "      <td>Day</td>\n",
       "      <td>Day</td>\n",
       "      <td>Day</td>\n",
       "      <td>Day</td>\n",
       "    </tr>\n",
       "    <tr>\n",
       "      <th>2355622</th>\n",
       "      <td>A-2355623</td>\n",
       "      <td>1</td>\n",
       "      <td>2020-02-28 17:57:00</td>\n",
       "      <td>2020-02-28 19:57:00</td>\n",
       "      <td>35.77494</td>\n",
       "      <td>-78.71344</td>\n",
       "      <td>35.77494</td>\n",
       "      <td>-78.71344</td>\n",
       "      <td>0.0</td>\n",
       "      <td>At Western Blvd - Accident. Left lane closed.</td>\n",
       "      <td>...</td>\n",
       "      <td>False</td>\n",
       "      <td>False</td>\n",
       "      <td>False</td>\n",
       "      <td>False</td>\n",
       "      <td>False</td>\n",
       "      <td>False</td>\n",
       "      <td>Day</td>\n",
       "      <td>Day</td>\n",
       "      <td>Day</td>\n",
       "      <td>Day</td>\n",
       "    </tr>\n",
       "    <tr>\n",
       "      <th>2355623</th>\n",
       "      <td>A-2355624</td>\n",
       "      <td>1</td>\n",
       "      <td>2020-02-28 18:24:00</td>\n",
       "      <td>2020-02-28 20:43:58</td>\n",
       "      <td>35.76414</td>\n",
       "      <td>-78.74048</td>\n",
       "      <td>35.76414</td>\n",
       "      <td>-78.74048</td>\n",
       "      <td>0.0</td>\n",
       "      <td>At I -40 - Accident. Right lane closed.</td>\n",
       "      <td>...</td>\n",
       "      <td>False</td>\n",
       "      <td>False</td>\n",
       "      <td>False</td>\n",
       "      <td>False</td>\n",
       "      <td>False</td>\n",
       "      <td>False</td>\n",
       "      <td>Night</td>\n",
       "      <td>Day</td>\n",
       "      <td>Day</td>\n",
       "      <td>Day</td>\n",
       "    </tr>\n",
       "    <tr>\n",
       "      <th>2355652</th>\n",
       "      <td>A-2355653</td>\n",
       "      <td>1</td>\n",
       "      <td>2020-02-28 14:11:00</td>\n",
       "      <td>2020-02-28 16:11:00</td>\n",
       "      <td>34.53544</td>\n",
       "      <td>-79.24812</td>\n",
       "      <td>34.53544</td>\n",
       "      <td>-79.24812</td>\n",
       "      <td>0.0</td>\n",
       "      <td>At NC-130 - Accident. Hard shoulder closed.</td>\n",
       "      <td>...</td>\n",
       "      <td>False</td>\n",
       "      <td>False</td>\n",
       "      <td>False</td>\n",
       "      <td>False</td>\n",
       "      <td>False</td>\n",
       "      <td>False</td>\n",
       "      <td>Day</td>\n",
       "      <td>Day</td>\n",
       "      <td>Day</td>\n",
       "      <td>Day</td>\n",
       "    </tr>\n",
       "  </tbody>\n",
       "</table>\n",
       "<p>26053 rows × 47 columns</p>\n",
       "</div>"
      ],
      "text/plain": [
       "                ID  Severity           Start_Time             End_Time  \\\n",
       "1735388  A-1735389         1  2020-08-03 14:35:16  2020-08-03 15:20:16   \n",
       "1736991  A-1736992         1  2020-09-22 16:44:38  2020-09-22 17:29:38   \n",
       "1749719  A-1749720         1  2020-08-03 15:42:10  2020-08-03 15:57:10   \n",
       "1751859  A-1751860         1  2020-09-22 16:29:33  2020-09-22 17:14:33   \n",
       "1753408  A-1753409         1  2020-08-03 13:41:01  2020-08-03 13:56:01   \n",
       "...            ...       ...                  ...                  ...   \n",
       "2355619  A-2355620         1  2020-02-28 16:40:00  2020-02-28 19:00:00   \n",
       "2355621  A-2355622         1  2020-02-28 17:51:00  2020-02-28 20:51:00   \n",
       "2355622  A-2355623         1  2020-02-28 17:57:00  2020-02-28 19:57:00   \n",
       "2355623  A-2355624         1  2020-02-28 18:24:00  2020-02-28 20:43:58   \n",
       "2355652  A-2355653         1  2020-02-28 14:11:00  2020-02-28 16:11:00   \n",
       "\n",
       "         Start_Lat  Start_Lng   End_Lat    End_Lng  Distance(mi)  \\\n",
       "1735388   32.20676 -110.98050  32.20676 -110.98050           0.0   \n",
       "1736991   32.38084 -110.96392  32.38084 -110.96392           0.0   \n",
       "1749719   41.37978  -81.99410  41.37978  -81.99410           0.0   \n",
       "1751859   33.63950 -112.13436  33.63950 -112.13436           0.0   \n",
       "1753408   38.08320 -122.11450  38.08320 -122.11450           0.0   \n",
       "...            ...        ...       ...        ...           ...   \n",
       "2355619   35.72694  -81.56068  35.72694  -81.56068           0.0   \n",
       "2355621   35.37480  -80.70915  35.37480  -80.70915           0.0   \n",
       "2355622   35.77494  -78.71344  35.77494  -78.71344           0.0   \n",
       "2355623   35.76414  -78.74048  35.76414  -78.74048           0.0   \n",
       "2355652   34.53544  -79.24812  34.53544  -79.24812           0.0   \n",
       "\n",
       "                                               Description  ...  Roundabout  \\\n",
       "1735388                        At I-10/Freeway - Accident.  ...       False   \n",
       "1736991                           At N 1st Ave - Accident.  ...       False   \n",
       "1749719                                At I-80 - Accident.  ...       False   \n",
       "1751859                          At N 35th Ave - Accident.  ...       False   \n",
       "1753408  At Lake Herman Rd - Accident. Hard shoulder bl...  ...       False   \n",
       "...                                                    ...  ...         ...   \n",
       "2355619  At Milestone Avenue - Accident. Hard shoulder ...  ...       False   \n",
       "2355621  At Bruton Smith Blvd - Accident. Two lanes clo...  ...       False   \n",
       "2355622      At Western Blvd - Accident. Left lane closed.  ...       False   \n",
       "2355623            At I -40 - Accident. Right lane closed.  ...       False   \n",
       "2355652        At NC-130 - Accident. Hard shoulder closed.  ...       False   \n",
       "\n",
       "        Station   Stop Traffic_Calming Traffic_Signal Turning_Loop  \\\n",
       "1735388   False   True           False           True        False   \n",
       "1736991   False  False           False           True        False   \n",
       "1749719   False  False           False          False        False   \n",
       "1751859   False  False           False           True        False   \n",
       "1753408   False  False           False          False        False   \n",
       "...         ...    ...             ...            ...          ...   \n",
       "2355619   False  False           False          False        False   \n",
       "2355621   False  False           False          False        False   \n",
       "2355622   False  False           False          False        False   \n",
       "2355623   False  False           False          False        False   \n",
       "2355652   False  False           False          False        False   \n",
       "\n",
       "        Sunrise_Sunset Civil_Twilight Nautical_Twilight Astronomical_Twilight  \n",
       "1735388            Day            Day               Day                   Day  \n",
       "1736991            Day            Day               Day                   Day  \n",
       "1749719            Day            Day               Day                   Day  \n",
       "1751859            Day            Day               Day                   Day  \n",
       "1753408            Day            Day               Day                   Day  \n",
       "...                ...            ...               ...                   ...  \n",
       "2355619            Day            Day               Day                   Day  \n",
       "2355621            Day            Day               Day                   Day  \n",
       "2355622            Day            Day               Day                   Day  \n",
       "2355623          Night            Day               Day                   Day  \n",
       "2355652            Day            Day               Day                   Day  \n",
       "\n",
       "[26053 rows x 47 columns]"
      ]
     },
     "execution_count": 67,
     "metadata": {},
     "output_type": "execute_result"
    }
   ],
   "source": [
    "testData1"
   ]
  },
  {
   "cell_type": "markdown",
   "metadata": {
    "id": "vGnSGS0whRrj"
   },
   "source": [
    "# Correlations and Visualizations\n"
   ]
  },
  {
   "cell_type": "code",
   "execution_count": 70,
   "metadata": {
    "id": "mPFFmODqhRrm",
    "scrolled": true
   },
   "outputs": [
    {
     "data": {
      "text/plain": [
       "Distance(mi)         1.000000\n",
       "Number               0.084718\n",
       "Humidity(%)          0.025667\n",
       "Pressure(in)         0.014205\n",
       "Start_Lng            0.011481\n",
       "End_Lng              0.011386\n",
       "Junction             0.007723\n",
       "Precipitation(in)    0.001374\n",
       "Roundabout          -0.000174\n",
       "Bump                -0.002713\n",
       "Stop                -0.003294\n",
       "Traffic_Calming     -0.003815\n",
       "End_Lat             -0.003923\n",
       "Start_Lat           -0.004113\n",
       "Give_Way            -0.008780\n",
       "No_Exit             -0.008867\n",
       "Wind_Speed(mph)     -0.009013\n",
       "Railway             -0.016915\n",
       "Visibility(mi)      -0.020212\n",
       "Temperature(F)      -0.021720\n",
       "Amenity             -0.022696\n",
       "Station             -0.038526\n",
       "Wind_Chill(F)       -0.045762\n",
       "Crossing            -0.061814\n",
       "Traffic_Signal      -0.100755\n",
       "Severity                  NaN\n",
       "Turning_Loop              NaN\n",
       "Name: Distance(mi), dtype: float64"
      ]
     },
     "execution_count": 70,
     "metadata": {},
     "output_type": "execute_result"
    }
   ],
   "source": [
    "# Now we will look at the correlation of all the attributes with the expected class attribute (median-house-value)\n",
    "corr_matrix = testData3.corr() # computes the standard correlation coefficient (Pearson’s r) between every pair of attributes\n",
    "corr_matrix[\"Distance(mi)\"].sort_values(ascending=False)"
   ]
  },
  {
   "cell_type": "code",
   "execution_count": 17,
   "metadata": {},
   "outputs": [
    {
     "data": {
      "text/plain": [
       "<AxesSubplot:>"
      ]
     },
     "execution_count": 17,
     "metadata": {},
     "output_type": "execute_result"
    },
    {
     "data": {
      "image/png": "[encoded data removed]",
      "text/plain": [
       "<Figure size 432x288 with 1 Axes>"
      ]
     },
     "metadata": {
      "needs_background": "light"
     },
     "output_type": "display_data"
    }
   ],
   "source": [
    "numOfAccidentsPerCity[:20].plot(kind = 'barh')"
   ]
  },
  {
   "cell_type": "code",
   "execution_count": 18,
   "metadata": {},
   "outputs": [
    {
     "ename": "NameError",
     "evalue": "name 'Weathertypes' is not defined",
     "output_type": "error",
     "traceback": [
      "\u001b[1;31m---------------------------------------------------------------------------\u001b[0m",
      "\u001b[1;31mNameError\u001b[0m                                 Traceback (most recent call last)",
      "\u001b[1;32m<ipython-input-18-12500ffc134f>\u001b[0m in \u001b[0;36m<module>\u001b[1;34m\u001b[0m\n\u001b[1;32m----> 1\u001b[1;33m \u001b[0mWeathertypes\u001b[0m\u001b[1;33m[\u001b[0m\u001b[1;33m:\u001b[0m\u001b[1;36m20\u001b[0m\u001b[1;33m]\u001b[0m\u001b[1;33m.\u001b[0m\u001b[0mplot\u001b[0m\u001b[1;33m(\u001b[0m\u001b[0mkind\u001b[0m \u001b[1;33m=\u001b[0m \u001b[1;34m'barh'\u001b[0m\u001b[1;33m)\u001b[0m\u001b[1;33m\u001b[0m\u001b[1;33m\u001b[0m\u001b[0m\n\u001b[0m",
      "\u001b[1;31mNameError\u001b[0m: name 'Weathertypes' is not defined"
     ]
    }
   ],
   "source": [
    "Weathertypes[:20].plot(kind = 'barh')"
   ]
  },
  {
   "cell_type": "code",
   "execution_count": null,
   "metadata": {
    "colab": {
     "base_uri": "https://localhost:8080/"
    },
    "id": "HL9bYSdZhRrn",
    "outputId": "6983d728-179b-4c9e-91c0-8bf7f6b40839"
   },
   "outputs": [],
   "source": [
    "corr_matrix[\"Severity\"].sort_values(ascending=False)\n",
    "# Most correlated attributes to Severity"
   ]
  },
  {
   "cell_type": "code",
   "execution_count": 75,
   "metadata": {
    "colab": {
     "base_uri": "https://localhost:8080/",
     "height": 807
    },
    "id": "pM2GqEYNhRrn",
    "outputId": "7e6339f4-456d-4854-909e-c2e9023f1501",
    "scrolled": true
   },
   "outputs": [
    {
     "data": {
      "text/plain": [
       "array([[<AxesSubplot:xlabel='Severity', ylabel='Severity'>,\n",
       "        <AxesSubplot:xlabel='Distance(mi)', ylabel='Severity'>,\n",
       "        <AxesSubplot:xlabel='Wind_Chill(F)', ylabel='Severity'>],\n",
       "       [<AxesSubplot:xlabel='Severity', ylabel='Distance(mi)'>,\n",
       "        <AxesSubplot:xlabel='Distance(mi)', ylabel='Distance(mi)'>,\n",
       "        <AxesSubplot:xlabel='Wind_Chill(F)', ylabel='Distance(mi)'>],\n",
       "       [<AxesSubplot:xlabel='Severity', ylabel='Wind_Chill(F)'>,\n",
       "        <AxesSubplot:xlabel='Distance(mi)', ylabel='Wind_Chill(F)'>,\n",
       "        <AxesSubplot:xlabel='Wind_Chill(F)', ylabel='Wind_Chill(F)'>]],\n",
       "      dtype=object)"
      ]
     },
     "execution_count": 75,
     "metadata": {},
     "output_type": "execute_result"
    },
    {
     "data": {
      "image/png": "[encoded data removed]",
      "text/plain": [
       "<Figure size 864x576 with 9 Axes>"
      ]
     },
     "metadata": {
      "needs_background": "light"
     },
     "output_type": "display_data"
    }
   ],
   "source": [
    "from pandas.plotting import scatter_matrix\n",
    "\n",
    "attributes = [\"Severity\",\"Distance(mi)\",\"Wind_Chill(F)\"]\n",
    "scatter_matrix(testData1[attributes], figsize=(12, 8))\n",
    "# Another way to check for correlation between attributes is to use the pandas scatter_matrix() function above\n",
    "# Here we choose to plot 4 promising  numerical attributes against each other\n"
   ]
  },
  {
   "cell_type": "code",
   "execution_count": null,
   "metadata": {},
   "outputs": [],
   "source": [
    "plt.figure(figsize=(12,8))\n",
    "sns.boxplot(x=\"Severity\", y=\"Humidity(%)\", data=data)\n",
    "plt.ylabel('Humidity(%)', fontsize=12)\n",
    "plt.xlabel('Severity', fontsize=12)\n",
    "plt.xticks(rotation='vertical')\n",
    "plt.show()\n"
   ]
  },
  {
   "cell_type": "code",
   "execution_count": null,
   "metadata": {},
   "outputs": [],
   "source": [
    "plt.figure(figsize=(12,8))\n",
    "sns.boxplot(x=\"Severity\", y=\"Temperature(F)\", data=data)\n",
    "plt.ylabel('Temperature(Farenheit)', fontsize=10)\n",
    "plt.xlabel('Severity', fontsize=10)\n",
    "plt.xticks(rotation='vertical')\n",
    "plt.show()"
   ]
  },
  {
   "cell_type": "code",
   "execution_count": null,
   "metadata": {},
   "outputs": [],
   "source": [
    "plt.figure(figsize=(12,8))\n",
    "sns.boxplot(x=\"Severity\", y=\"Wind_Chill(F)\", data=data)\n",
    "plt.ylabel('Wind_Chill(F)', fontsize=10)\n",
    "plt.xlabel('Severity', fontsize=10)\n",
    "plt.xticks(rotation='vertical')\n",
    "plt.show()"
   ]
  },
  {
   "cell_type": "markdown",
   "metadata": {},
   "source": [
    "# Analyzing most correlating features (Lab3, week4)"
   ]
  },
  {
   "cell_type": "code",
   "execution_count": 9,
   "metadata": {
    "scrolled": true
   },
   "outputs": [
    {
     "name": "stdout",
     "output_type": "stream",
     "text": [
      "After changing 2,3,4 to 99\n",
      "0    2690237\n",
      "3     155105\n",
      "Name: Severity, dtype: int64\n"
     ]
    }
   ],
   "source": [
    "#print(data[\"Severity\"][:50])\n",
    "#2 dataset 1: top features for each class\n",
    "testData1 = data.copy()\n",
    "testData2 = data.copy()\n",
    "testData3 = data.copy()\n",
    "testData4 = data.copy()\n",
    "\n",
    "\n",
    "#print(\"After changing 2 to 99\")\n",
    "#for index, row in testData.iloc[:50].iterrows():\n",
    "#    if row[\"Severity\"] == 99:\n",
    "#        #print(row[\"Severity\"])\n",
    "#        testData.at[index,\"Severity\"] = 2\n",
    "#print(testData[\"Severity\"][:50])\n",
    "\n",
    "#Most correlating features for each label\n",
    "#label 0, keep 0 as 0 and change all other values to null\n",
    "print(\"After changing 2,3,4 to 99\")\n",
    "\n",
    "testData1['Severity'] = testData1['Severity'].replace([2],0)\n",
    "testData1['Severity'] = testData1['Severity'].replace([3],0)\n",
    "testData1['Severity'] = testData1['Severity'].replace([4],0)\n",
    "\n",
    "testData2['Severity'] = testData2['Severity'].replace([1],0)\n",
    "testData2['Severity'] = testData2['Severity'].replace([3],0)\n",
    "testData2['Severity'] = testData2['Severity'].replace([4],0)\n",
    "\n",
    "testData3['Severity'] = testData3['Severity'].replace([1],0)\n",
    "testData3['Severity'] = testData3['Severity'].replace([4],0)\n",
    "testData3['Severity'] = testData3['Severity'].replace([2],0)\n",
    "\n",
    "testData4['Severity'] = testData4['Severity'].replace([1],0)\n",
    "testData4['Severity'] = testData4['Severity'].replace([3],0)\n",
    "testData4['Severity'] = testData4['Severity'].replace([2],0)\n",
    "\n",
    "#for index, row in testData0.iterrows():\n",
    "#    if row[\"Severity\"] != 0:\n",
    "#        #print(row[\"Severity\"])\n",
    "#        #currValue = row[\"Severity\"]\n",
    "#        #currIndex = index\n",
    "#        #testData0.at[\"Severity\"] = 99\n",
    "#        #print(\"Changed\")\n",
    "#        #print(currValue)\n",
    "#        testdata0['Severity'] = test['column name'].replace(['old value'],'new value')\n",
    "print(testData3[\"Severity\"].value_counts())\n"
   ]
  },
  {
   "cell_type": "code",
   "execution_count": 10,
   "metadata": {},
   "outputs": [],
   "source": [
    "#testData1 = testData1.loc[testData1[\"Severity\"] !=99 ]\n",
    "#testData2 = testData2.loc[testData2[\"Severity\"] !=99 ]\n",
    "#testData3 = testData3.loc[testData3[\"Severity\"] !=99 ]\n",
    "#testData4 = testData4.loc[testData4[\"Severity\"] !=99 ]\n",
    "#print(testData1[\"Severity\"].value_counts())\n",
    "#print(testData2[\"Severity\"].value_counts())\n",
    "#print(testData3[\"Severity\"].value_counts())\n",
    "#print(testData4[\"Severity\"].value_counts())\n"
   ]
  },
  {
   "cell_type": "code",
   "execution_count": 23,
   "metadata": {},
   "outputs": [
    {
     "data": {
      "text/plain": [
       "Severity             1.000000\n",
       "Traffic_Signal       0.120816\n",
       "Crossing             0.098200\n",
       "Wind_Chill(F)        0.055563\n",
       "Temperature(F)       0.049163\n",
       "Wind_Speed(mph)      0.017663\n",
       "Visibility(mi)       0.015361\n",
       "Railway              0.013699\n",
       "No_Exit              0.012042\n",
       "Amenity              0.010831\n",
       "Station              0.009867\n",
       "Give_Way             0.006776\n",
       "Stop                 0.002168\n",
       "Traffic_Calming      0.001704\n",
       "Bump                 0.000517\n",
       "Roundabout           0.000490\n",
       "Precipitation(in)   -0.001735\n",
       "Junction            -0.004765\n",
       "End_Lat             -0.009715\n",
       "Start_Lat           -0.009717\n",
       "Number              -0.015495\n",
       "Start_Lng           -0.021186\n",
       "End_Lng             -0.021187\n",
       "Distance(mi)        -0.030796\n",
       "Pressure(in)        -0.042321\n",
       "Humidity(%)         -0.060888\n",
       "Turning_Loop              NaN\n",
       "Name: Severity, dtype: float64"
      ]
     },
     "execution_count": 23,
     "metadata": {},
     "output_type": "execute_result"
    }
   ],
   "source": [
    "#print(testData1)\n",
    "corr_matrix_data1 = testData1.corr()\n",
    "corr_matrix_data1[\"Severity\"].sort_values(ascending=False)"
   ]
  },
  {
   "cell_type": "code",
   "execution_count": 12,
   "metadata": {},
   "outputs": [
    {
     "data": {
      "text/plain": [
       "Severity             1.000000\n",
       "Wind_Chill(F)        0.057926\n",
       "Station              0.013222\n",
       "Temperature(F)       0.011472\n",
       "Number               0.009230\n",
       "Stop                 0.007029\n",
       "Bump                 0.003507\n",
       "Traffic_Calming      0.002106\n",
       "Roundabout           0.000770\n",
       "Amenity              0.000508\n",
       "Humidity(%)         -0.000087\n",
       "No_Exit             -0.003870\n",
       "Railway             -0.005906\n",
       "Crossing            -0.010319\n",
       "Give_Way            -0.010517\n",
       "Precipitation(in)   -0.016908\n",
       "Visibility(mi)      -0.020936\n",
       "Pressure(in)        -0.022967\n",
       "Traffic_Signal      -0.049457\n",
       "Distance(mi)        -0.051789\n",
       "Junction            -0.061190\n",
       "Wind_Speed(mph)     -0.069599\n",
       "Start_Lat           -0.082253\n",
       "End_Lat             -0.082255\n",
       "Start_Lng           -0.096864\n",
       "End_Lng             -0.096864\n",
       "Turning_Loop              NaN\n",
       "Name: Severity, dtype: float64"
      ]
     },
     "execution_count": 12,
     "metadata": {},
     "output_type": "execute_result"
    }
   ],
   "source": [
    "corr_matrix_data2 = testData2.corr()\n",
    "corr_matrix_data2[\"Severity\"].sort_values(ascending=False)"
   ]
  },
  {
   "cell_type": "code",
   "execution_count": 13,
   "metadata": {},
   "outputs": [
    {
     "data": {
      "text/plain": [
       "Severity             1.000000\n",
       "Junction             0.077665\n",
       "Wind_Speed(mph)      0.067089\n",
       "Start_Lng            0.052905\n",
       "End_Lng              0.052904\n",
       "End_Lat              0.050645\n",
       "Start_Lat            0.050644\n",
       "Pressure(in)         0.024320\n",
       "Visibility(mi)       0.022633\n",
       "Precipitation(in)    0.021727\n",
       "Traffic_Signal       0.011123\n",
       "Give_Way             0.003269\n",
       "Railway              0.002707\n",
       "Temperature(F)       0.001644\n",
       "No_Exit              0.000476\n",
       "Roundabout          -0.001108\n",
       "Number              -0.001293\n",
       "Traffic_Calming     -0.001599\n",
       "Humidity(%)         -0.002263\n",
       "Bump                -0.002424\n",
       "Amenity             -0.006726\n",
       "Station             -0.010841\n",
       "Distance(mi)        -0.012905\n",
       "Stop                -0.016740\n",
       "Crossing            -0.020573\n",
       "Wind_Chill(F)       -0.045307\n",
       "Turning_Loop              NaN\n",
       "Name: Severity, dtype: float64"
      ]
     },
     "execution_count": 13,
     "metadata": {},
     "output_type": "execute_result"
    }
   ],
   "source": [
    "corr_matrix_data3 = testData3.corr()\n",
    "corr_matrix_data3[\"Severity\"].sort_values(ascending=False)"
   ]
  },
  {
   "cell_type": "code",
   "execution_count": 14,
   "metadata": {},
   "outputs": [
    {
     "data": {
      "text/plain": [
       "Severity             1.000000\n",
       "Distance(mi)         0.105154\n",
       "End_Lng              0.096740\n",
       "Start_Lng            0.096739\n",
       "End_Lat              0.072199\n",
       "Start_Lat            0.072197\n",
       "Humidity(%)          0.030482\n",
       "Pressure(in)         0.027250\n",
       "Wind_Speed(mph)      0.023178\n",
       "Junction             0.009301\n",
       "Give_Way             0.009061\n",
       "Traffic_Signal       0.006809\n",
       "Stop                 0.006659\n",
       "Precipitation(in)    0.004258\n",
       "Amenity              0.001604\n",
       "Roundabout          -0.000171\n",
       "No_Exit             -0.000215\n",
       "Visibility(mi)      -0.000347\n",
       "Railway             -0.000348\n",
       "Traffic_Calming     -0.002183\n",
       "Bump                -0.002838\n",
       "Number              -0.003758\n",
       "Crossing            -0.006948\n",
       "Station             -0.012455\n",
       "Temperature(F)      -0.041443\n",
       "Wind_Chill(F)       -0.073010\n",
       "Turning_Loop              NaN\n",
       "Name: Severity, dtype: float64"
      ]
     },
     "execution_count": 14,
     "metadata": {},
     "output_type": "execute_result"
    }
   ],
   "source": [
    "corr_matrix_data4 = testData4.corr()\n",
    "corr_matrix_data4[\"Severity\"].sort_values(ascending=False)"
   ]
  },
  {
   "cell_type": "code",
   "execution_count": 33,
   "metadata": {},
   "outputs": [
    {
     "name": "stdout",
     "output_type": "stream",
     "text": [
      "         Severity Traffic_Signal  Humidity(%)  Wind_Chill(F)  Wind_Speed(mph)\n",
      "0             0.0          False         58.0            NaN              NaN\n",
      "1             0.0          False         91.0            NaN              NaN\n",
      "2             0.0          False         97.0            NaN              NaN\n",
      "3             0.0          False         55.0            NaN              NaN\n",
      "4             0.0          False         93.0            NaN              NaN\n",
      "...           ...            ...          ...            ...              ...\n",
      "2845337       NaN            NaN          NaN           86.0             13.0\n",
      "2845338       NaN            NaN          NaN           70.0              6.0\n",
      "2845339       NaN            NaN          NaN           73.0             10.0\n",
      "2845340       NaN            NaN          NaN           71.0              8.0\n",
      "2845341       NaN            NaN          NaN           79.0              7.0\n",
      "\n",
      "[5690684 rows x 5 columns]\n"
     ]
    }
   ],
   "source": [
    "#Seperating the data\n",
    "\n",
    "#ds1 = top 2 features(top and bottom) of each of the 4 labels: 4x2= 8 attributes total\n",
    "\n",
    "dataSet1 = pd.DataFrame(testData1, columns=['Severity','Traffic_Signal','Humidity(%)'])\n",
    "#Do we include serevity?\n",
    "dataSet1 = pd.concat([dataSet1, pd.DataFrame.from_records(pd.DataFrame(testData2, columns=['Wind_Chill(F)','Wind_Speed(mph)']))])\n",
    "#dataSet1\n",
    "#dataSet1 = dataSet1.concat(pd.DataFrame(testData2, columns=['Wind_Chill(F)','Wind_Speed(mph)']))\n",
    "print(dataSet1)\n",
    "#Check severity label count ie, how many 1,2,3,4 are there"
   ]
  },
  {
   "cell_type": "markdown",
   "metadata": {
    "id": "w1FkaLeIhRrp"
   },
   "source": [
    "# Experimenting with Attribute Combinations"
   ]
  },
  {
   "cell_type": "code",
   "execution_count": 27,
   "metadata": {
    "id": "DweFnW83hRrq"
   },
   "outputs": [
    {
     "data": {
      "text/html": [
       "<div>\n",
       "<style scoped>\n",
       "    .dataframe tbody tr th:only-of-type {\n",
       "        vertical-align: middle;\n",
       "    }\n",
       "\n",
       "    .dataframe tbody tr th {\n",
       "        vertical-align: top;\n",
       "    }\n",
       "\n",
       "    .dataframe thead th {\n",
       "        text-align: right;\n",
       "    }\n",
       "</style>\n",
       "<table border=\"1\" class=\"dataframe\">\n",
       "  <thead>\n",
       "    <tr style=\"text-align: right;\">\n",
       "      <th></th>\n",
       "      <th>ID</th>\n",
       "      <th>Severity</th>\n",
       "      <th>Start_Time</th>\n",
       "      <th>End_Time</th>\n",
       "      <th>Start_Lat</th>\n",
       "      <th>Start_Lng</th>\n",
       "      <th>End_Lat</th>\n",
       "      <th>End_Lng</th>\n",
       "      <th>Distance(mi)</th>\n",
       "      <th>Description</th>\n",
       "      <th>...</th>\n",
       "      <th>Stop</th>\n",
       "      <th>Traffic_Calming</th>\n",
       "      <th>Traffic_Signal</th>\n",
       "      <th>Turning_Loop</th>\n",
       "      <th>Sunrise_Sunset</th>\n",
       "      <th>Civil_Twilight</th>\n",
       "      <th>Nautical_Twilight</th>\n",
       "      <th>Astronomical_Twilight</th>\n",
       "      <th>latitude_diff</th>\n",
       "      <th>Total_Time(hrs)</th>\n",
       "    </tr>\n",
       "  </thead>\n",
       "  <tbody>\n",
       "    <tr>\n",
       "      <th>0</th>\n",
       "      <td>A-1</td>\n",
       "      <td>99.0</td>\n",
       "      <td>2016-02-08 00:37:08</td>\n",
       "      <td>2016-02-08 06:37:08</td>\n",
       "      <td>40.108910</td>\n",
       "      <td>-83.092860</td>\n",
       "      <td>40.112060</td>\n",
       "      <td>-83.031870</td>\n",
       "      <td>3.230</td>\n",
       "      <td>Between Sawmill Rd/Exit 20 and OH-315/Olentang...</td>\n",
       "      <td>...</td>\n",
       "      <td>False</td>\n",
       "      <td>False</td>\n",
       "      <td>False</td>\n",
       "      <td>False</td>\n",
       "      <td>Night</td>\n",
       "      <td>Night</td>\n",
       "      <td>Night</td>\n",
       "      <td>Night</td>\n",
       "      <td>0.003150</td>\n",
       "      <td>6.0</td>\n",
       "    </tr>\n",
       "    <tr>\n",
       "      <th>1</th>\n",
       "      <td>A-2</td>\n",
       "      <td>99.0</td>\n",
       "      <td>2016-02-08 05:56:20</td>\n",
       "      <td>2016-02-08 11:56:20</td>\n",
       "      <td>39.865420</td>\n",
       "      <td>-84.062800</td>\n",
       "      <td>39.865010</td>\n",
       "      <td>-84.048730</td>\n",
       "      <td>0.747</td>\n",
       "      <td>At OH-4/OH-235/Exit 41 - Accident.</td>\n",
       "      <td>...</td>\n",
       "      <td>False</td>\n",
       "      <td>False</td>\n",
       "      <td>False</td>\n",
       "      <td>False</td>\n",
       "      <td>Night</td>\n",
       "      <td>Night</td>\n",
       "      <td>Night</td>\n",
       "      <td>Night</td>\n",
       "      <td>-0.000410</td>\n",
       "      <td>6.0</td>\n",
       "    </tr>\n",
       "    <tr>\n",
       "      <th>2</th>\n",
       "      <td>A-3</td>\n",
       "      <td>99.0</td>\n",
       "      <td>2016-02-08 06:15:39</td>\n",
       "      <td>2016-02-08 12:15:39</td>\n",
       "      <td>39.102660</td>\n",
       "      <td>-84.524680</td>\n",
       "      <td>39.102090</td>\n",
       "      <td>-84.523960</td>\n",
       "      <td>0.055</td>\n",
       "      <td>At I-71/US-50/Exit 1 - Accident.</td>\n",
       "      <td>...</td>\n",
       "      <td>False</td>\n",
       "      <td>False</td>\n",
       "      <td>False</td>\n",
       "      <td>False</td>\n",
       "      <td>Night</td>\n",
       "      <td>Night</td>\n",
       "      <td>Night</td>\n",
       "      <td>Day</td>\n",
       "      <td>-0.000570</td>\n",
       "      <td>6.0</td>\n",
       "    </tr>\n",
       "    <tr>\n",
       "      <th>3</th>\n",
       "      <td>A-4</td>\n",
       "      <td>99.0</td>\n",
       "      <td>2016-02-08 06:51:45</td>\n",
       "      <td>2016-02-08 12:51:45</td>\n",
       "      <td>41.062130</td>\n",
       "      <td>-81.537840</td>\n",
       "      <td>41.062170</td>\n",
       "      <td>-81.535470</td>\n",
       "      <td>0.123</td>\n",
       "      <td>At Dart Ave/Exit 21 - Accident.</td>\n",
       "      <td>...</td>\n",
       "      <td>False</td>\n",
       "      <td>False</td>\n",
       "      <td>False</td>\n",
       "      <td>False</td>\n",
       "      <td>Night</td>\n",
       "      <td>Night</td>\n",
       "      <td>Day</td>\n",
       "      <td>Day</td>\n",
       "      <td>0.000040</td>\n",
       "      <td>6.0</td>\n",
       "    </tr>\n",
       "    <tr>\n",
       "      <th>4</th>\n",
       "      <td>A-5</td>\n",
       "      <td>99.0</td>\n",
       "      <td>2016-02-08 07:53:43</td>\n",
       "      <td>2016-02-08 13:53:43</td>\n",
       "      <td>39.172393</td>\n",
       "      <td>-84.492792</td>\n",
       "      <td>39.170476</td>\n",
       "      <td>-84.501798</td>\n",
       "      <td>0.500</td>\n",
       "      <td>At Mitchell Ave/Exit 6 - Accident.</td>\n",
       "      <td>...</td>\n",
       "      <td>False</td>\n",
       "      <td>False</td>\n",
       "      <td>False</td>\n",
       "      <td>False</td>\n",
       "      <td>Day</td>\n",
       "      <td>Day</td>\n",
       "      <td>Day</td>\n",
       "      <td>Day</td>\n",
       "      <td>-0.001917</td>\n",
       "      <td>6.0</td>\n",
       "    </tr>\n",
       "  </tbody>\n",
       "</table>\n",
       "<p>5 rows × 49 columns</p>\n",
       "</div>"
      ],
      "text/plain": [
       "    ID  Severity           Start_Time             End_Time  Start_Lat  \\\n",
       "0  A-1      99.0  2016-02-08 00:37:08  2016-02-08 06:37:08  40.108910   \n",
       "1  A-2      99.0  2016-02-08 05:56:20  2016-02-08 11:56:20  39.865420   \n",
       "2  A-3      99.0  2016-02-08 06:15:39  2016-02-08 12:15:39  39.102660   \n",
       "3  A-4      99.0  2016-02-08 06:51:45  2016-02-08 12:51:45  41.062130   \n",
       "4  A-5      99.0  2016-02-08 07:53:43  2016-02-08 13:53:43  39.172393   \n",
       "\n",
       "   Start_Lng    End_Lat    End_Lng  Distance(mi)  \\\n",
       "0 -83.092860  40.112060 -83.031870         3.230   \n",
       "1 -84.062800  39.865010 -84.048730         0.747   \n",
       "2 -84.524680  39.102090 -84.523960         0.055   \n",
       "3 -81.537840  41.062170 -81.535470         0.123   \n",
       "4 -84.492792  39.170476 -84.501798         0.500   \n",
       "\n",
       "                                         Description  ...   Stop  \\\n",
       "0  Between Sawmill Rd/Exit 20 and OH-315/Olentang...  ...  False   \n",
       "1                 At OH-4/OH-235/Exit 41 - Accident.  ...  False   \n",
       "2                   At I-71/US-50/Exit 1 - Accident.  ...  False   \n",
       "3                    At Dart Ave/Exit 21 - Accident.  ...  False   \n",
       "4                 At Mitchell Ave/Exit 6 - Accident.  ...  False   \n",
       "\n",
       "  Traffic_Calming Traffic_Signal Turning_Loop Sunrise_Sunset Civil_Twilight  \\\n",
       "0           False          False        False          Night          Night   \n",
       "1           False          False        False          Night          Night   \n",
       "2           False          False        False          Night          Night   \n",
       "3           False          False        False          Night          Night   \n",
       "4           False          False        False            Day            Day   \n",
       "\n",
       "  Nautical_Twilight Astronomical_Twilight latitude_diff Total_Time(hrs)  \n",
       "0             Night                 Night      0.003150             6.0  \n",
       "1             Night                 Night     -0.000410             6.0  \n",
       "2             Night                   Day     -0.000570             6.0  \n",
       "3               Day                   Day      0.000040             6.0  \n",
       "4               Day                   Day     -0.001917             6.0  \n",
       "\n",
       "[5 rows x 49 columns]"
      ]
     },
     "execution_count": 27,
     "metadata": {},
     "output_type": "execute_result"
    }
   ],
   "source": [
    "# Here you will generate new features. This is what we call feature engineering\n",
    "# Q8 What are the new features that you are generating? Do they make sense ?\n",
    "\n",
    "data[\"latitude_diff\"] = data[\"End_Lat\"]-data[\"Start_Lat\"]\n",
    "\n",
    "#Calculate total time of accident\n",
    "data[\"Total_Time(hrs)\"] = pd.to_datetime(data['End_Time'])-pd.to_datetime(data['Start_Time'])\n",
    "data['Total_Time(hrs)'] = pd.to_timedelta(data['Total_Time(hrs)'])\n",
    "data['Total_Time(hrs)']=data['Total_Time(hrs)'].dt.total_seconds()/3600  \n",
    "data.head()"
   ]
  },
  {
   "cell_type": "code",
   "execution_count": 7,
   "metadata": {
    "id": "-br1J7qlhRrv"
   },
   "outputs": [],
   "source": [
    "#Q10 Plot the scatter plot of the rooms_per_household against median_house_value\n",
    "#Q11 Now use the housing describe method to view the statistical summary of the dataset "
   ]
  },
  {
   "cell_type": "markdown",
   "metadata": {
    "id": "YLo6wzD-hRrx"
   },
   "source": [
    "# Prepare the Data for Machine Learning Algorithms"
   ]
  },
  {
   "cell_type": "markdown",
   "metadata": {
    "id": "UZZ9Tv3UhRr1"
   },
   "source": [
    "## Data Cleaning\n",
    "Dealing with missing features\n",
    "\n",
    "\n",
    "1. Get rid of the corresponding districts. `dropna()`\n",
    "2. Get rid of the whole attribute. `drop()` \n",
    "3. Set the values to some value (zero, the mean, the median, etc.)  `fillna()`\n"
   ]
  },
  {
   "cell_type": "code",
   "execution_count": null,
   "metadata": {
    "colab": {
     "base_uri": "https://localhost:8080/",
     "height": 224
    },
    "id": "mBWtt3e1hRr1",
    "outputId": "b8688a51-77d7-4d7c-986b-89b5e8bb978e"
   },
   "outputs": [],
   "source": [
    "sample_incomplete_rows = data[data.isnull().any(axis=1)].head()\n",
    "sample_incomplete_rows   # display rows with missing values\n"
   ]
  },
  {
   "cell_type": "code",
   "execution_count": null,
   "metadata": {
    "colab": {
     "base_uri": "https://localhost:8080/",
     "height": 69
    },
    "id": "yo7TMCgFhRr2",
    "outputId": "10f515f4-d6da-4e05-8887-a4081661daa8"
   },
   "outputs": [],
   "source": [
    "# option 1 Remove the records (i.e rows ) with missing values.\n",
    "sample_incomplete_rows.dropna(subset=[\"total_bedrooms\"])  \n",
    "#Q12 What is displayed below? Note your observation "
   ]
  },
  {
   "cell_type": "code",
   "execution_count": null,
   "metadata": {
    "colab": {
     "base_uri": "https://localhost:8080/",
     "height": 204
    },
    "id": "My_obND_hRr3",
    "outputId": "477c1e85-2d5b-4c93-8713-f25e07ffdd56"
   },
   "outputs": [],
   "source": [
    "sample_incomplete_rows.drop(\"total_bedrooms\", axis=1)        # option 2 Remove the entire attribute with the missing value\n",
    "#Q13  What do you see now? How is this different from your observation in Q12\n"
   ]
  },
  {
   "cell_type": "code",
   "execution_count": null,
   "metadata": {
    "id": "_D8hGfLGhRr4"
   },
   "outputs": [],
   "source": [
    "median = housing[\"total_bedrooms\"].median() # calculate the median of total_bedrooms\n",
    "sample_incomplete_rows[\"total_bedrooms\"].fillna(median, inplace=True) # option 3 Fill missing value with  median\n",
    "# Q14 Note your observation in the displayed rows below. How is it different from Q12 and Q13\n"
   ]
  },
  {
   "cell_type": "code",
   "execution_count": null,
   "metadata": {
    "colab": {
     "base_uri": "https://localhost:8080/",
     "height": 224
    },
    "id": "2t11ShG6hRr4",
    "outputId": "4c08be5f-a80d-4957-941e-ed524f7f162a"
   },
   "outputs": [],
   "source": [
    "sample_incomplete_rows"
   ]
  },
  {
   "cell_type": "markdown",
   "metadata": {
    "id": "WnX7vYm2hRr5"
   },
   "source": [
    "## Scikit-Learn solution (optional)\n"
   ]
  },
  {
   "cell_type": "code",
   "execution_count": null,
   "metadata": {
    "id": "LyOLU4ClhRr6"
   },
   "outputs": [],
   "source": [
    "from sklearn.impute import SimpleImputer      # Look up SimpleImputer Class in Sklearn Documenation\n",
    "imputer = SimpleImputer(strategy=\"median\")    # Replace each missing attribute with median of that attribute "
   ]
  },
  {
   "cell_type": "code",
   "execution_count": null,
   "metadata": {
    "id": "cFC2uLDmhRr7"
   },
   "outputs": [],
   "source": [
    "#We cant compute the median of a categorical data, therefore we are creating a copy of the data without ocean_prox\n",
    "housing_num = housing.drop(\"ocean_proximity\", axis=1) "
   ]
  },
  {
   "cell_type": "code",
   "execution_count": null,
   "metadata": {
    "colab": {
     "base_uri": "https://localhost:8080/"
    },
    "id": "2o5sV5I4hRr8",
    "outputId": "c6fa4095-ba17-41ed-b8b6-c89a5dc05d09"
   },
   "outputs": [],
   "source": [
    "imputer.fit(housing_num)"
   ]
  },
  {
   "cell_type": "markdown",
   "metadata": {
    "id": "qjn5yCXnhRr8"
   },
   "source": [
    "The imputer has simply computed the median of each attribute and stored the result in its `statistics_` instance variable. "
   ]
  },
  {
   "cell_type": "code",
   "execution_count": null,
   "metadata": {
    "colab": {
     "base_uri": "https://localhost:8080/"
    },
    "id": "zg6TgmeGhRr8",
    "outputId": "33945d78-4218-4081-b5e8-3e4a24e7452f"
   },
   "outputs": [],
   "source": [
    "imputer.statistics_"
   ]
  },
  {
   "cell_type": "code",
   "execution_count": null,
   "metadata": {
    "colab": {
     "base_uri": "https://localhost:8080/"
    },
    "id": "lJhzkVCnhRr8",
    "outputId": "7a5d346f-fa6c-4520-fe06-6db584a27c15"
   },
   "outputs": [],
   "source": [
    "housing_num.median().values #Check that this is the same as manually computing the median of each attribute\n"
   ]
  },
  {
   "cell_type": "code",
   "execution_count": null,
   "metadata": {
    "id": "8x0W2Z-0hRr9"
   },
   "outputs": [],
   "source": [
    "X = imputer.transform(housing_num) # transform the data set"
   ]
  },
  {
   "cell_type": "code",
   "execution_count": null,
   "metadata": {
    "id": "yJbltHl7hRr-"
   },
   "outputs": [],
   "source": [
    "housing_tr = pd.DataFrame(X, columns=housing_num.columns,\n",
    "                          index=housing_num.index) # load the new tranformed data set into the pandas frame housing_tr"
   ]
  },
  {
   "cell_type": "code",
   "execution_count": null,
   "metadata": {
    "colab": {
     "base_uri": "https://localhost:8080/",
     "height": 204
    },
    "id": "MEBesDPHhRr-",
    "outputId": "458bba23-4d7c-42de-89a7-bc0b63c9fd2f"
   },
   "outputs": [],
   "source": [
    "housing_tr.loc[sample_incomplete_rows.index.values] # show the rows with previously missing values "
   ]
  },
  {
   "cell_type": "markdown",
   "metadata": {
    "id": "X6xyVgYlhRr_"
   },
   "source": [
    "### Handling Text and Categorical Attributes"
   ]
  },
  {
   "cell_type": "code",
   "execution_count": null,
   "metadata": {
    "colab": {
     "base_uri": "https://localhost:8080/",
     "height": 359
    },
    "id": "b1F5WdRThRsA",
    "outputId": "c944f9a3-d6ca-47ba-b972-362ae02f7e12"
   },
   "outputs": [],
   "source": [
    "housing_cat = housing[[\"ocean_proximity\"]]\n",
    "housing_cat.head(10)  # look at the value of  'ocean_proximity' for the first 10 instances "
   ]
  },
  {
   "cell_type": "code",
   "execution_count": null,
   "metadata": {
    "colab": {
     "base_uri": "https://localhost:8080/",
     "height": 359
    },
    "id": "EECQACwDhRsA",
    "outputId": "f47dda29-6672-4a85-fc3d-beca71b9d0d8"
   },
   "outputs": [],
   "source": [
    "housing_cat.tail(10)\n",
    "# look at the value of  'ocean_proximity' for the last 10 instances"
   ]
  },
  {
   "cell_type": "code",
   "execution_count": null,
   "metadata": {
    "colab": {
     "base_uri": "https://localhost:8080/"
    },
    "id": "Y3HrUaaNhRsB",
    "outputId": "6fb20fa6-4f4a-4710-90d1-f199dde5838a"
   },
   "outputs": [],
   "source": [
    "from sklearn.preprocessing import OrdinalEncoder\n",
    "# sklearn OrdinalEncoder class is used to convert categorical values to numbers\n",
    "ordinal_encoder = OrdinalEncoder() \n",
    "housing_cat_encoded = ordinal_encoder.fit_transform(housing_cat)\n",
    "housing_cat_encoded[:10] # Lists the numerical values that correspond to the categorical attribute\n",
    "# Q15 Why can representing a catogorical variable with numbers be a problem in ML?\n"
   ]
  },
  {
   "cell_type": "code",
   "execution_count": null,
   "metadata": {
    "colab": {
     "base_uri": "https://localhost:8080/"
    },
    "id": "xtawqcnxhRsB",
    "outputId": "3fe6f28c-2c36-4e12-fcd2-021183bb5386"
   },
   "outputs": [],
   "source": [
    "# 1 D array of categories for the attribute 'ocean-proximity'\n",
    "ordinal_encoder.categories_ # prints the categories for all categorical attributes , here we only have one categorical attribute\n"
   ]
  },
  {
   "cell_type": "code",
   "execution_count": null,
   "metadata": {
    "colab": {
     "base_uri": "https://localhost:8080/"
    },
    "id": "D4wnlCPPhRsB",
    "outputId": "b217a828-8154-444e-f88e-8887053f9cf1"
   },
   "outputs": [],
   "source": [
    "# An alternative way to represent a categorical attribuite is to use 'one-hot-encoding'\n",
    "\n",
    "from sklearn.preprocessing import OneHotEncoder  \n",
    "# OneHotEncoder class converts categorical values into one-hot vectors , this assumes no order so better for categorical variables\n",
    "\n",
    "cat_encoder = OneHotEncoder()\n",
    "housing_cat_1hot = cat_encoder.fit_transform(housing_cat)\n",
    "housing_cat_1hot"
   ]
  },
  {
   "cell_type": "code",
   "execution_count": null,
   "metadata": {
    "colab": {
     "base_uri": "https://localhost:8080/"
    },
    "id": "Vb4HvpfwhRsC",
    "outputId": "8c8fda04-2019-4345-ba2b-e6d74a360395"
   },
   "outputs": [],
   "source": [
    "type(housing_cat_1hot) # This is a SciPy sparce matrix ( not a NumPy array)\n",
    "# a sparse matrix only stores the location of the non‐zero enties , therefore saves memory"
   ]
  },
  {
   "cell_type": "code",
   "execution_count": null,
   "metadata": {
    "colab": {
     "base_uri": "https://localhost:8080/"
    },
    "id": "pTa74wdVhRsC",
    "outputId": "823cd462-6e8b-48d6-fcb5-bb5dd7f4aebf"
   },
   "outputs": [],
   "source": [
    "housing_cat_1hot.toarray() # To convert it to a (dense) NumPy array, call toarrray() method"
   ]
  },
  {
   "cell_type": "code",
   "execution_count": null,
   "metadata": {
    "colab": {
     "base_uri": "https://localhost:8080/"
    },
    "id": "pohHpDVYhRsD",
    "outputId": "d65049f2-9516-4030-e307-55c280237f66"
   },
   "outputs": [],
   "source": [
    "cat_encoder = OneHotEncoder(sparse=False) # Alternatively, you can set sparse=False when creating the OneHotEncoder\n",
    "housing_cat_1hot = cat_encoder.fit_transform(housing_cat)\n",
    "housing_cat_1hot"
   ]
  },
  {
   "cell_type": "code",
   "execution_count": null,
   "metadata": {
    "colab": {
     "base_uri": "https://localhost:8080/"
    },
    "id": "alCjsVt0hRsD",
    "outputId": "6764030b-e81d-43dd-de80-3eae1966d7dc"
   },
   "outputs": [],
   "source": [
    "cat_encoder.categories_         # Get a list of categories"
   ]
  },
  {
   "cell_type": "code",
   "execution_count": null,
   "metadata": {
    "id": "1kpf91WUuPUK"
   },
   "outputs": [],
   "source": []
  },
  {
   "cell_type": "markdown",
   "metadata": {
    "id": "ABf7NG4xtEKS"
   },
   "source": [
    "### Feature Scaling (optional)\n",
    "\n",
    "\n"
   ]
  },
  {
   "cell_type": "markdown",
   "metadata": {
    "id": "PQwkH7i_ts13"
   },
   "source": [
    "In week 2 lectures you have learned about two common ways to get all attributes to have the same scale: min-max scaling and standardization (Zscore).\n",
    "\n",
    "Sklearn provides two transformer functions for this "
   ]
  },
  {
   "cell_type": "code",
   "execution_count": null,
   "metadata": {
    "id": "FVur3HpBuRje"
   },
   "outputs": [],
   "source": [
    "#Q16 Research sklearn documentation for the functions MinMaxScaler() and StandardScaler() and try to experiment with it on the housing data set"
   ]
  }
 ],
 "metadata": {
  "colab": {
   "name": "Tutorial 1  Data Exploration and Visualization (Getting to know your data).ipynb",
   "provenance": []
  },
  "kernelspec": {
   "display_name": "Python 3 (ipykernel)",
   "language": "python",
   "name": "python3"
  },
  "language_info": {
   "codemirror_mode": {
    "name": "ipython",
    "version": 3
   },
   "file_extension": ".py",
   "mimetype": "text/x-python",
   "name": "python",
   "nbconvert_exporter": "python",
   "pygments_lexer": "ipython3",
   "version": "3.9.12"
  },
  "vscode": {
   "interpreter": {
    "hash": "efb9f42aedd77c290c9ac444bca03d1d08f2eedfa00a5af02c90bac9443c2ca2"
   }
  }
 },
 "nbformat": 4,
 "nbformat_minor": 1
}
