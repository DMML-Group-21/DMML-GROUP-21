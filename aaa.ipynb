{
 "cells": [
  {
   "cell_type": "markdown",
   "metadata": {},
   "source": [
    "# LAB 8"
   ]
  },
  {
   "cell_type": "code",
   "execution_count": 1,
   "metadata": {
    "id": "UJMHBNTNhRrS"
   },
   "outputs": [],
   "source": [
    "import sys\n",
    "assert sys.version_info >= (3, 5)\n",
    "# Python ≥3.5 is required\n"
   ]
  },
  {
   "cell_type": "code",
   "execution_count": 2,
   "metadata": {
    "id": "rEM0Cu7xhRrU"
   },
   "outputs": [],
   "source": [
    "# Scikit-Learn ≥0.20 is required\n",
    "import sklearn\n",
    "assert sklearn.__version__ >= \"0.20\""
   ]
  },
  {
   "cell_type": "code",
   "execution_count": 3,
   "metadata": {
    "id": "kBhrMzIvhRrV"
   },
   "outputs": [],
   "source": [
    "# Common imports\n",
    "import numpy as np\n",
    "import os\n",
    "import tarfile\n",
    "import urllib\n",
    "import pandas as pd\n",
    "import urllib.request\n",
    "import seaborn as sns\n",
    "\n",
    "from sklearn.model_selection import train_test_split\n",
    "from sklearn.linear_model import LogisticRegression\n",
    "from sklearn.metrics import roc_curve\n",
    "from sklearn import preprocessing\n",
    "from sklearn import metrics"
   ]
  },
  {
   "cell_type": "code",
   "execution_count": 4,
   "metadata": {
    "id": "F0MqHkqGhRrW"
   },
   "outputs": [],
   "source": [
    "# To plot pretty figures\n",
    "%matplotlib inline\n",
    "import matplotlib as mpl\n",
    "import matplotlib.pyplot as plt"
   ]
  },
  {
   "cell_type": "code",
   "execution_count": 5,
   "metadata": {},
   "outputs": [],
   "source": [
    "# Python ≥3.5 is required\n",
    "import sys\n",
    "assert sys.version_info >= (3, 5)\n",
    "\n",
    "# Scikit-Learn ≥0.20 is \n",
    "import sklearn\n",
    "assert sklearn.__version__ >= \"0.20\"\n",
    "\n",
    "# Common imports\n",
    "import numpy as np\n",
    "import os\n",
    "\n",
    "# to make this notebook's output stable across runs\n",
    "np.random.seed(42)\n",
    "\n",
    "# To plot pretty figures\n",
    "%matplotlib inline\n",
    "import matplotlib as mpl\n",
    "import matplotlib.pyplot as plt\n",
    "mpl.rc('axes', labelsize=14)\n",
    "mpl.rc('xtick', labelsize=12)\n",
    "mpl.rc('ytick', labelsize=12)\n",
    "from sklearn.datasets import load_iris\n",
    "from sklearn.tree import DecisionTreeClassifier,plot_tree"
   ]
  },
  {
   "cell_type": "markdown",
   "metadata": {
    "id": "e1PFyyJfhRrX"
   },
   "source": [
    "# Get the data"
   ]
  },
  {
   "cell_type": "markdown",
   "metadata": {
    "id": "lVD91J2YhRrX"
   },
   "source": [
    "With this code, we download and store the tgz file and extract it on the same location of the notebook and sub folders \"datasets/housing/\""
   ]
  },
  {
   "cell_type": "code",
   "execution_count": 6,
   "metadata": {},
   "outputs": [],
   "source": [
    "data = pd.read_csv(\"US_Accidents_Dec21_updated.csv\")"
   ]
  },
  {
   "cell_type": "code",
   "execution_count": 7,
   "metadata": {
    "scrolled": true
   },
   "outputs": [
    {
     "data": {
      "text/html": [
       "<div>\n",
       "<style scoped>\n",
       "    .dataframe tbody tr th:only-of-type {\n",
       "        vertical-align: middle;\n",
       "    }\n",
       "\n",
       "    .dataframe tbody tr th {\n",
       "        vertical-align: top;\n",
       "    }\n",
       "\n",
       "    .dataframe thead th {\n",
       "        text-align: right;\n",
       "    }\n",
       "</style>\n",
       "<table border=\"1\" class=\"dataframe\">\n",
       "  <thead>\n",
       "    <tr style=\"text-align: right;\">\n",
       "      <th></th>\n",
       "      <th>ID</th>\n",
       "      <th>Severity</th>\n",
       "      <th>Start_Time</th>\n",
       "      <th>End_Time</th>\n",
       "      <th>Start_Lat</th>\n",
       "      <th>Start_Lng</th>\n",
       "      <th>End_Lat</th>\n",
       "      <th>End_Lng</th>\n",
       "      <th>Distance(mi)</th>\n",
       "      <th>Description</th>\n",
       "      <th>...</th>\n",
       "      <th>Roundabout</th>\n",
       "      <th>Station</th>\n",
       "      <th>Stop</th>\n",
       "      <th>Traffic_Calming</th>\n",
       "      <th>Traffic_Signal</th>\n",
       "      <th>Turning_Loop</th>\n",
       "      <th>Sunrise_Sunset</th>\n",
       "      <th>Civil_Twilight</th>\n",
       "      <th>Nautical_Twilight</th>\n",
       "      <th>Astronomical_Twilight</th>\n",
       "    </tr>\n",
       "  </thead>\n",
       "  <tbody>\n",
       "    <tr>\n",
       "      <th>0</th>\n",
       "      <td>A-1</td>\n",
       "      <td>3</td>\n",
       "      <td>2016-02-08 00:37:08</td>\n",
       "      <td>2016-02-08 06:37:08</td>\n",
       "      <td>40.108910</td>\n",
       "      <td>-83.092860</td>\n",
       "      <td>40.112060</td>\n",
       "      <td>-83.031870</td>\n",
       "      <td>3.230</td>\n",
       "      <td>Between Sawmill Rd/Exit 20 and OH-315/Olentang...</td>\n",
       "      <td>...</td>\n",
       "      <td>False</td>\n",
       "      <td>False</td>\n",
       "      <td>False</td>\n",
       "      <td>False</td>\n",
       "      <td>False</td>\n",
       "      <td>False</td>\n",
       "      <td>Night</td>\n",
       "      <td>Night</td>\n",
       "      <td>Night</td>\n",
       "      <td>Night</td>\n",
       "    </tr>\n",
       "    <tr>\n",
       "      <th>1</th>\n",
       "      <td>A-2</td>\n",
       "      <td>2</td>\n",
       "      <td>2016-02-08 05:56:20</td>\n",
       "      <td>2016-02-08 11:56:20</td>\n",
       "      <td>39.865420</td>\n",
       "      <td>-84.062800</td>\n",
       "      <td>39.865010</td>\n",
       "      <td>-84.048730</td>\n",
       "      <td>0.747</td>\n",
       "      <td>At OH-4/OH-235/Exit 41 - Accident.</td>\n",
       "      <td>...</td>\n",
       "      <td>False</td>\n",
       "      <td>False</td>\n",
       "      <td>False</td>\n",
       "      <td>False</td>\n",
       "      <td>False</td>\n",
       "      <td>False</td>\n",
       "      <td>Night</td>\n",
       "      <td>Night</td>\n",
       "      <td>Night</td>\n",
       "      <td>Night</td>\n",
       "    </tr>\n",
       "    <tr>\n",
       "      <th>2</th>\n",
       "      <td>A-3</td>\n",
       "      <td>2</td>\n",
       "      <td>2016-02-08 06:15:39</td>\n",
       "      <td>2016-02-08 12:15:39</td>\n",
       "      <td>39.102660</td>\n",
       "      <td>-84.524680</td>\n",
       "      <td>39.102090</td>\n",
       "      <td>-84.523960</td>\n",
       "      <td>0.055</td>\n",
       "      <td>At I-71/US-50/Exit 1 - Accident.</td>\n",
       "      <td>...</td>\n",
       "      <td>False</td>\n",
       "      <td>False</td>\n",
       "      <td>False</td>\n",
       "      <td>False</td>\n",
       "      <td>False</td>\n",
       "      <td>False</td>\n",
       "      <td>Night</td>\n",
       "      <td>Night</td>\n",
       "      <td>Night</td>\n",
       "      <td>Day</td>\n",
       "    </tr>\n",
       "    <tr>\n",
       "      <th>3</th>\n",
       "      <td>A-4</td>\n",
       "      <td>2</td>\n",
       "      <td>2016-02-08 06:51:45</td>\n",
       "      <td>2016-02-08 12:51:45</td>\n",
       "      <td>41.062130</td>\n",
       "      <td>-81.537840</td>\n",
       "      <td>41.062170</td>\n",
       "      <td>-81.535470</td>\n",
       "      <td>0.123</td>\n",
       "      <td>At Dart Ave/Exit 21 - Accident.</td>\n",
       "      <td>...</td>\n",
       "      <td>False</td>\n",
       "      <td>False</td>\n",
       "      <td>False</td>\n",
       "      <td>False</td>\n",
       "      <td>False</td>\n",
       "      <td>False</td>\n",
       "      <td>Night</td>\n",
       "      <td>Night</td>\n",
       "      <td>Day</td>\n",
       "      <td>Day</td>\n",
       "    </tr>\n",
       "    <tr>\n",
       "      <th>4</th>\n",
       "      <td>A-5</td>\n",
       "      <td>3</td>\n",
       "      <td>2016-02-08 07:53:43</td>\n",
       "      <td>2016-02-08 13:53:43</td>\n",
       "      <td>39.172393</td>\n",
       "      <td>-84.492792</td>\n",
       "      <td>39.170476</td>\n",
       "      <td>-84.501798</td>\n",
       "      <td>0.500</td>\n",
       "      <td>At Mitchell Ave/Exit 6 - Accident.</td>\n",
       "      <td>...</td>\n",
       "      <td>False</td>\n",
       "      <td>False</td>\n",
       "      <td>False</td>\n",
       "      <td>False</td>\n",
       "      <td>False</td>\n",
       "      <td>False</td>\n",
       "      <td>Day</td>\n",
       "      <td>Day</td>\n",
       "      <td>Day</td>\n",
       "      <td>Day</td>\n",
       "    </tr>\n",
       "  </tbody>\n",
       "</table>\n",
       "<p>5 rows × 47 columns</p>\n",
       "</div>"
      ],
      "text/plain": [
       "    ID  Severity           Start_Time             End_Time  Start_Lat  \\\n",
       "0  A-1         3  2016-02-08 00:37:08  2016-02-08 06:37:08  40.108910   \n",
       "1  A-2         2  2016-02-08 05:56:20  2016-02-08 11:56:20  39.865420   \n",
       "2  A-3         2  2016-02-08 06:15:39  2016-02-08 12:15:39  39.102660   \n",
       "3  A-4         2  2016-02-08 06:51:45  2016-02-08 12:51:45  41.062130   \n",
       "4  A-5         3  2016-02-08 07:53:43  2016-02-08 13:53:43  39.172393   \n",
       "\n",
       "   Start_Lng    End_Lat    End_Lng  Distance(mi)  \\\n",
       "0 -83.092860  40.112060 -83.031870         3.230   \n",
       "1 -84.062800  39.865010 -84.048730         0.747   \n",
       "2 -84.524680  39.102090 -84.523960         0.055   \n",
       "3 -81.537840  41.062170 -81.535470         0.123   \n",
       "4 -84.492792  39.170476 -84.501798         0.500   \n",
       "\n",
       "                                         Description  ...  Roundabout Station  \\\n",
       "0  Between Sawmill Rd/Exit 20 and OH-315/Olentang...  ...       False   False   \n",
       "1                 At OH-4/OH-235/Exit 41 - Accident.  ...       False   False   \n",
       "2                   At I-71/US-50/Exit 1 - Accident.  ...       False   False   \n",
       "3                    At Dart Ave/Exit 21 - Accident.  ...       False   False   \n",
       "4                 At Mitchell Ave/Exit 6 - Accident.  ...       False   False   \n",
       "\n",
       "    Stop Traffic_Calming Traffic_Signal Turning_Loop Sunrise_Sunset  \\\n",
       "0  False           False          False        False          Night   \n",
       "1  False           False          False        False          Night   \n",
       "2  False           False          False        False          Night   \n",
       "3  False           False          False        False          Night   \n",
       "4  False           False          False        False            Day   \n",
       "\n",
       "  Civil_Twilight Nautical_Twilight Astronomical_Twilight  \n",
       "0          Night             Night                 Night  \n",
       "1          Night             Night                 Night  \n",
       "2          Night             Night                   Day  \n",
       "3          Night               Day                   Day  \n",
       "4            Day               Day                   Day  \n",
       "\n",
       "[5 rows x 47 columns]"
      ]
     },
     "execution_count": 7,
     "metadata": {},
     "output_type": "execute_result"
    }
   ],
   "source": [
    "data.head()"
   ]
  },
  {
   "cell_type": "markdown",
   "metadata": {
    "id": "co0dQ38ShRrf"
   },
   "source": [
    "All attributes are numerical, except the ocean_proximity field."
   ]
  },
  {
   "cell_type": "code",
   "execution_count": 8,
   "metadata": {
    "colab": {
     "base_uri": "https://localhost:8080/",
     "height": 317
    },
    "id": "UCE1jukBhRrg",
    "outputId": "09d3e84c-557a-47ac-dbbc-8add01ed3c31"
   },
   "outputs": [
    {
     "data": {
      "text/html": [
       "<div>\n",
       "<style scoped>\n",
       "    .dataframe tbody tr th:only-of-type {\n",
       "        vertical-align: middle;\n",
       "    }\n",
       "\n",
       "    .dataframe tbody tr th {\n",
       "        vertical-align: top;\n",
       "    }\n",
       "\n",
       "    .dataframe thead th {\n",
       "        text-align: right;\n",
       "    }\n",
       "</style>\n",
       "<table border=\"1\" class=\"dataframe\">\n",
       "  <thead>\n",
       "    <tr style=\"text-align: right;\">\n",
       "      <th></th>\n",
       "      <th>count</th>\n",
       "      <th>mean</th>\n",
       "      <th>std</th>\n",
       "      <th>min</th>\n",
       "      <th>25%</th>\n",
       "      <th>50%</th>\n",
       "      <th>75%</th>\n",
       "      <th>max</th>\n",
       "    </tr>\n",
       "  </thead>\n",
       "  <tbody>\n",
       "    <tr>\n",
       "      <th>Severity</th>\n",
       "      <td>2845342.0</td>\n",
       "      <td>2.137572</td>\n",
       "      <td>0.478722</td>\n",
       "      <td>1.000000</td>\n",
       "      <td>2.000000</td>\n",
       "      <td>2.000000</td>\n",
       "      <td>2.000000</td>\n",
       "      <td>4.000000e+00</td>\n",
       "    </tr>\n",
       "    <tr>\n",
       "      <th>Start_Lat</th>\n",
       "      <td>2845342.0</td>\n",
       "      <td>36.245201</td>\n",
       "      <td>5.363797</td>\n",
       "      <td>24.566027</td>\n",
       "      <td>33.445174</td>\n",
       "      <td>36.098609</td>\n",
       "      <td>40.160243</td>\n",
       "      <td>4.900058e+01</td>\n",
       "    </tr>\n",
       "    <tr>\n",
       "      <th>Start_Lng</th>\n",
       "      <td>2845342.0</td>\n",
       "      <td>-97.114633</td>\n",
       "      <td>18.317819</td>\n",
       "      <td>-124.548074</td>\n",
       "      <td>-118.033113</td>\n",
       "      <td>-92.418076</td>\n",
       "      <td>-80.372431</td>\n",
       "      <td>-6.711317e+01</td>\n",
       "    </tr>\n",
       "    <tr>\n",
       "      <th>End_Lat</th>\n",
       "      <td>2845342.0</td>\n",
       "      <td>36.245321</td>\n",
       "      <td>5.363873</td>\n",
       "      <td>24.566013</td>\n",
       "      <td>33.446278</td>\n",
       "      <td>36.097987</td>\n",
       "      <td>40.161049</td>\n",
       "      <td>4.907500e+01</td>\n",
       "    </tr>\n",
       "    <tr>\n",
       "      <th>End_Lng</th>\n",
       "      <td>2845342.0</td>\n",
       "      <td>-97.114387</td>\n",
       "      <td>18.317632</td>\n",
       "      <td>-124.545748</td>\n",
       "      <td>-118.033331</td>\n",
       "      <td>-92.417718</td>\n",
       "      <td>-80.373383</td>\n",
       "      <td>-6.710924e+01</td>\n",
       "    </tr>\n",
       "    <tr>\n",
       "      <th>Distance(mi)</th>\n",
       "      <td>2845342.0</td>\n",
       "      <td>0.702678</td>\n",
       "      <td>1.560361</td>\n",
       "      <td>0.000000</td>\n",
       "      <td>0.052000</td>\n",
       "      <td>0.244000</td>\n",
       "      <td>0.764000</td>\n",
       "      <td>1.551860e+02</td>\n",
       "    </tr>\n",
       "    <tr>\n",
       "      <th>Number</th>\n",
       "      <td>1101431.0</td>\n",
       "      <td>8089.408114</td>\n",
       "      <td>18360.093995</td>\n",
       "      <td>0.000000</td>\n",
       "      <td>1270.000000</td>\n",
       "      <td>4007.000000</td>\n",
       "      <td>9567.000000</td>\n",
       "      <td>9.999997e+06</td>\n",
       "    </tr>\n",
       "    <tr>\n",
       "      <th>Temperature(F)</th>\n",
       "      <td>2776068.0</td>\n",
       "      <td>61.793556</td>\n",
       "      <td>18.622629</td>\n",
       "      <td>-89.000000</td>\n",
       "      <td>50.000000</td>\n",
       "      <td>64.000000</td>\n",
       "      <td>76.000000</td>\n",
       "      <td>1.960000e+02</td>\n",
       "    </tr>\n",
       "    <tr>\n",
       "      <th>Wind_Chill(F)</th>\n",
       "      <td>2375699.0</td>\n",
       "      <td>59.658231</td>\n",
       "      <td>21.160967</td>\n",
       "      <td>-89.000000</td>\n",
       "      <td>46.000000</td>\n",
       "      <td>63.000000</td>\n",
       "      <td>76.000000</td>\n",
       "      <td>1.960000e+02</td>\n",
       "    </tr>\n",
       "    <tr>\n",
       "      <th>Humidity(%)</th>\n",
       "      <td>2772250.0</td>\n",
       "      <td>64.365452</td>\n",
       "      <td>22.874568</td>\n",
       "      <td>1.000000</td>\n",
       "      <td>48.000000</td>\n",
       "      <td>67.000000</td>\n",
       "      <td>83.000000</td>\n",
       "      <td>1.000000e+02</td>\n",
       "    </tr>\n",
       "    <tr>\n",
       "      <th>Pressure(in)</th>\n",
       "      <td>2786142.0</td>\n",
       "      <td>29.472344</td>\n",
       "      <td>1.045286</td>\n",
       "      <td>0.000000</td>\n",
       "      <td>29.310000</td>\n",
       "      <td>29.820000</td>\n",
       "      <td>30.010000</td>\n",
       "      <td>5.890000e+01</td>\n",
       "    </tr>\n",
       "    <tr>\n",
       "      <th>Visibility(mi)</th>\n",
       "      <td>2774796.0</td>\n",
       "      <td>9.099391</td>\n",
       "      <td>2.717546</td>\n",
       "      <td>0.000000</td>\n",
       "      <td>10.000000</td>\n",
       "      <td>10.000000</td>\n",
       "      <td>10.000000</td>\n",
       "      <td>1.400000e+02</td>\n",
       "    </tr>\n",
       "    <tr>\n",
       "      <th>Wind_Speed(mph)</th>\n",
       "      <td>2687398.0</td>\n",
       "      <td>7.395044</td>\n",
       "      <td>5.527454</td>\n",
       "      <td>0.000000</td>\n",
       "      <td>3.500000</td>\n",
       "      <td>7.000000</td>\n",
       "      <td>10.000000</td>\n",
       "      <td>1.087000e+03</td>\n",
       "    </tr>\n",
       "    <tr>\n",
       "      <th>Precipitation(in)</th>\n",
       "      <td>2295884.0</td>\n",
       "      <td>0.007017</td>\n",
       "      <td>0.093488</td>\n",
       "      <td>0.000000</td>\n",
       "      <td>0.000000</td>\n",
       "      <td>0.000000</td>\n",
       "      <td>0.000000</td>\n",
       "      <td>2.400000e+01</td>\n",
       "    </tr>\n",
       "  </tbody>\n",
       "</table>\n",
       "</div>"
      ],
      "text/plain": [
       "                       count         mean           std         min  \\\n",
       "Severity           2845342.0     2.137572      0.478722    1.000000   \n",
       "Start_Lat          2845342.0    36.245201      5.363797   24.566027   \n",
       "Start_Lng          2845342.0   -97.114633     18.317819 -124.548074   \n",
       "End_Lat            2845342.0    36.245321      5.363873   24.566013   \n",
       "End_Lng            2845342.0   -97.114387     18.317632 -124.545748   \n",
       "Distance(mi)       2845342.0     0.702678      1.560361    0.000000   \n",
       "Number             1101431.0  8089.408114  18360.093995    0.000000   \n",
       "Temperature(F)     2776068.0    61.793556     18.622629  -89.000000   \n",
       "Wind_Chill(F)      2375699.0    59.658231     21.160967  -89.000000   \n",
       "Humidity(%)        2772250.0    64.365452     22.874568    1.000000   \n",
       "Pressure(in)       2786142.0    29.472344      1.045286    0.000000   \n",
       "Visibility(mi)     2774796.0     9.099391      2.717546    0.000000   \n",
       "Wind_Speed(mph)    2687398.0     7.395044      5.527454    0.000000   \n",
       "Precipitation(in)  2295884.0     0.007017      0.093488    0.000000   \n",
       "\n",
       "                           25%          50%          75%           max  \n",
       "Severity              2.000000     2.000000     2.000000  4.000000e+00  \n",
       "Start_Lat            33.445174    36.098609    40.160243  4.900058e+01  \n",
       "Start_Lng          -118.033113   -92.418076   -80.372431 -6.711317e+01  \n",
       "End_Lat              33.446278    36.097987    40.161049  4.907500e+01  \n",
       "End_Lng            -118.033331   -92.417718   -80.373383 -6.710924e+01  \n",
       "Distance(mi)          0.052000     0.244000     0.764000  1.551860e+02  \n",
       "Number             1270.000000  4007.000000  9567.000000  9.999997e+06  \n",
       "Temperature(F)       50.000000    64.000000    76.000000  1.960000e+02  \n",
       "Wind_Chill(F)        46.000000    63.000000    76.000000  1.960000e+02  \n",
       "Humidity(%)          48.000000    67.000000    83.000000  1.000000e+02  \n",
       "Pressure(in)         29.310000    29.820000    30.010000  5.890000e+01  \n",
       "Visibility(mi)       10.000000    10.000000    10.000000  1.400000e+02  \n",
       "Wind_Speed(mph)       3.500000     7.000000    10.000000  1.087000e+03  \n",
       "Precipitation(in)     0.000000     0.000000     0.000000  2.400000e+01  "
      ]
     },
     "execution_count": 8,
     "metadata": {},
     "output_type": "execute_result"
    }
   ],
   "source": [
    "#This method shows a statistical summary of the numerical attributes \n",
    "data.describe().T"
   ]
  },
  {
   "cell_type": "code",
   "execution_count": 9,
   "metadata": {
    "scrolled": true
   },
   "outputs": [
    {
     "data": {
      "text/html": [
       "<div>\n",
       "<style scoped>\n",
       "    .dataframe tbody tr th:only-of-type {\n",
       "        vertical-align: middle;\n",
       "    }\n",
       "\n",
       "    .dataframe tbody tr th {\n",
       "        vertical-align: top;\n",
       "    }\n",
       "\n",
       "    .dataframe thead th {\n",
       "        text-align: right;\n",
       "    }\n",
       "</style>\n",
       "<table border=\"1\" class=\"dataframe\">\n",
       "  <thead>\n",
       "    <tr style=\"text-align: right;\">\n",
       "      <th></th>\n",
       "      <th>Severity</th>\n",
       "      <th>Wind_Chill(F)</th>\n",
       "      <th>Temperature(F)</th>\n",
       "      <th>Humidity(%)</th>\n",
       "      <th>Wind_Speed(mph)</th>\n",
       "      <th>Distance(mi)</th>\n",
       "      <th>Pressure(in)</th>\n",
       "      <th>Visibility(mi)</th>\n",
       "      <th>Humidity(%)</th>\n",
       "    </tr>\n",
       "  </thead>\n",
       "  <tbody>\n",
       "    <tr>\n",
       "      <th>0</th>\n",
       "      <td>3</td>\n",
       "      <td>36.1</td>\n",
       "      <td>42.1</td>\n",
       "      <td>58.0</td>\n",
       "      <td>10.4</td>\n",
       "      <td>3.230</td>\n",
       "      <td>29.76</td>\n",
       "      <td>10.0</td>\n",
       "      <td>58.0</td>\n",
       "    </tr>\n",
       "    <tr>\n",
       "      <th>1</th>\n",
       "      <td>2</td>\n",
       "      <td>NaN</td>\n",
       "      <td>36.9</td>\n",
       "      <td>91.0</td>\n",
       "      <td>NaN</td>\n",
       "      <td>0.747</td>\n",
       "      <td>29.68</td>\n",
       "      <td>10.0</td>\n",
       "      <td>91.0</td>\n",
       "    </tr>\n",
       "    <tr>\n",
       "      <th>2</th>\n",
       "      <td>2</td>\n",
       "      <td>NaN</td>\n",
       "      <td>36.0</td>\n",
       "      <td>97.0</td>\n",
       "      <td>NaN</td>\n",
       "      <td>0.055</td>\n",
       "      <td>29.70</td>\n",
       "      <td>10.0</td>\n",
       "      <td>97.0</td>\n",
       "    </tr>\n",
       "    <tr>\n",
       "      <th>3</th>\n",
       "      <td>2</td>\n",
       "      <td>NaN</td>\n",
       "      <td>39.0</td>\n",
       "      <td>55.0</td>\n",
       "      <td>NaN</td>\n",
       "      <td>0.123</td>\n",
       "      <td>29.65</td>\n",
       "      <td>10.0</td>\n",
       "      <td>55.0</td>\n",
       "    </tr>\n",
       "    <tr>\n",
       "      <th>4</th>\n",
       "      <td>3</td>\n",
       "      <td>29.8</td>\n",
       "      <td>37.0</td>\n",
       "      <td>93.0</td>\n",
       "      <td>10.4</td>\n",
       "      <td>0.500</td>\n",
       "      <td>29.69</td>\n",
       "      <td>10.0</td>\n",
       "      <td>93.0</td>\n",
       "    </tr>\n",
       "    <tr>\n",
       "      <th>...</th>\n",
       "      <td>...</td>\n",
       "      <td>...</td>\n",
       "      <td>...</td>\n",
       "      <td>...</td>\n",
       "      <td>...</td>\n",
       "      <td>...</td>\n",
       "      <td>...</td>\n",
       "      <td>...</td>\n",
       "      <td>...</td>\n",
       "    </tr>\n",
       "    <tr>\n",
       "      <th>2845337</th>\n",
       "      <td>2</td>\n",
       "      <td>86.0</td>\n",
       "      <td>86.0</td>\n",
       "      <td>40.0</td>\n",
       "      <td>13.0</td>\n",
       "      <td>0.543</td>\n",
       "      <td>28.92</td>\n",
       "      <td>10.0</td>\n",
       "      <td>40.0</td>\n",
       "    </tr>\n",
       "    <tr>\n",
       "      <th>2845338</th>\n",
       "      <td>2</td>\n",
       "      <td>70.0</td>\n",
       "      <td>70.0</td>\n",
       "      <td>73.0</td>\n",
       "      <td>6.0</td>\n",
       "      <td>0.338</td>\n",
       "      <td>29.39</td>\n",
       "      <td>10.0</td>\n",
       "      <td>73.0</td>\n",
       "    </tr>\n",
       "    <tr>\n",
       "      <th>2845339</th>\n",
       "      <td>2</td>\n",
       "      <td>73.0</td>\n",
       "      <td>73.0</td>\n",
       "      <td>64.0</td>\n",
       "      <td>10.0</td>\n",
       "      <td>0.561</td>\n",
       "      <td>29.74</td>\n",
       "      <td>10.0</td>\n",
       "      <td>64.0</td>\n",
       "    </tr>\n",
       "    <tr>\n",
       "      <th>2845340</th>\n",
       "      <td>2</td>\n",
       "      <td>71.0</td>\n",
       "      <td>71.0</td>\n",
       "      <td>81.0</td>\n",
       "      <td>8.0</td>\n",
       "      <td>0.772</td>\n",
       "      <td>29.62</td>\n",
       "      <td>10.0</td>\n",
       "      <td>81.0</td>\n",
       "    </tr>\n",
       "    <tr>\n",
       "      <th>2845341</th>\n",
       "      <td>2</td>\n",
       "      <td>79.0</td>\n",
       "      <td>79.0</td>\n",
       "      <td>47.0</td>\n",
       "      <td>7.0</td>\n",
       "      <td>0.537</td>\n",
       "      <td>28.63</td>\n",
       "      <td>7.0</td>\n",
       "      <td>47.0</td>\n",
       "    </tr>\n",
       "  </tbody>\n",
       "</table>\n",
       "<p>2845342 rows × 9 columns</p>\n",
       "</div>"
      ],
      "text/plain": [
       "         Severity  Wind_Chill(F)  Temperature(F)  Humidity(%)  \\\n",
       "0               3           36.1            42.1         58.0   \n",
       "1               2            NaN            36.9         91.0   \n",
       "2               2            NaN            36.0         97.0   \n",
       "3               2            NaN            39.0         55.0   \n",
       "4               3           29.8            37.0         93.0   \n",
       "...           ...            ...             ...          ...   \n",
       "2845337         2           86.0            86.0         40.0   \n",
       "2845338         2           70.0            70.0         73.0   \n",
       "2845339         2           73.0            73.0         64.0   \n",
       "2845340         2           71.0            71.0         81.0   \n",
       "2845341         2           79.0            79.0         47.0   \n",
       "\n",
       "         Wind_Speed(mph)  Distance(mi)  Pressure(in)  Visibility(mi)  \\\n",
       "0                   10.4         3.230         29.76            10.0   \n",
       "1                    NaN         0.747         29.68            10.0   \n",
       "2                    NaN         0.055         29.70            10.0   \n",
       "3                    NaN         0.123         29.65            10.0   \n",
       "4                   10.4         0.500         29.69            10.0   \n",
       "...                  ...           ...           ...             ...   \n",
       "2845337             13.0         0.543         28.92            10.0   \n",
       "2845338              6.0         0.338         29.39            10.0   \n",
       "2845339             10.0         0.561         29.74            10.0   \n",
       "2845340              8.0         0.772         29.62            10.0   \n",
       "2845341              7.0         0.537         28.63             7.0   \n",
       "\n",
       "         Humidity(%)  \n",
       "0               58.0  \n",
       "1               91.0  \n",
       "2               97.0  \n",
       "3               55.0  \n",
       "4               93.0  \n",
       "...              ...  \n",
       "2845337         40.0  \n",
       "2845338         73.0  \n",
       "2845339         64.0  \n",
       "2845340         81.0  \n",
       "2845341         47.0  \n",
       "\n",
       "[2845342 rows x 9 columns]"
      ]
     },
     "execution_count": 9,
     "metadata": {},
     "output_type": "execute_result"
    }
   ],
   "source": [
    "#Use top 4 features for each of the Classes (8 total features) drop the rest\n",
    "#1-WindChill, Humidity, Temperature, Visibility\n",
    "#2-WindChill, WindSpeed, Humidity, Distance\n",
    "#3-WindChill, WindSpeed, Distance(mi), Pressure(Air)\n",
    "#4-Distance, Temperature, Wind_Chill(F), Humidity\n",
    "df2 = data.filter(['Severity','Wind_Chill(F)', 'Temperature(F)', 'Humidity(%)','Wind_Speed(mph)', 'Distance(mi)', 'Pressure(in)', 'Visibility(mi)', 'Humidity(%)'])\n",
    "#df2 = data.filter(['Severity','Distance(mi)','Visibility(mi)'])\n",
    "df2"
   ]
  },
  {
   "cell_type": "code",
   "execution_count": 10,
   "metadata": {
    "scrolled": true
   },
   "outputs": [
    {
     "data": {
      "text/html": [
       "<div>\n",
       "<style scoped>\n",
       "    .dataframe tbody tr th:only-of-type {\n",
       "        vertical-align: middle;\n",
       "    }\n",
       "\n",
       "    .dataframe tbody tr th {\n",
       "        vertical-align: top;\n",
       "    }\n",
       "\n",
       "    .dataframe thead th {\n",
       "        text-align: right;\n",
       "    }\n",
       "</style>\n",
       "<table border=\"1\" class=\"dataframe\">\n",
       "  <thead>\n",
       "    <tr style=\"text-align: right;\">\n",
       "      <th></th>\n",
       "      <th>Severity</th>\n",
       "      <th>Wind_Chill(F)</th>\n",
       "      <th>Temperature(F)</th>\n",
       "      <th>Humidity(%)</th>\n",
       "      <th>Wind_Speed(mph)</th>\n",
       "      <th>Distance(mi)</th>\n",
       "      <th>Pressure(in)</th>\n",
       "      <th>Visibility(mi)</th>\n",
       "      <th>Humidity(%)</th>\n",
       "    </tr>\n",
       "  </thead>\n",
       "  <tbody>\n",
       "    <tr>\n",
       "      <th>0</th>\n",
       "      <td>3</td>\n",
       "      <td>36.1</td>\n",
       "      <td>42.1</td>\n",
       "      <td>58.0</td>\n",
       "      <td>10.4</td>\n",
       "      <td>3.230</td>\n",
       "      <td>29.76</td>\n",
       "      <td>10.0</td>\n",
       "      <td>58.0</td>\n",
       "    </tr>\n",
       "    <tr>\n",
       "      <th>1</th>\n",
       "      <td>3</td>\n",
       "      <td>29.8</td>\n",
       "      <td>37.0</td>\n",
       "      <td>93.0</td>\n",
       "      <td>10.4</td>\n",
       "      <td>0.500</td>\n",
       "      <td>29.69</td>\n",
       "      <td>10.0</td>\n",
       "      <td>93.0</td>\n",
       "    </tr>\n",
       "    <tr>\n",
       "      <th>2</th>\n",
       "      <td>2</td>\n",
       "      <td>29.2</td>\n",
       "      <td>35.6</td>\n",
       "      <td>100.0</td>\n",
       "      <td>8.1</td>\n",
       "      <td>1.427</td>\n",
       "      <td>29.66</td>\n",
       "      <td>10.0</td>\n",
       "      <td>100.0</td>\n",
       "    </tr>\n",
       "    <tr>\n",
       "      <th>3</th>\n",
       "      <td>2</td>\n",
       "      <td>30.0</td>\n",
       "      <td>33.1</td>\n",
       "      <td>92.0</td>\n",
       "      <td>3.5</td>\n",
       "      <td>0.521</td>\n",
       "      <td>29.63</td>\n",
       "      <td>0.5</td>\n",
       "      <td>92.0</td>\n",
       "    </tr>\n",
       "    <tr>\n",
       "      <th>4</th>\n",
       "      <td>2</td>\n",
       "      <td>31.8</td>\n",
       "      <td>39.0</td>\n",
       "      <td>70.0</td>\n",
       "      <td>11.5</td>\n",
       "      <td>0.491</td>\n",
       "      <td>29.59</td>\n",
       "      <td>10.0</td>\n",
       "      <td>70.0</td>\n",
       "    </tr>\n",
       "    <tr>\n",
       "      <th>...</th>\n",
       "      <td>...</td>\n",
       "      <td>...</td>\n",
       "      <td>...</td>\n",
       "      <td>...</td>\n",
       "      <td>...</td>\n",
       "      <td>...</td>\n",
       "      <td>...</td>\n",
       "      <td>...</td>\n",
       "      <td>...</td>\n",
       "    </tr>\n",
       "    <tr>\n",
       "      <th>2363634</th>\n",
       "      <td>2</td>\n",
       "      <td>86.0</td>\n",
       "      <td>86.0</td>\n",
       "      <td>40.0</td>\n",
       "      <td>13.0</td>\n",
       "      <td>0.543</td>\n",
       "      <td>28.92</td>\n",
       "      <td>10.0</td>\n",
       "      <td>40.0</td>\n",
       "    </tr>\n",
       "    <tr>\n",
       "      <th>2363635</th>\n",
       "      <td>2</td>\n",
       "      <td>70.0</td>\n",
       "      <td>70.0</td>\n",
       "      <td>73.0</td>\n",
       "      <td>6.0</td>\n",
       "      <td>0.338</td>\n",
       "      <td>29.39</td>\n",
       "      <td>10.0</td>\n",
       "      <td>73.0</td>\n",
       "    </tr>\n",
       "    <tr>\n",
       "      <th>2363636</th>\n",
       "      <td>2</td>\n",
       "      <td>73.0</td>\n",
       "      <td>73.0</td>\n",
       "      <td>64.0</td>\n",
       "      <td>10.0</td>\n",
       "      <td>0.561</td>\n",
       "      <td>29.74</td>\n",
       "      <td>10.0</td>\n",
       "      <td>64.0</td>\n",
       "    </tr>\n",
       "    <tr>\n",
       "      <th>2363637</th>\n",
       "      <td>2</td>\n",
       "      <td>71.0</td>\n",
       "      <td>71.0</td>\n",
       "      <td>81.0</td>\n",
       "      <td>8.0</td>\n",
       "      <td>0.772</td>\n",
       "      <td>29.62</td>\n",
       "      <td>10.0</td>\n",
       "      <td>81.0</td>\n",
       "    </tr>\n",
       "    <tr>\n",
       "      <th>2363638</th>\n",
       "      <td>2</td>\n",
       "      <td>79.0</td>\n",
       "      <td>79.0</td>\n",
       "      <td>47.0</td>\n",
       "      <td>7.0</td>\n",
       "      <td>0.537</td>\n",
       "      <td>28.63</td>\n",
       "      <td>7.0</td>\n",
       "      <td>47.0</td>\n",
       "    </tr>\n",
       "  </tbody>\n",
       "</table>\n",
       "<p>2363639 rows × 9 columns</p>\n",
       "</div>"
      ],
      "text/plain": [
       "         Severity  Wind_Chill(F)  Temperature(F)  Humidity(%)  \\\n",
       "0               3           36.1            42.1         58.0   \n",
       "1               3           29.8            37.0         93.0   \n",
       "2               2           29.2            35.6        100.0   \n",
       "3               2           30.0            33.1         92.0   \n",
       "4               2           31.8            39.0         70.0   \n",
       "...           ...            ...             ...          ...   \n",
       "2363634         2           86.0            86.0         40.0   \n",
       "2363635         2           70.0            70.0         73.0   \n",
       "2363636         2           73.0            73.0         64.0   \n",
       "2363637         2           71.0            71.0         81.0   \n",
       "2363638         2           79.0            79.0         47.0   \n",
       "\n",
       "         Wind_Speed(mph)  Distance(mi)  Pressure(in)  Visibility(mi)  \\\n",
       "0                   10.4         3.230         29.76            10.0   \n",
       "1                   10.4         0.500         29.69            10.0   \n",
       "2                    8.1         1.427         29.66            10.0   \n",
       "3                    3.5         0.521         29.63             0.5   \n",
       "4                   11.5         0.491         29.59            10.0   \n",
       "...                  ...           ...           ...             ...   \n",
       "2363634             13.0         0.543         28.92            10.0   \n",
       "2363635              6.0         0.338         29.39            10.0   \n",
       "2363636             10.0         0.561         29.74            10.0   \n",
       "2363637              8.0         0.772         29.62            10.0   \n",
       "2363638              7.0         0.537         28.63             7.0   \n",
       "\n",
       "         Humidity(%)  \n",
       "0               58.0  \n",
       "1               93.0  \n",
       "2              100.0  \n",
       "3               92.0  \n",
       "4               70.0  \n",
       "...              ...  \n",
       "2363634         40.0  \n",
       "2363635         73.0  \n",
       "2363636         64.0  \n",
       "2363637         81.0  \n",
       "2363638         47.0  \n",
       "\n",
       "[2363639 rows x 9 columns]"
      ]
     },
     "execution_count": 10,
     "metadata": {},
     "output_type": "execute_result"
    }
   ],
   "source": [
    "df2 = df2.dropna()\n",
    "df2 = df2.reset_index(drop = True)\n",
    "df2"
   ]
  },
  {
   "cell_type": "code",
   "execution_count": 27,
   "metadata": {},
   "outputs": [
    {
     "name": "stdout",
     "output_type": "stream",
     "text": [
      "(25539, 9)\n",
      "(2179716, 9)\n",
      "(80936, 9)\n",
      "(77448, 9)\n",
      "         Severity  Wind_Chill(F)  Temperature(F)  Humidity(%)  \\\n",
      "1493785         1          103.0           103.0         22.0   \n",
      "1495315         1           95.0            95.0         19.0   \n",
      "1507378         1           68.0            68.0         93.0   \n",
      "1509407         1           98.0            98.0         18.0   \n",
      "1510895         1           95.0            95.0         22.0   \n",
      "...           ...            ...             ...          ...   \n",
      "2086794         1           50.0            50.0         36.0   \n",
      "2086795         1           39.0            46.0         38.0   \n",
      "2086797         1           40.0            46.0         57.0   \n",
      "2086798         1           46.0            49.0         39.0   \n",
      "2086799         1           41.0            46.0         56.0   \n",
      "\n",
      "         Wind_Speed(mph)  Distance(mi)  Pressure(in)  Visibility(mi)  \\\n",
      "1493785             10.0           0.0         27.15            10.0   \n",
      "1495315             10.0           0.0         27.16            10.0   \n",
      "1507378              5.0           0.0         29.14             9.0   \n",
      "1509407              5.0           0.0         28.28            10.0   \n",
      "1510895              9.0           0.0         29.90            10.0   \n",
      "...                  ...           ...           ...             ...   \n",
      "2086794             13.0           0.0         29.51            10.0   \n",
      "2086795             17.0           0.0         28.64            10.0   \n",
      "2086797             16.0           0.0         29.24            10.0   \n",
      "2086798              7.0           0.0         29.51            10.0   \n",
      "2086799             10.0           0.0         29.55            10.0   \n",
      "\n",
      "         Humidity(%)  \n",
      "1493785         22.0  \n",
      "1495315         19.0  \n",
      "1507378         93.0  \n",
      "1509407         18.0  \n",
      "1510895         22.0  \n",
      "...              ...  \n",
      "2086794         36.0  \n",
      "2086795         38.0  \n",
      "2086797         57.0  \n",
      "2086798         39.0  \n",
      "2086799         56.0  \n",
      "\n",
      "[25539 rows x 9 columns]\n"
     ]
    }
   ],
   "source": [
    "from sklearn.utils import resample\n",
    "\n",
    "sev1 = df2[df2[\"Severity\"] == 1]\n",
    "sev2 = df2[df2[\"Severity\"] == 2]\n",
    "sev3 = df2[df2[\"Severity\"] == 3]\n",
    "sev4 = df2[df2[\"Severity\"] == 4]\n",
    "#df2_upsample = resample(spam_messages,\n",
    "#             replace=True,\n",
    "#             n_samples=len(ham_messages),\n",
    "#             random_state=42)\n",
    "\n",
    "print(sev1.shape)\n",
    "print(sev2.shape)\n",
    "print(sev3.shape)\n",
    "print(sev4.shape)\n"
   ]
  },
  {
   "cell_type": "code",
   "execution_count": 30,
   "metadata": {},
   "outputs": [
    {
     "data": {
      "text/plain": [
       "<AxesSubplot:ylabel='Type'>"
      ]
     },
     "execution_count": 30,
     "metadata": {},
     "output_type": "execute_result"
    },
    {
     "data": {
      "image/png": "[encoded data removed]",
      "text/plain": [
       "<Figure size 640x480 with 1 Axes>"
      ]
     },
     "metadata": {},
     "output_type": "display_data"
    }
   ],
   "source": [
    "sev2_downsample = resample(sev2,\n",
    "             replace=True,\n",
    "             n_samples=len(sev1),\n",
    "             random_state=42)\n",
    "sev3_downsample = resample(sev3,\n",
    "             replace=True,\n",
    "             n_samples=len(sev1),\n",
    "             random_state=42)\n",
    "sev4_downsample = resample(sev4,\n",
    "             replace=True,\n",
    "             n_samples=len(sev1),\n",
    "             random_state=42)\n",
    "# print(sev4_downsample.shape)\n",
    "# print(sev2.shape)\n",
    "# print(sev2_downsample)\n",
    "# print(sev4_downsample)\n",
    "\n",
    "# data_upsampled = pd.concat([, spam_upsample])\n",
    "pdList = [sev1,sev2_downsample,sev3_downsample,sev4_downsample]\n",
    "df2_downsampled = pd.concat(pdList)\n",
    "df2_downsampled.groupby('Severity').size().plot(kind='pie',\n",
    "                                       y = \"Severity\",\n",
    "                                       label = \"Type\",\n",
    "                                       autopct='%1.1f%%')\n"
   ]
  },
  {
   "cell_type": "markdown",
   "metadata": {},
   "source": [
    "# TREE 1"
   ]
  },
  {
   "cell_type": "code",
   "execution_count": null,
   "metadata": {},
   "outputs": [],
   "source": [
    "X = df2.iloc[:, 1:].values.round(decimals=0)\n",
    "y = df2.iloc[:, 0].values\n"
   ]
  },
  {
   "cell_type": "code",
   "execution_count": null,
   "metadata": {},
   "outputs": [],
   "source": [
    "tree_clf = DecisionTreeClassifier(max_depth=2, random_state=42)\n",
    "tree_clf.fit(X, y)"
   ]
  },
  {
   "cell_type": "code",
   "execution_count": null,
   "metadata": {
    "scrolled": true
   },
   "outputs": [],
   "source": [
    "plot_tree(tree_clf);\n",
    "plt.savefig('out1.pdf')"
   ]
  },
  {
   "cell_type": "code",
   "execution_count": null,
   "metadata": {},
   "outputs": [],
   "source": [
    "from matplotlib.colors import ListedColormap\n",
    "\n",
    "def plot_decision_boundary(clf, X, y, axes=[0, 7.5, 0, 3], iris=True, legend=False, plot_training=True):\n",
    "    x1s = np.linspace(axes[0], axes[1], 100)\n",
    "    x2s = np.linspace(axes[2], axes[3], 100)\n",
    "    x1, x2 = np.meshgrid(x1s, x2s)\n",
    "    X_new = np.c_[x1.ravel(), x2.ravel()]\n",
    "    y_pred = clf.predict(X_new).reshape(x1.shape)\n",
    "    custom_cmap = ListedColormap(['#fafab0','#9898ff','#a0faa0'])\n",
    "    plt.contourf(x1, x2, y_pred, alpha=0.3, cmap=custom_cmap)\n",
    "    if not iris:\n",
    "        custom_cmap2 = ListedColormap(['#7d7d58','#4c4c7f','#507d50'])\n",
    "        plt.contour(x1, x2, y_pred, cmap=custom_cmap2, alpha=0.8)\n",
    "    if plot_training:\n",
    "        plt.plot(X[:, 0][y==0], X[:, 1][y==0], \"yo\", label=\"Iris setosa\")\n",
    "        plt.plot(X[:, 0][y==1], X[:, 1][y==1], \"bs\", label=\"Iris versicolor\")\n",
    "        plt.plot(X[:, 0][y==2], X[:, 1][y==2], \"g^\", label=\"Iris virginica\")\n",
    "        plt.axis(axes)\n",
    "    if iris:\n",
    "        plt.xlabel(\"Petal length\", fontsize=14)\n",
    "        plt.ylabel(\"Petal width\", fontsize=14)\n",
    "    else:\n",
    "        plt.xlabel(r\"$x_1$\", fontsize=18)\n",
    "        plt.ylabel(r\"$x_2$\", fontsize=18, rotation=0)\n",
    "    if legend:\n",
    "        plt.legend(loc=\"lower right\", fontsize=14)\n",
    "\n",
    "plt.figure(figsize=(8, 4))\n",
    "plot_decision_boundary(tree_clf, X, y)\n",
    "plt.plot([2.45, 2.45], [0, 3], \"k-\", linewidth=2)\n",
    "plt.plot([2.45, 7.5], [1.75, 1.75], \"k--\", linewidth=2)\n",
    "plt.plot([4.95, 4.95], [0, 1.75], \"k:\", linewidth=2)\n",
    "plt.plot([4.85, 4.85], [1.75, 3], \"k:\", linewidth=2)\n",
    "plt.text(1.40, 1.0, \"Depth=0\", fontsize=15)\n",
    "plt.text(3.2, 1.80, \"Depth=1\", fontsize=13)\n",
    "plt.text(4.05, 0.5, \"(Depth=2)\", fontsize=11)\n",
    "\n",
    "plt.show()"
   ]
  },
  {
   "cell_type": "code",
   "execution_count": null,
   "metadata": {},
   "outputs": [],
   "source": [
    "var_train, var_test, res_train, res_test = train_test_split(X, y, test_size = 0.3, random_state= 42)"
   ]
  },
  {
   "cell_type": "code",
   "execution_count": null,
   "metadata": {},
   "outputs": [],
   "source": [
    "np."
   ]
  },
  {
   "cell_type": "code",
   "execution_count": null,
   "metadata": {},
   "outputs": [],
   "source": [
    "np.count_nonzero(res_test == 1)"
   ]
  },
  {
   "cell_type": "code",
   "execution_count": null,
   "metadata": {},
   "outputs": [],
   "source": [
    "decision_tree = DecisionTreeClassifier(max_depth=2, random_state=42)\n",
    "decision_tree = decision_tree.fit(var_train, res_train)"
   ]
  },
  {
   "cell_type": "code",
   "execution_count": 39,
   "metadata": {},
   "outputs": [
    {
     "ename": "NameError",
     "evalue": "name 'decision_tree' is not defined",
     "output_type": "error",
     "traceback": [
      "\u001b[0;31m---------------------------------------------------------------------------\u001b[0m",
      "\u001b[0;31mNameError\u001b[0m                                 Traceback (most recent call last)",
      "\u001b[0;32m/var/folders/m8/mndpkqfx7dl6syjg7l9h576m0000gp/T/ipykernel_95579/1757300082.py\u001b[0m in \u001b[0;36m<module>\u001b[0;34m\u001b[0m\n\u001b[1;32m      7\u001b[0m \u001b[0;34m\u001b[0m\u001b[0m\n\u001b[1;32m      8\u001b[0m \u001b[0;34m\u001b[0m\u001b[0m\n\u001b[0;32m----> 9\u001b[0;31m \u001b[0mres_pred\u001b[0m \u001b[0;34m=\u001b[0m \u001b[0mdecision_tree\u001b[0m\u001b[0;34m.\u001b[0m\u001b[0mpredict\u001b[0m\u001b[0;34m(\u001b[0m\u001b[0mvar_test\u001b[0m\u001b[0;34m)\u001b[0m\u001b[0;34m\u001b[0m\u001b[0;34m\u001b[0m\u001b[0m\n\u001b[0m\u001b[1;32m     10\u001b[0m \u001b[0macc\u001b[0m \u001b[0;34m=\u001b[0m \u001b[0maccuracy_score\u001b[0m\u001b[0;34m(\u001b[0m\u001b[0mres_test\u001b[0m\u001b[0;34m,\u001b[0m \u001b[0mres_pred\u001b[0m\u001b[0;34m)\u001b[0m\u001b[0;34m\u001b[0m\u001b[0;34m\u001b[0m\u001b[0m\n\u001b[1;32m     11\u001b[0m \u001b[0mrec\u001b[0m \u001b[0;34m=\u001b[0m \u001b[0mrecall_score\u001b[0m\u001b[0;34m(\u001b[0m\u001b[0mres_test\u001b[0m\u001b[0;34m,\u001b[0m \u001b[0mres_pred\u001b[0m\u001b[0;34m,\u001b[0m \u001b[0maverage\u001b[0m\u001b[0;34m=\u001b[0m\u001b[0;34m'macro'\u001b[0m\u001b[0;34m)\u001b[0m\u001b[0;34m\u001b[0m\u001b[0;34m\u001b[0m\u001b[0m\n",
      "\u001b[0;31mNameError\u001b[0m: name 'decision_tree' is not defined"
     ]
    }
   ],
   "source": [
    "#using the macro average would be a good choice as it treats all classes equally.\n",
    "from sklearn.metrics import accuracy_score\n",
    "from sklearn.metrics import recall_score\n",
    "from sklearn.metrics import precision_score\n",
    "from sklearn.metrics import f1_score\n",
    "from sklearn.metrics import confusion_matrix\n",
    "\n",
    "\n",
    "res_pred = decision_tree.predict(var_test)\n",
    "acc = accuracy_score(res_test, res_pred)\n",
    "rec = recall_score(res_test, res_pred, average='macro')\n",
    "pre = precision_score(res_test, res_pred, average='macro')\n",
    "f1 = f1_score(res_test, res_pred, average='macro')\n",
    "\n",
    "print(confusion_matrix(res_test, res_pred))\n",
    "print(\"Accuracy:\",acc)\n",
    "print(\"Precision Score : \",pre)\n",
    "print(\"Recall Score : \",rec)\n",
    "print(\"F1 Score : \",f1)"
   ]
  },
  {
   "cell_type": "code",
   "execution_count": null,
   "metadata": {},
   "outputs": [],
   "source": [
    "from sklearn.model_selection import KFold\n",
    "kf = KFold(n_splits=10)\n",
    " \n",
    "scores = []\n",
    "dt = DecisionTreeClassifier(criterion='gini', max_depth = 2, \\\n",
    "                        min_samples_leaf = 0.10)\n",
    "for train_index, test_index in kf.split(X):0\n",
    "    #print(\"Train index: {0}, \\nTest index: {1}\".format(train_index, test_index))\n",
    "var_train, var_test = X[train_index], X[test_index]\n",
    "res_train, res_test = y[train_index], y[test_index]\n",
    " \n",
    "dt.fit(var_train, res_train)\n",
    "scores.append(dt.score(var_test, res_test))\n",
    "print(\"\\n\" + (\"*\" * 100))\n",
    "print(\"The cross-validation scores using custom method are \\n{0}\".format(scores))\n",
    "print(\"*\" * 100)\n",
    " \n",
    "import numpy as np\n",
    "print(\"\\n\" + (\"*\" * 100))\n",
    "print(\"Mean of k-fold scores using custom method is {0}\".format(np.mean(scores)))\n",
    "print(\"*\" * 100)\n",
    "print(\"\\n\")"
   ]
  },
  {
   "cell_type": "code",
   "execution_count": null,
   "metadata": {},
   "outputs": [],
   "source": []
  },
  {
   "cell_type": "code",
   "execution_count": null,
   "metadata": {},
   "outputs": [],
   "source": []
  },
  {
   "cell_type": "code",
   "execution_count": null,
   "metadata": {},
   "outputs": [],
   "source": [
    "var_train, var_test, res_train, res_test = train_test_split(X, y, test_size = 0.3)"
   ]
  },
  {
   "cell_type": "markdown",
   "metadata": {},
   "source": [
    "# TREE 2"
   ]
  },
  {
   "cell_type": "code",
   "execution_count": null,
   "metadata": {},
   "outputs": [],
   "source": [
    "X.shape"
   ]
  },
  {
   "cell_type": "code",
   "execution_count": null,
   "metadata": {},
   "outputs": [],
   "source": [
    "y.shape"
   ]
  },
  {
   "cell_type": "code",
   "execution_count": null,
   "metadata": {
    "scrolled": false
   },
   "outputs": [],
   "source": [
    "var_train.shape"
   ]
  },
  {
   "cell_type": "code",
   "execution_count": null,
   "metadata": {},
   "outputs": [],
   "source": [
    "res_train.shape"
   ]
  },
  {
   "cell_type": "code",
   "execution_count": null,
   "metadata": {},
   "outputs": [],
   "source": [
    "newSizeX = round(0.3 * res_train.size)\n",
    "newSizey = round(0.3 * res_train.size)\n",
    "\n",
    "newSizey\n",
    "#newSizey"
   ]
  },
  {
   "cell_type": "code",
   "execution_count": null,
   "metadata": {},
   "outputs": [],
   "source": [
    "#30% of previous train\n",
    "X1 = var_train[0:newSizeX]\n",
    "y1 = res_train[0:newSizey]\n"
   ]
  },
  {
   "cell_type": "code",
   "execution_count": null,
   "metadata": {},
   "outputs": [],
   "source": [
    "type(X1)"
   ]
  },
  {
   "cell_type": "code",
   "execution_count": null,
   "metadata": {
    "scrolled": true
   },
   "outputs": [],
   "source": [
    "var_train1, var_test1, res_train1, res_test1 = train_test_split(X1, y1, test_size = 0.3, random_state = 42)"
   ]
  },
  {
   "cell_type": "code",
   "execution_count": null,
   "metadata": {},
   "outputs": [],
   "source": [
    "decision_tree2 = DecisionTreeClassifier(max_depth=2, random_state=42)\n",
    "decision_tree2 = decision_tree.fit(var_train1, res_train1)"
   ]
  },
  {
   "cell_type": "code",
   "execution_count": null,
   "metadata": {},
   "outputs": [],
   "source": [
    "plot_tree(decision_tree2);\n",
    "plt.savefig('out2.pdf')"
   ]
  },
  {
   "cell_type": "code",
   "execution_count": null,
   "metadata": {},
   "outputs": [],
   "source": [
    "res_pred1"
   ]
  },
  {
   "cell_type": "code",
   "execution_count": 38,
   "metadata": {},
   "outputs": [
    {
     "ename": "NameError",
     "evalue": "name 'decision_tree2' is not defined",
     "output_type": "error",
     "traceback": [
      "\u001b[0;31m---------------------------------------------------------------------------\u001b[0m",
      "\u001b[0;31mNameError\u001b[0m                                 Traceback (most recent call last)",
      "\u001b[0;32m/var/folders/m8/mndpkqfx7dl6syjg7l9h576m0000gp/T/ipykernel_95579/2423120244.py\u001b[0m in \u001b[0;36m<module>\u001b[0;34m\u001b[0m\n\u001b[0;32m----> 1\u001b[0;31m \u001b[0mres_pred1\u001b[0m \u001b[0;34m=\u001b[0m \u001b[0mdecision_tree2\u001b[0m\u001b[0;34m.\u001b[0m\u001b[0mpredict\u001b[0m\u001b[0;34m(\u001b[0m\u001b[0mvar_test1\u001b[0m\u001b[0;34m)\u001b[0m\u001b[0;34m\u001b[0m\u001b[0;34m\u001b[0m\u001b[0m\n\u001b[0m\u001b[1;32m      2\u001b[0m \u001b[0macc\u001b[0m \u001b[0;34m=\u001b[0m \u001b[0maccuracy_score\u001b[0m\u001b[0;34m(\u001b[0m\u001b[0mres_test1\u001b[0m\u001b[0;34m,\u001b[0m \u001b[0mres_pred1\u001b[0m\u001b[0;34m)\u001b[0m\u001b[0;34m\u001b[0m\u001b[0;34m\u001b[0m\u001b[0m\n\u001b[1;32m      3\u001b[0m \u001b[0mrec\u001b[0m \u001b[0;34m=\u001b[0m \u001b[0mrecall_score\u001b[0m\u001b[0;34m(\u001b[0m\u001b[0mres_test1\u001b[0m\u001b[0;34m,\u001b[0m \u001b[0mres_pred1\u001b[0m\u001b[0;34m,\u001b[0m \u001b[0maverage\u001b[0m\u001b[0;34m=\u001b[0m\u001b[0;34m'macro'\u001b[0m\u001b[0;34m)\u001b[0m\u001b[0;34m\u001b[0m\u001b[0;34m\u001b[0m\u001b[0m\n\u001b[1;32m      4\u001b[0m \u001b[0mpre\u001b[0m \u001b[0;34m=\u001b[0m \u001b[0mprecision_score\u001b[0m\u001b[0;34m(\u001b[0m\u001b[0mres_test1\u001b[0m\u001b[0;34m,\u001b[0m \u001b[0mres_pred1\u001b[0m\u001b[0;34m,\u001b[0m \u001b[0maverage\u001b[0m\u001b[0;34m=\u001b[0m\u001b[0;34m'macro'\u001b[0m\u001b[0;34m)\u001b[0m\u001b[0;34m\u001b[0m\u001b[0;34m\u001b[0m\u001b[0m\n\u001b[1;32m      5\u001b[0m \u001b[0mf1\u001b[0m \u001b[0;34m=\u001b[0m \u001b[0mf1_score\u001b[0m\u001b[0;34m(\u001b[0m\u001b[0mres_test1\u001b[0m\u001b[0;34m,\u001b[0m \u001b[0mres_pred1\u001b[0m\u001b[0;34m,\u001b[0m \u001b[0maverage\u001b[0m\u001b[0;34m=\u001b[0m\u001b[0;34m'macro'\u001b[0m\u001b[0;34m)\u001b[0m\u001b[0;34m\u001b[0m\u001b[0;34m\u001b[0m\u001b[0m\n",
      "\u001b[0;31mNameError\u001b[0m: name 'decision_tree2' is not defined"
     ]
    }
   ],
   "source": [
    "res_pred1 = decision_tree2.predict(var_test1)\n",
    "acc = accuracy_score(res_test1, res_pred1)\n",
    "rec = recall_score(res_test1, res_pred1, average='macro')\n",
    "pre = precision_score(res_test1, res_pred1, average='macro')\n",
    "f1 = f1_score(res_test1, res_pred1, average='macro')\n",
    "\n",
    "print(confusion_matrix(res_test1, res_pred1))\n",
    "print(\"Accuracy:\",acc)\n",
    "print(\"Precision Score : \",pre)\n",
    "print(\"Recall Score : \",rec)\n",
    "print(\"F1 Score : \",f1)"
   ]
  },
  {
   "cell_type": "markdown",
   "metadata": {},
   "source": [
    "# TREE 3"
   ]
  },
  {
   "cell_type": "code",
   "execution_count": null,
   "metadata": {},
   "outputs": [],
   "source": [
    "newX = round(0.6 * res_train.size)\n",
    "newy = round(0.6 * res_train.size)\n",
    "\n",
    "newX"
   ]
  },
  {
   "cell_type": "code",
   "execution_count": null,
   "metadata": {},
   "outputs": [],
   "source": [
    "X2 = var_train[0:newX]\n",
    "y2 = res_train[0:newX]"
   ]
  },
  {
   "cell_type": "code",
   "execution_count": null,
   "metadata": {},
   "outputs": [],
   "source": [
    "var_train2, var_test2, res_train2, res_test2 = train_test_split(X2, y2, test_size = 0.3)"
   ]
  },
  {
   "cell_type": "code",
   "execution_count": null,
   "metadata": {},
   "outputs": [],
   "source": [
    "decision_tree3 = DecisionTreeClassifier(max_depth=4, random_state=42)\n",
    "decision_tree3 = decision_tree.fit(var_train2, res_train2)"
   ]
  },
  {
   "cell_type": "code",
   "execution_count": null,
   "metadata": {},
   "outputs": [],
   "source": [
    "plot_tree(decision_tree3);\n",
    "plt.savefig('out3.pdf')"
   ]
  },
  {
   "cell_type": "code",
   "execution_count": null,
   "metadata": {},
   "outputs": [],
   "source": [
    "res_pred2 = decision_tree3.predict(var_test2)\n",
    "acc = accuracy_score(res_test2, res_pred2)\n",
    "rec = recall_score(res_test2, res_pred2, average='macro')\n",
    "pre = precision_score(res_test2, res_pred2, average='macro')\n",
    "f1 = f1_score(res_test2, res_pred2, average='macro')\n",
    "\n",
    "print(\"Accuracy:\",acc)\n",
    "print(\"Precision Score : \",pre)\n",
    "print(\"Recall Score : \",rec)\n",
    "print(\"F1 Score : \",f1)"
   ]
  },
  {
   "cell_type": "code",
   "execution_count": 34,
   "metadata": {},
   "outputs": [],
   "source": [
    "X7 = df2_downsampled.iloc[:, 1:].values.round(decimals=0)\n",
    "y7 = df2_downsampled.iloc[:, 0].values"
   ]
  },
  {
   "cell_type": "code",
   "execution_count": 59,
   "metadata": {},
   "outputs": [],
   "source": []
  },
  {
   "cell_type": "code",
   "execution_count": 62,
   "metadata": {},
   "outputs": [
    {
     "data": {
      "text/plain": [
       "DecisionTreeClassifier(max_depth=2, random_state=42)"
      ]
     },
     "execution_count": 62,
     "metadata": {},
     "output_type": "execute_result"
    }
   ],
   "source": [
    "tree_clf = DecisionTreeClassifier(max_depth=2, random_state=42)\n",
    "tree_clf.fit(X7, y7)"
   ]
  },
  {
   "cell_type": "code",
   "execution_count": 63,
   "metadata": {},
   "outputs": [
    {
     "data": {
      "image/png": "[encoded data removed]",
      "text/plain": [
       "<Figure size 640x480 with 1 Axes>"
      ]
     },
     "metadata": {},
     "output_type": "display_data"
    }
   ],
   "source": [
    "plot_tree(tree_clf);\n",
    "plt.savefig('out1.pdf')"
   ]
  },
  {
   "cell_type": "code",
   "execution_count": 56,
   "metadata": {},
   "outputs": [],
   "source": [
    "X7_train, X7_test, y7_train, y7_test = train_test_split(X7, y7, test_size = 0.2, random_state= 42)"
   ]
  },
  {
   "cell_type": "code",
   "execution_count": 57,
   "metadata": {},
   "outputs": [],
   "source": [
    "decision_tree = DecisionTreeClassifier(max_depth=4, random_state=42)\n",
    "decision_tree = decision_tree.fit(X7_train, y7_train)"
   ]
  },
  {
   "cell_type": "code",
   "execution_count": 58,
   "metadata": {},
   "outputs": [
    {
     "name": "stdout",
     "output_type": "stream",
     "text": [
      "[[3431  285 1285  118]\n",
      " [2107  949 1177  932]\n",
      " [1129  541 2448  968]\n",
      " [1097  760 1408 1797]]\n",
      "Accuracy: 0.4221319498825372\n",
      "Precision Score :  0.41869253358466096\n",
      "Recall Score :  0.4225760207919224\n",
      "F1 Score :  0.4033307432646839\n"
     ]
    }
   ],
   "source": [
    "y7_pred = decision_tree.predict(X7_test)\n",
    "acc = accuracy_score(y7_test, y7_pred)\n",
    "rec = recall_score(y7_test, y7_pred, average='macro')\n",
    "pre = precision_score(y7_test, y7_pred, average='macro')\n",
    "f1 = f1_score(y7_test, y7_pred, average='macro')\n",
    "\n",
    "print(confusion_matrix(y7_test, y7_pred))\n",
    "print(\"Accuracy:\",acc)\n",
    "print(\"Precision Score : \",pre)\n",
    "print(\"Recall Score : \",rec)\n",
    "print(\"F1 Score : \",f1)"
   ]
  },
  {
   "cell_type": "code",
   "execution_count": null,
   "metadata": {},
   "outputs": [],
   "source": []
  }
 ],
 "metadata": {
  "colab": {
   "name": "Tutorial 1  Data Exploration and Visualization (Getting to know your data).ipynb",
   "provenance": []
  },
  "kernelspec": {
   "display_name": "Python 3 (ipykernel)",
   "language": "python",
   "name": "python3"
  },
  "language_info": {
   "codemirror_mode": {
    "name": "ipython",
    "version": 3
   },
   "file_extension": ".py",
   "mimetype": "text/x-python",
   "name": "python",
   "nbconvert_exporter": "python",
   "pygments_lexer": "ipython3",
   "version": "3.9.13"
  },
  "vscode": {
   "interpreter": {
    "hash": "efb9f42aedd77c290c9ac444bca03d1d08f2eedfa00a5af02c90bac9443c2ca2"
   }
  }
 },
 "nbformat": 4,
 "nbformat_minor": 1
}
