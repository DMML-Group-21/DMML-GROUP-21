{
 "cells": [
  {
   "cell_type": "markdown",
   "metadata": {
    "id": "ln8q979HhRrL"
   },
   "source": [
    "https://github.com/ageron/handson-ml2/blob/master/02_end_to_end_machine_learning_project.ipynb\n",
    "https://colab.research.google.com/github/ageron/handson-ml2/blob/master/02_end_to_end_machine_learning_project.ipynb#scrollTo=E-hlmIU5tN3P\n"
   ]
  },
  {
   "cell_type": "markdown",
   "metadata": {
    "id": "1Yp2x5NphRrR"
   },
   "source": [
    "# Tutorial 1 (housing) Data Exploration and Visualization (Getting to know your data)"
   ]
  },
  {
   "cell_type": "markdown",
   "metadata": {
    "id": "3G2agedJhRrS"
   },
   "source": [
    "## Setup"
   ]
  },
  {
   "cell_type": "code",
   "execution_count": 6,
   "metadata": {
    "id": "UJMHBNTNhRrS"
   },
   "outputs": [],
   "source": [
    "import sys\n",
    "assert sys.version_info >= (3, 5)\n",
    "# Python ≥3.5 is required\n"
   ]
  },
  {
   "cell_type": "code",
   "execution_count": 7,
   "metadata": {
    "id": "rEM0Cu7xhRrU"
   },
   "outputs": [],
   "source": [
    "# Scikit-Learn ≥0.20 is required\n",
    "import sklearn\n",
    "assert sklearn.__version__ >= \"0.20\""
   ]
  },
  {
   "cell_type": "code",
   "execution_count": 8,
   "metadata": {
    "id": "kBhrMzIvhRrV"
   },
   "outputs": [],
   "source": [
    "# Common imports\n",
    "import numpy as np\n",
    "import os\n",
    "import tarfile\n",
    "import urllib\n",
    "import pandas as pd\n",
    "import urllib.request\n",
    "import seaborn as sns\n",
    "\n",
    "from sklearn.model_selection import train_test_split\n",
    "from sklearn.linear_model import LogisticRegression\n",
    "from sklearn.metrics import roc_curve\n",
    "from sklearn import preprocessing\n",
    "from sklearn import metrics"
   ]
  },
  {
   "cell_type": "code",
   "execution_count": 9,
   "metadata": {
    "id": "F0MqHkqGhRrW"
   },
   "outputs": [],
   "source": [
    "# To plot pretty figures\n",
    "%matplotlib inline\n",
    "import matplotlib as mpl\n",
    "import matplotlib.pyplot as plt"
   ]
  },
  {
   "cell_type": "markdown",
   "metadata": {
    "id": "e1PFyyJfhRrX"
   },
   "source": [
    "# Get the data"
   ]
  },
  {
   "cell_type": "markdown",
   "metadata": {
    "id": "lVD91J2YhRrX"
   },
   "source": [
    "With this code, we download and store the tgz file and extract it on the same location of the notebook and sub folders \"datasets/housing/\""
   ]
  },
  {
   "cell_type": "code",
   "execution_count": 10,
   "metadata": {},
   "outputs": [],
   "source": [
    "data = pd.read_csv(\"US_Accidents_Dec21_updated.csv\")"
   ]
  },
  {
   "cell_type": "code",
   "execution_count": 11,
   "metadata": {
    "scrolled": true
   },
   "outputs": [
    {
     "data": {
      "text/html": [
       "<div>\n",
       "<style scoped>\n",
       "    .dataframe tbody tr th:only-of-type {\n",
       "        vertical-align: middle;\n",
       "    }\n",
       "\n",
       "    .dataframe tbody tr th {\n",
       "        vertical-align: top;\n",
       "    }\n",
       "\n",
       "    .dataframe thead th {\n",
       "        text-align: right;\n",
       "    }\n",
       "</style>\n",
       "<table border=\"1\" class=\"dataframe\">\n",
       "  <thead>\n",
       "    <tr style=\"text-align: right;\">\n",
       "      <th></th>\n",
       "      <th>ID</th>\n",
       "      <th>Severity</th>\n",
       "      <th>Start_Time</th>\n",
       "      <th>End_Time</th>\n",
       "      <th>Start_Lat</th>\n",
       "      <th>Start_Lng</th>\n",
       "      <th>End_Lat</th>\n",
       "      <th>End_Lng</th>\n",
       "      <th>Distance(mi)</th>\n",
       "      <th>Description</th>\n",
       "      <th>...</th>\n",
       "      <th>Roundabout</th>\n",
       "      <th>Station</th>\n",
       "      <th>Stop</th>\n",
       "      <th>Traffic_Calming</th>\n",
       "      <th>Traffic_Signal</th>\n",
       "      <th>Turning_Loop</th>\n",
       "      <th>Sunrise_Sunset</th>\n",
       "      <th>Civil_Twilight</th>\n",
       "      <th>Nautical_Twilight</th>\n",
       "      <th>Astronomical_Twilight</th>\n",
       "    </tr>\n",
       "  </thead>\n",
       "  <tbody>\n",
       "    <tr>\n",
       "      <th>0</th>\n",
       "      <td>A-1</td>\n",
       "      <td>3</td>\n",
       "      <td>2016-02-08 00:37:08</td>\n",
       "      <td>2016-02-08 06:37:08</td>\n",
       "      <td>40.108910</td>\n",
       "      <td>-83.092860</td>\n",
       "      <td>40.112060</td>\n",
       "      <td>-83.031870</td>\n",
       "      <td>3.230</td>\n",
       "      <td>Between Sawmill Rd/Exit 20 and OH-315/Olentang...</td>\n",
       "      <td>...</td>\n",
       "      <td>False</td>\n",
       "      <td>False</td>\n",
       "      <td>False</td>\n",
       "      <td>False</td>\n",
       "      <td>False</td>\n",
       "      <td>False</td>\n",
       "      <td>Night</td>\n",
       "      <td>Night</td>\n",
       "      <td>Night</td>\n",
       "      <td>Night</td>\n",
       "    </tr>\n",
       "    <tr>\n",
       "      <th>1</th>\n",
       "      <td>A-2</td>\n",
       "      <td>2</td>\n",
       "      <td>2016-02-08 05:56:20</td>\n",
       "      <td>2016-02-08 11:56:20</td>\n",
       "      <td>39.865420</td>\n",
       "      <td>-84.062800</td>\n",
       "      <td>39.865010</td>\n",
       "      <td>-84.048730</td>\n",
       "      <td>0.747</td>\n",
       "      <td>At OH-4/OH-235/Exit 41 - Accident.</td>\n",
       "      <td>...</td>\n",
       "      <td>False</td>\n",
       "      <td>False</td>\n",
       "      <td>False</td>\n",
       "      <td>False</td>\n",
       "      <td>False</td>\n",
       "      <td>False</td>\n",
       "      <td>Night</td>\n",
       "      <td>Night</td>\n",
       "      <td>Night</td>\n",
       "      <td>Night</td>\n",
       "    </tr>\n",
       "    <tr>\n",
       "      <th>2</th>\n",
       "      <td>A-3</td>\n",
       "      <td>2</td>\n",
       "      <td>2016-02-08 06:15:39</td>\n",
       "      <td>2016-02-08 12:15:39</td>\n",
       "      <td>39.102660</td>\n",
       "      <td>-84.524680</td>\n",
       "      <td>39.102090</td>\n",
       "      <td>-84.523960</td>\n",
       "      <td>0.055</td>\n",
       "      <td>At I-71/US-50/Exit 1 - Accident.</td>\n",
       "      <td>...</td>\n",
       "      <td>False</td>\n",
       "      <td>False</td>\n",
       "      <td>False</td>\n",
       "      <td>False</td>\n",
       "      <td>False</td>\n",
       "      <td>False</td>\n",
       "      <td>Night</td>\n",
       "      <td>Night</td>\n",
       "      <td>Night</td>\n",
       "      <td>Day</td>\n",
       "    </tr>\n",
       "    <tr>\n",
       "      <th>3</th>\n",
       "      <td>A-4</td>\n",
       "      <td>2</td>\n",
       "      <td>2016-02-08 06:51:45</td>\n",
       "      <td>2016-02-08 12:51:45</td>\n",
       "      <td>41.062130</td>\n",
       "      <td>-81.537840</td>\n",
       "      <td>41.062170</td>\n",
       "      <td>-81.535470</td>\n",
       "      <td>0.123</td>\n",
       "      <td>At Dart Ave/Exit 21 - Accident.</td>\n",
       "      <td>...</td>\n",
       "      <td>False</td>\n",
       "      <td>False</td>\n",
       "      <td>False</td>\n",
       "      <td>False</td>\n",
       "      <td>False</td>\n",
       "      <td>False</td>\n",
       "      <td>Night</td>\n",
       "      <td>Night</td>\n",
       "      <td>Day</td>\n",
       "      <td>Day</td>\n",
       "    </tr>\n",
       "    <tr>\n",
       "      <th>4</th>\n",
       "      <td>A-5</td>\n",
       "      <td>3</td>\n",
       "      <td>2016-02-08 07:53:43</td>\n",
       "      <td>2016-02-08 13:53:43</td>\n",
       "      <td>39.172393</td>\n",
       "      <td>-84.492792</td>\n",
       "      <td>39.170476</td>\n",
       "      <td>-84.501798</td>\n",
       "      <td>0.500</td>\n",
       "      <td>At Mitchell Ave/Exit 6 - Accident.</td>\n",
       "      <td>...</td>\n",
       "      <td>False</td>\n",
       "      <td>False</td>\n",
       "      <td>False</td>\n",
       "      <td>False</td>\n",
       "      <td>False</td>\n",
       "      <td>False</td>\n",
       "      <td>Day</td>\n",
       "      <td>Day</td>\n",
       "      <td>Day</td>\n",
       "      <td>Day</td>\n",
       "    </tr>\n",
       "  </tbody>\n",
       "</table>\n",
       "<p>5 rows × 47 columns</p>\n",
       "</div>"
      ],
      "text/plain": [
       "    ID  Severity           Start_Time             End_Time  Start_Lat  \\\n",
       "0  A-1         3  2016-02-08 00:37:08  2016-02-08 06:37:08  40.108910   \n",
       "1  A-2         2  2016-02-08 05:56:20  2016-02-08 11:56:20  39.865420   \n",
       "2  A-3         2  2016-02-08 06:15:39  2016-02-08 12:15:39  39.102660   \n",
       "3  A-4         2  2016-02-08 06:51:45  2016-02-08 12:51:45  41.062130   \n",
       "4  A-5         3  2016-02-08 07:53:43  2016-02-08 13:53:43  39.172393   \n",
       "\n",
       "   Start_Lng    End_Lat    End_Lng  Distance(mi)  \\\n",
       "0 -83.092860  40.112060 -83.031870         3.230   \n",
       "1 -84.062800  39.865010 -84.048730         0.747   \n",
       "2 -84.524680  39.102090 -84.523960         0.055   \n",
       "3 -81.537840  41.062170 -81.535470         0.123   \n",
       "4 -84.492792  39.170476 -84.501798         0.500   \n",
       "\n",
       "                                         Description  ...  Roundabout Station  \\\n",
       "0  Between Sawmill Rd/Exit 20 and OH-315/Olentang...  ...       False   False   \n",
       "1                 At OH-4/OH-235/Exit 41 - Accident.  ...       False   False   \n",
       "2                   At I-71/US-50/Exit 1 - Accident.  ...       False   False   \n",
       "3                    At Dart Ave/Exit 21 - Accident.  ...       False   False   \n",
       "4                 At Mitchell Ave/Exit 6 - Accident.  ...       False   False   \n",
       "\n",
       "    Stop Traffic_Calming Traffic_Signal Turning_Loop Sunrise_Sunset  \\\n",
       "0  False           False          False        False          Night   \n",
       "1  False           False          False        False          Night   \n",
       "2  False           False          False        False          Night   \n",
       "3  False           False          False        False          Night   \n",
       "4  False           False          False        False            Day   \n",
       "\n",
       "  Civil_Twilight Nautical_Twilight Astronomical_Twilight  \n",
       "0          Night             Night                 Night  \n",
       "1          Night             Night                 Night  \n",
       "2          Night             Night                   Day  \n",
       "3          Night               Day                   Day  \n",
       "4            Day               Day                   Day  \n",
       "\n",
       "[5 rows x 47 columns]"
      ]
     },
     "execution_count": 11,
     "metadata": {},
     "output_type": "execute_result"
    }
   ],
   "source": [
    "data.head()"
   ]
  },
  {
   "cell_type": "code",
   "execution_count": 12,
   "metadata": {
    "colab": {
     "base_uri": "https://localhost:8080/"
    },
    "id": "6jx67hw8hRrd",
    "outputId": "b7367d26-67ea-430f-82de-02c2c75f76bc"
   },
   "outputs": [
    {
     "name": "stdout",
     "output_type": "stream",
     "text": [
      "<class 'pandas.core.frame.DataFrame'>\n",
      "RangeIndex: 2845342 entries, 0 to 2845341\n",
      "Data columns (total 47 columns):\n",
      " #   Column                 Dtype  \n",
      "---  ------                 -----  \n",
      " 0   ID                     object \n",
      " 1   Severity               int64  \n",
      " 2   Start_Time             object \n",
      " 3   End_Time               object \n",
      " 4   Start_Lat              float64\n",
      " 5   Start_Lng              float64\n",
      " 6   End_Lat                float64\n",
      " 7   End_Lng                float64\n",
      " 8   Distance(mi)           float64\n",
      " 9   Description            object \n",
      " 10  Number                 float64\n",
      " 11  Street                 object \n",
      " 12  Side                   object \n",
      " 13  City                   object \n",
      " 14  County                 object \n",
      " 15  State                  object \n",
      " 16  Zipcode                object \n",
      " 17  Country                object \n",
      " 18  Timezone               object \n",
      " 19  Airport_Code           object \n",
      " 20  Weather_Timestamp      object \n",
      " 21  Temperature(F)         float64\n",
      " 22  Wind_Chill(F)          float64\n",
      " 23  Humidity(%)            float64\n",
      " 24  Pressure(in)           float64\n",
      " 25  Visibility(mi)         float64\n",
      " 26  Wind_Direction         object \n",
      " 27  Wind_Speed(mph)        float64\n",
      " 28  Precipitation(in)      float64\n",
      " 29  Weather_Condition      object \n",
      " 30  Amenity                bool   \n",
      " 31  Bump                   bool   \n",
      " 32  Crossing               bool   \n",
      " 33  Give_Way               bool   \n",
      " 34  Junction               bool   \n",
      " 35  No_Exit                bool   \n",
      " 36  Railway                bool   \n",
      " 37  Roundabout             bool   \n",
      " 38  Station                bool   \n",
      " 39  Stop                   bool   \n",
      " 40  Traffic_Calming        bool   \n",
      " 41  Traffic_Signal         bool   \n",
      " 42  Turning_Loop           bool   \n",
      " 43  Sunrise_Sunset         object \n",
      " 44  Civil_Twilight         object \n",
      " 45  Nautical_Twilight      object \n",
      " 46  Astronomical_Twilight  object \n",
      "dtypes: bool(13), float64(13), int64(1), object(20)\n",
      "memory usage: 773.4+ MB\n"
     ]
    }
   ],
   "source": [
    "#This method prints information about a DataFrame including the dtype and columns, non-null values and memory usage.\n",
    "data.info() \n",
    "#Q2 Can you tell if there are any missing values? If yes, which attribuites contain missing values ? "
   ]
  },
  {
   "cell_type": "markdown",
   "metadata": {
    "id": "co0dQ38ShRrf"
   },
   "source": [
    "All attributes are numerical, except the ocean_proximity field."
   ]
  },
  {
   "cell_type": "code",
   "execution_count": 13,
   "metadata": {
    "colab": {
     "base_uri": "https://localhost:8080/",
     "height": 317
    },
    "id": "UCE1jukBhRrg",
    "outputId": "09d3e84c-557a-47ac-dbbc-8add01ed3c31"
   },
   "outputs": [
    {
     "data": {
      "text/html": [
       "<div>\n",
       "<style scoped>\n",
       "    .dataframe tbody tr th:only-of-type {\n",
       "        vertical-align: middle;\n",
       "    }\n",
       "\n",
       "    .dataframe tbody tr th {\n",
       "        vertical-align: top;\n",
       "    }\n",
       "\n",
       "    .dataframe thead th {\n",
       "        text-align: right;\n",
       "    }\n",
       "</style>\n",
       "<table border=\"1\" class=\"dataframe\">\n",
       "  <thead>\n",
       "    <tr style=\"text-align: right;\">\n",
       "      <th></th>\n",
       "      <th>count</th>\n",
       "      <th>mean</th>\n",
       "      <th>std</th>\n",
       "      <th>min</th>\n",
       "      <th>25%</th>\n",
       "      <th>50%</th>\n",
       "      <th>75%</th>\n",
       "      <th>max</th>\n",
       "    </tr>\n",
       "  </thead>\n",
       "  <tbody>\n",
       "    <tr>\n",
       "      <th>Severity</th>\n",
       "      <td>2845342.0</td>\n",
       "      <td>2.137572</td>\n",
       "      <td>0.478722</td>\n",
       "      <td>1.000000</td>\n",
       "      <td>2.000000</td>\n",
       "      <td>2.000000</td>\n",
       "      <td>2.000000</td>\n",
       "      <td>4.000000e+00</td>\n",
       "    </tr>\n",
       "    <tr>\n",
       "      <th>Start_Lat</th>\n",
       "      <td>2845342.0</td>\n",
       "      <td>36.245201</td>\n",
       "      <td>5.363797</td>\n",
       "      <td>24.566027</td>\n",
       "      <td>33.445174</td>\n",
       "      <td>36.098609</td>\n",
       "      <td>40.160243</td>\n",
       "      <td>4.900058e+01</td>\n",
       "    </tr>\n",
       "    <tr>\n",
       "      <th>Start_Lng</th>\n",
       "      <td>2845342.0</td>\n",
       "      <td>-97.114633</td>\n",
       "      <td>18.317819</td>\n",
       "      <td>-124.548074</td>\n",
       "      <td>-118.033113</td>\n",
       "      <td>-92.418076</td>\n",
       "      <td>-80.372431</td>\n",
       "      <td>-6.711317e+01</td>\n",
       "    </tr>\n",
       "    <tr>\n",
       "      <th>End_Lat</th>\n",
       "      <td>2845342.0</td>\n",
       "      <td>36.245321</td>\n",
       "      <td>5.363873</td>\n",
       "      <td>24.566013</td>\n",
       "      <td>33.446278</td>\n",
       "      <td>36.097987</td>\n",
       "      <td>40.161049</td>\n",
       "      <td>4.907500e+01</td>\n",
       "    </tr>\n",
       "    <tr>\n",
       "      <th>End_Lng</th>\n",
       "      <td>2845342.0</td>\n",
       "      <td>-97.114387</td>\n",
       "      <td>18.317632</td>\n",
       "      <td>-124.545748</td>\n",
       "      <td>-118.033331</td>\n",
       "      <td>-92.417718</td>\n",
       "      <td>-80.373383</td>\n",
       "      <td>-6.710924e+01</td>\n",
       "    </tr>\n",
       "    <tr>\n",
       "      <th>Distance(mi)</th>\n",
       "      <td>2845342.0</td>\n",
       "      <td>0.702678</td>\n",
       "      <td>1.560361</td>\n",
       "      <td>0.000000</td>\n",
       "      <td>0.052000</td>\n",
       "      <td>0.244000</td>\n",
       "      <td>0.764000</td>\n",
       "      <td>1.551860e+02</td>\n",
       "    </tr>\n",
       "    <tr>\n",
       "      <th>Number</th>\n",
       "      <td>1101431.0</td>\n",
       "      <td>8089.408114</td>\n",
       "      <td>18360.093995</td>\n",
       "      <td>0.000000</td>\n",
       "      <td>1270.000000</td>\n",
       "      <td>4007.000000</td>\n",
       "      <td>9567.000000</td>\n",
       "      <td>9.999997e+06</td>\n",
       "    </tr>\n",
       "    <tr>\n",
       "      <th>Temperature(F)</th>\n",
       "      <td>2776068.0</td>\n",
       "      <td>61.793556</td>\n",
       "      <td>18.622629</td>\n",
       "      <td>-89.000000</td>\n",
       "      <td>50.000000</td>\n",
       "      <td>64.000000</td>\n",
       "      <td>76.000000</td>\n",
       "      <td>1.960000e+02</td>\n",
       "    </tr>\n",
       "    <tr>\n",
       "      <th>Wind_Chill(F)</th>\n",
       "      <td>2375699.0</td>\n",
       "      <td>59.658231</td>\n",
       "      <td>21.160967</td>\n",
       "      <td>-89.000000</td>\n",
       "      <td>46.000000</td>\n",
       "      <td>63.000000</td>\n",
       "      <td>76.000000</td>\n",
       "      <td>1.960000e+02</td>\n",
       "    </tr>\n",
       "    <tr>\n",
       "      <th>Humidity(%)</th>\n",
       "      <td>2772250.0</td>\n",
       "      <td>64.365452</td>\n",
       "      <td>22.874568</td>\n",
       "      <td>1.000000</td>\n",
       "      <td>48.000000</td>\n",
       "      <td>67.000000</td>\n",
       "      <td>83.000000</td>\n",
       "      <td>1.000000e+02</td>\n",
       "    </tr>\n",
       "    <tr>\n",
       "      <th>Pressure(in)</th>\n",
       "      <td>2786142.0</td>\n",
       "      <td>29.472344</td>\n",
       "      <td>1.045286</td>\n",
       "      <td>0.000000</td>\n",
       "      <td>29.310000</td>\n",
       "      <td>29.820000</td>\n",
       "      <td>30.010000</td>\n",
       "      <td>5.890000e+01</td>\n",
       "    </tr>\n",
       "    <tr>\n",
       "      <th>Visibility(mi)</th>\n",
       "      <td>2774796.0</td>\n",
       "      <td>9.099391</td>\n",
       "      <td>2.717546</td>\n",
       "      <td>0.000000</td>\n",
       "      <td>10.000000</td>\n",
       "      <td>10.000000</td>\n",
       "      <td>10.000000</td>\n",
       "      <td>1.400000e+02</td>\n",
       "    </tr>\n",
       "    <tr>\n",
       "      <th>Wind_Speed(mph)</th>\n",
       "      <td>2687398.0</td>\n",
       "      <td>7.395044</td>\n",
       "      <td>5.527454</td>\n",
       "      <td>0.000000</td>\n",
       "      <td>3.500000</td>\n",
       "      <td>7.000000</td>\n",
       "      <td>10.000000</td>\n",
       "      <td>1.087000e+03</td>\n",
       "    </tr>\n",
       "    <tr>\n",
       "      <th>Precipitation(in)</th>\n",
       "      <td>2295884.0</td>\n",
       "      <td>0.007017</td>\n",
       "      <td>0.093488</td>\n",
       "      <td>0.000000</td>\n",
       "      <td>0.000000</td>\n",
       "      <td>0.000000</td>\n",
       "      <td>0.000000</td>\n",
       "      <td>2.400000e+01</td>\n",
       "    </tr>\n",
       "  </tbody>\n",
       "</table>\n",
       "</div>"
      ],
      "text/plain": [
       "                       count         mean           std         min  \\\n",
       "Severity           2845342.0     2.137572      0.478722    1.000000   \n",
       "Start_Lat          2845342.0    36.245201      5.363797   24.566027   \n",
       "Start_Lng          2845342.0   -97.114633     18.317819 -124.548074   \n",
       "End_Lat            2845342.0    36.245321      5.363873   24.566013   \n",
       "End_Lng            2845342.0   -97.114387     18.317632 -124.545748   \n",
       "Distance(mi)       2845342.0     0.702678      1.560361    0.000000   \n",
       "Number             1101431.0  8089.408114  18360.093995    0.000000   \n",
       "Temperature(F)     2776068.0    61.793556     18.622629  -89.000000   \n",
       "Wind_Chill(F)      2375699.0    59.658231     21.160967  -89.000000   \n",
       "Humidity(%)        2772250.0    64.365452     22.874568    1.000000   \n",
       "Pressure(in)       2786142.0    29.472344      1.045286    0.000000   \n",
       "Visibility(mi)     2774796.0     9.099391      2.717546    0.000000   \n",
       "Wind_Speed(mph)    2687398.0     7.395044      5.527454    0.000000   \n",
       "Precipitation(in)  2295884.0     0.007017      0.093488    0.000000   \n",
       "\n",
       "                           25%          50%          75%           max  \n",
       "Severity              2.000000     2.000000     2.000000  4.000000e+00  \n",
       "Start_Lat            33.445174    36.098609    40.160243  4.900058e+01  \n",
       "Start_Lng          -118.033113   -92.418076   -80.372431 -6.711317e+01  \n",
       "End_Lat              33.446278    36.097987    40.161049  4.907500e+01  \n",
       "End_Lng            -118.033331   -92.417718   -80.373383 -6.710924e+01  \n",
       "Distance(mi)          0.052000     0.244000     0.764000  1.551860e+02  \n",
       "Number             1270.000000  4007.000000  9567.000000  9.999997e+06  \n",
       "Temperature(F)       50.000000    64.000000    76.000000  1.960000e+02  \n",
       "Wind_Chill(F)        46.000000    63.000000    76.000000  1.960000e+02  \n",
       "Humidity(%)          48.000000    67.000000    83.000000  1.000000e+02  \n",
       "Pressure(in)         29.310000    29.820000    30.010000  5.890000e+01  \n",
       "Visibility(mi)       10.000000    10.000000    10.000000  1.400000e+02  \n",
       "Wind_Speed(mph)       3.500000     7.000000    10.000000  1.087000e+03  \n",
       "Precipitation(in)     0.000000     0.000000     0.000000  2.400000e+01  "
      ]
     },
     "execution_count": 13,
     "metadata": {},
     "output_type": "execute_result"
    }
   ],
   "source": [
    "#This method shows a statistical summary of the numerical attributes \n",
    "data.describe().T"
   ]
  },
  {
   "cell_type": "code",
   "execution_count": 14,
   "metadata": {},
   "outputs": [
    {
     "data": {
      "text/plain": [
       "ID                             0\n",
       "Severity                       0\n",
       "Start_Time                     0\n",
       "End_Time                       0\n",
       "Start_Lat                      0\n",
       "Start_Lng                      0\n",
       "End_Lat                        0\n",
       "End_Lng                        0\n",
       "Distance(mi)                   0\n",
       "Description                    0\n",
       "Number                   1743911\n",
       "Street                         2\n",
       "Side                           0\n",
       "City                         137\n",
       "County                         0\n",
       "State                          0\n",
       "Zipcode                     1319\n",
       "Country                        0\n",
       "Timezone                    3659\n",
       "Airport_Code                9549\n",
       "Weather_Timestamp          50736\n",
       "Temperature(F)             69274\n",
       "Wind_Chill(F)             469643\n",
       "Humidity(%)                73092\n",
       "Pressure(in)               59200\n",
       "Visibility(mi)             70546\n",
       "Wind_Direction             73775\n",
       "Wind_Speed(mph)           157944\n",
       "Precipitation(in)         549458\n",
       "Weather_Condition          70636\n",
       "Amenity                        0\n",
       "Bump                           0\n",
       "Crossing                       0\n",
       "Give_Way                       0\n",
       "Junction                       0\n",
       "No_Exit                        0\n",
       "Railway                        0\n",
       "Roundabout                     0\n",
       "Station                        0\n",
       "Stop                           0\n",
       "Traffic_Calming                0\n",
       "Traffic_Signal                 0\n",
       "Turning_Loop                   0\n",
       "Sunrise_Sunset              2867\n",
       "Civil_Twilight              2867\n",
       "Nautical_Twilight           2867\n",
       "Astronomical_Twilight       2867\n",
       "dtype: int64"
      ]
     },
     "execution_count": 14,
     "metadata": {},
     "output_type": "execute_result"
    }
   ],
   "source": [
    "data.isnull().sum()"
   ]
  },
  {
   "cell_type": "code",
   "execution_count": null,
   "metadata": {},
   "outputs": [],
   "source": []
  },
  {
   "cell_type": "markdown",
   "metadata": {
    "id": "DTWv5nPvhRrh"
   },
   "source": [
    "The count, mean, min, and max rows are self-explanatory. Note that the null values are ignored (so, for example, the count of total_bedrooms is 20,433, not 20,640).\n",
    "\n",
    "The 25%, 50%, and 75% rows show the corresponding percentiles: a percentile indicates the value below which a given percentage of observations in a group of observations fall."
   ]
  },
  {
   "cell_type": "code",
   "execution_count": 15,
   "metadata": {
    "colab": {
     "base_uri": "https://localhost:8080/",
     "height": 838
    },
    "id": "zL4M1klihRri",
    "outputId": "daab2804-eae7-421b-c2f3-4cc1fb38c6d0"
   },
   "outputs": [
    {
     "data": {
      "image/png": "[encoded data removed]",
      "text/plain": [
       "<Figure size 1440x1080 with 16 Axes>"
      ]
     },
     "metadata": {
      "needs_background": "light"
     },
     "output_type": "display_data"
    }
   ],
   "source": [
    "#To plot a histogram for each numerical attribute\n",
    "data.hist(bins=50, figsize=(20,15))\n",
    "plt.show()\n",
    "# Q4 List down the main observations you noted from the statistical summary and the histogram"
   ]
  },
  {
   "cell_type": "code",
   "execution_count": 16,
   "metadata": {},
   "outputs": [
    {
     "data": {
      "text/plain": [
       "11682"
      ]
     },
     "execution_count": 16,
     "metadata": {},
     "output_type": "execute_result"
    }
   ],
   "source": [
    "cities = data.City.unique()\n",
    "len(cities)"
   ]
  },
  {
   "cell_type": "raw",
   "metadata": {},
   "source": [
    "numOfAccidentsPerCity = data.City.value_counts()\n",
    "numOfAccidentsPerCity.head(20)"
   ]
  },
  {
   "cell_type": "code",
   "execution_count": 17,
   "metadata": {},
   "outputs": [
    {
     "data": {
      "text/html": [
       "<div>\n",
       "<style scoped>\n",
       "    .dataframe tbody tr th:only-of-type {\n",
       "        vertical-align: middle;\n",
       "    }\n",
       "\n",
       "    .dataframe tbody tr th {\n",
       "        vertical-align: top;\n",
       "    }\n",
       "\n",
       "    .dataframe thead th {\n",
       "        text-align: right;\n",
       "    }\n",
       "</style>\n",
       "<table border=\"1\" class=\"dataframe\">\n",
       "  <thead>\n",
       "    <tr style=\"text-align: right;\">\n",
       "      <th></th>\n",
       "      <th>Weather_Condition</th>\n",
       "      <th>Accidents</th>\n",
       "      <th>Percentage</th>\n",
       "    </tr>\n",
       "  </thead>\n",
       "  <tbody>\n",
       "    <tr>\n",
       "      <th>0</th>\n",
       "      <td>Fair</td>\n",
       "      <td>1107194</td>\n",
       "      <td>39.90</td>\n",
       "    </tr>\n",
       "    <tr>\n",
       "      <th>1</th>\n",
       "      <td>Mostly Cloudy</td>\n",
       "      <td>363959</td>\n",
       "      <td>13.12</td>\n",
       "    </tr>\n",
       "    <tr>\n",
       "      <th>2</th>\n",
       "      <td>Cloudy</td>\n",
       "      <td>348767</td>\n",
       "      <td>12.57</td>\n",
       "    </tr>\n",
       "    <tr>\n",
       "      <th>3</th>\n",
       "      <td>Partly Cloudy</td>\n",
       "      <td>249939</td>\n",
       "      <td>9.01</td>\n",
       "    </tr>\n",
       "    <tr>\n",
       "      <th>4</th>\n",
       "      <td>Clear</td>\n",
       "      <td>173823</td>\n",
       "      <td>6.26</td>\n",
       "    </tr>\n",
       "    <tr>\n",
       "      <th>5</th>\n",
       "      <td>Light Rain</td>\n",
       "      <td>128403</td>\n",
       "      <td>4.63</td>\n",
       "    </tr>\n",
       "    <tr>\n",
       "      <th>6</th>\n",
       "      <td>Overcast</td>\n",
       "      <td>84882</td>\n",
       "      <td>3.06</td>\n",
       "    </tr>\n",
       "    <tr>\n",
       "      <th>7</th>\n",
       "      <td>Scattered Clouds</td>\n",
       "      <td>45132</td>\n",
       "      <td>1.63</td>\n",
       "    </tr>\n",
       "    <tr>\n",
       "      <th>8</th>\n",
       "      <td>Light Snow</td>\n",
       "      <td>43752</td>\n",
       "      <td>1.58</td>\n",
       "    </tr>\n",
       "    <tr>\n",
       "      <th>9</th>\n",
       "      <td>Fog</td>\n",
       "      <td>41226</td>\n",
       "      <td>1.49</td>\n",
       "    </tr>\n",
       "  </tbody>\n",
       "</table>\n",
       "</div>"
      ],
      "text/plain": [
       "  Weather_Condition  Accidents  Percentage\n",
       "0              Fair    1107194       39.90\n",
       "1     Mostly Cloudy     363959       13.12\n",
       "2            Cloudy     348767       12.57\n",
       "3     Partly Cloudy     249939        9.01\n",
       "4             Clear     173823        6.26\n",
       "5        Light Rain     128403        4.63\n",
       "6          Overcast      84882        3.06\n",
       "7  Scattered Clouds      45132        1.63\n",
       "8        Light Snow      43752        1.58\n",
       "9               Fog      41226        1.49"
      ]
     },
     "execution_count": 17,
     "metadata": {},
     "output_type": "execute_result"
    }
   ],
   "source": [
    "Weatherconditions = data.Weather_Condition.value_counts().reset_index()\n",
    "Weatherconditions.columns = ['Weather_Condition','Accidents']\n",
    "Weatherconditions['Percentage'] = round(Weatherconditions['Accidents'] * 100 /Weatherconditions['Accidents'].sum() , 2)\n",
    "Weatherconditions.head(10)"
   ]
  },
  {
   "cell_type": "code",
   "execution_count": 18,
   "metadata": {},
   "outputs": [
    {
     "data": {
      "text/html": [
       "<div>\n",
       "<style scoped>\n",
       "    .dataframe tbody tr th:only-of-type {\n",
       "        vertical-align: middle;\n",
       "    }\n",
       "\n",
       "    .dataframe tbody tr th {\n",
       "        vertical-align: top;\n",
       "    }\n",
       "\n",
       "    .dataframe thead th {\n",
       "        text-align: right;\n",
       "    }\n",
       "</style>\n",
       "<table border=\"1\" class=\"dataframe\">\n",
       "  <thead>\n",
       "    <tr style=\"text-align: right;\">\n",
       "      <th></th>\n",
       "      <th>Severity</th>\n",
       "      <th>Accidents</th>\n",
       "      <th>Percentage</th>\n",
       "    </tr>\n",
       "  </thead>\n",
       "  <tbody>\n",
       "    <tr>\n",
       "      <th>0</th>\n",
       "      <td>2</td>\n",
       "      <td>2532991</td>\n",
       "      <td>89.02</td>\n",
       "    </tr>\n",
       "    <tr>\n",
       "      <th>1</th>\n",
       "      <td>3</td>\n",
       "      <td>155105</td>\n",
       "      <td>5.45</td>\n",
       "    </tr>\n",
       "    <tr>\n",
       "      <th>2</th>\n",
       "      <td>4</td>\n",
       "      <td>131193</td>\n",
       "      <td>4.61</td>\n",
       "    </tr>\n",
       "    <tr>\n",
       "      <th>3</th>\n",
       "      <td>1</td>\n",
       "      <td>26053</td>\n",
       "      <td>0.92</td>\n",
       "    </tr>\n",
       "  </tbody>\n",
       "</table>\n",
       "</div>"
      ],
      "text/plain": [
       "   Severity  Accidents  Percentage\n",
       "0         2    2532991       89.02\n",
       "1         3     155105        5.45\n",
       "2         4     131193        4.61\n",
       "3         1      26053        0.92"
      ]
     },
     "execution_count": 18,
     "metadata": {},
     "output_type": "execute_result"
    }
   ],
   "source": [
    "Severitycounts = data.Severity.value_counts().reset_index()\n",
    "Severitycounts.columns = ['Severity','Accidents']\n",
    "Severitycounts['Percentage'] = round(Severitycounts['Accidents'] * 100 /Severitycounts['Accidents'].sum() , 2)\n",
    "Severitycounts.head()"
   ]
  },
  {
   "cell_type": "code",
   "execution_count": 19,
   "metadata": {},
   "outputs": [],
   "source": [
    "table = data"
   ]
  },
  {
   "cell_type": "markdown",
   "metadata": {
    "id": "vGnSGS0whRrj"
   },
   "source": [
    "# Correlations and Visualizations\n"
   ]
  },
  {
   "cell_type": "code",
   "execution_count": 20,
   "metadata": {
    "id": "mPFFmODqhRrm",
    "scrolled": true
   },
   "outputs": [
    {
     "data": {
      "text/plain": [
       "Distance(mi)         1.000000\n",
       "Severity             0.092140\n",
       "End_Lat              0.071593\n",
       "Start_Lat            0.071588\n",
       "Number               0.067331\n",
       "Start_Lng            0.039861\n",
       "End_Lng              0.039830\n",
       "Humidity(%)          0.026860\n",
       "Junction             0.022442\n",
       "Wind_Speed(mph)      0.011127\n",
       "Precipitation(in)    0.003050\n",
       "Roundabout          -0.002491\n",
       "Bump                -0.005408\n",
       "Give_Way            -0.006655\n",
       "Traffic_Calming     -0.007322\n",
       "No_Exit             -0.010184\n",
       "Railway             -0.021462\n",
       "Stop                -0.027108\n",
       "Amenity             -0.032717\n",
       "Visibility(mi)      -0.034001\n",
       "Temperature(F)      -0.051212\n",
       "Station             -0.052826\n",
       "Wind_Chill(F)       -0.060094\n",
       "Pressure(in)        -0.069115\n",
       "Crossing            -0.091256\n",
       "Traffic_Signal      -0.105722\n",
       "Turning_Loop              NaN\n",
       "Name: Distance(mi), dtype: float64"
      ]
     },
     "execution_count": 20,
     "metadata": {},
     "output_type": "execute_result"
    }
   ],
   "source": [
    "# Now we will look at the correlation of all the attributes with the expected class attribute (median-house-value)\n",
    "corr_matrix = data.corr() # computes the standard correlation coefficient (Pearson’s r) between every pair of attributes\n",
    "corr_matrix[\"Distance(mi)\"].sort_values(ascending=False)"
   ]
  },
  {
   "cell_type": "code",
   "execution_count": 21,
   "metadata": {},
   "outputs": [
    {
     "data": {
      "text/plain": [
       "Miami           106966\n",
       "Los Angeles      68956\n",
       "Orlando          54691\n",
       "Dallas           41979\n",
       "Houston          39448\n",
       "Charlotte        33152\n",
       "Sacramento       32559\n",
       "San Diego        26627\n",
       "Raleigh          22840\n",
       "Minneapolis      22768\n",
       "Portland         20944\n",
       "Nashville        20267\n",
       "Austin           18301\n",
       "Baton Rouge      18182\n",
       "Phoenix          17143\n",
       "Saint Paul       16869\n",
       "New Orleans      16251\n",
       "Atlanta          15622\n",
       "Jacksonville     14967\n",
       "Richmond         14349\n",
       "Name: City, dtype: int64"
      ]
     },
     "execution_count": 21,
     "metadata": {},
     "output_type": "execute_result"
    }
   ],
   "source": [
    "numOfAccidentsPerCity = data.City.value_counts()\n",
    "numOfAccidentsPerCity.head(20)"
   ]
  },
  {
   "cell_type": "code",
   "execution_count": 22,
   "metadata": {},
   "outputs": [
    {
     "data": {
      "text/plain": [
       "<AxesSubplot:>"
      ]
     },
     "execution_count": 22,
     "metadata": {},
     "output_type": "execute_result"
    },
    {
     "data": {
      "image/png": "[encoded data removed]",
      "text/plain": [
       "<Figure size 432x288 with 1 Axes>"
      ]
     },
     "metadata": {
      "needs_background": "light"
     },
     "output_type": "display_data"
    }
   ],
   "source": [
    "numOfAccidentsPerCity[:20].plot(kind = 'barh')"
   ]
  },
  {
   "cell_type": "code",
   "execution_count": 23,
   "metadata": {},
   "outputs": [
    {
     "data": {
      "text/plain": [
       "<AxesSubplot:>"
      ]
     },
     "execution_count": 23,
     "metadata": {},
     "output_type": "execute_result"
    },
    {
     "data": {
      "image/png": "[encoded data removed]",
      "text/plain": [
       "<Figure size 432x288 with 1 Axes>"
      ]
     },
     "metadata": {
      "needs_background": "light"
     },
     "output_type": "display_data"
    }
   ],
   "source": [
    "Weathertypes = data.Weather_Condition.value_counts()\n",
    "Weathertypes[:20].plot(kind = 'barh')"
   ]
  },
  {
   "cell_type": "code",
   "execution_count": 24,
   "metadata": {
    "colab": {
     "base_uri": "https://localhost:8080/"
    },
    "id": "HL9bYSdZhRrn",
    "outputId": "6983d728-179b-4c9e-91c0-8bf7f6b40839"
   },
   "outputs": [
    {
     "data": {
      "text/plain": [
       "Severity             1.000000\n",
       "End_Lng              0.114064\n",
       "Start_Lng            0.114063\n",
       "Distance(mi)         0.092140\n",
       "End_Lat              0.089209\n",
       "Start_Lat            0.089207\n",
       "Wind_Speed(mph)      0.048382\n",
       "Junction             0.045928\n",
       "Pressure(in)         0.043883\n",
       "Humidity(%)          0.037802\n",
       "Precipitation(in)    0.013845\n",
       "Give_Way             0.008141\n",
       "Visibility(mi)       0.007371\n",
       "Number              -0.000689\n",
       "Roundabout          -0.000773\n",
       "Railway             -0.001747\n",
       "No_Exit             -0.002359\n",
       "Stop                -0.002536\n",
       "Traffic_Calming     -0.003009\n",
       "Bump                -0.003739\n",
       "Amenity             -0.003940\n",
       "Traffic_Signal      -0.012798\n",
       "Station             -0.018017\n",
       "Crossing            -0.035382\n",
       "Temperature(F)      -0.045335\n",
       "Wind_Chill(F)       -0.097459\n",
       "Turning_Loop              NaN\n",
       "Name: Severity, dtype: float64"
      ]
     },
     "execution_count": 24,
     "metadata": {},
     "output_type": "execute_result"
    }
   ],
   "source": [
    "corr_matrix[\"Severity\"].sort_values(ascending=False)\n",
    "# Most correlated attributes to Severity"
   ]
  },
  {
   "cell_type": "code",
   "execution_count": 25,
   "metadata": {
    "colab": {
     "base_uri": "https://localhost:8080/",
     "height": 807
    },
    "id": "pM2GqEYNhRrn",
    "outputId": "7e6339f4-456d-4854-909e-c2e9023f1501",
    "scrolled": true
   },
   "outputs": [
    {
     "data": {
      "text/plain": [
       "array([[<AxesSubplot:xlabel='Severity', ylabel='Severity'>,\n",
       "        <AxesSubplot:xlabel='Distance(mi)', ylabel='Severity'>,\n",
       "        <AxesSubplot:xlabel='Wind_Chill(F)', ylabel='Severity'>],\n",
       "       [<AxesSubplot:xlabel='Severity', ylabel='Distance(mi)'>,\n",
       "        <AxesSubplot:xlabel='Distance(mi)', ylabel='Distance(mi)'>,\n",
       "        <AxesSubplot:xlabel='Wind_Chill(F)', ylabel='Distance(mi)'>],\n",
       "       [<AxesSubplot:xlabel='Severity', ylabel='Wind_Chill(F)'>,\n",
       "        <AxesSubplot:xlabel='Distance(mi)', ylabel='Wind_Chill(F)'>,\n",
       "        <AxesSubplot:xlabel='Wind_Chill(F)', ylabel='Wind_Chill(F)'>]],\n",
       "      dtype=object)"
      ]
     },
     "execution_count": 25,
     "metadata": {},
     "output_type": "execute_result"
    },
    {
     "data": {
      "image/png": "[encoded data removed]",
      "text/plain": [
       "<Figure size 864x576 with 9 Axes>"
      ]
     },
     "metadata": {
      "needs_background": "light"
     },
     "output_type": "display_data"
    }
   ],
   "source": [
    "from pandas.plotting import scatter_matrix\n",
    "\n",
    "attributes = [\"Severity\",\"Distance(mi)\",\"Wind_Chill(F)\"]\n",
    "scatter_matrix(data[attributes], figsize=(12, 8))\n",
    "# Another way to check for correlation between attributes is to use the pandas scatter_matrix() function above\n",
    "# Here we choose to plot 4 promising  numerical attributes against each other\n"
   ]
  },
  {
   "cell_type": "code",
   "execution_count": 26,
   "metadata": {},
   "outputs": [
    {
     "data": {
      "image/png": "[encoded data removed]",
      "text/plain": [
       "<Figure size 864x576 with 1 Axes>"
      ]
     },
     "metadata": {
      "needs_background": "light"
     },
     "output_type": "display_data"
    }
   ],
   "source": [
    "#Boxplot to correlate Humidity and Severity\n",
    "plt.figure(figsize=(12,8))\n",
    "sns.boxplot(x=\"Severity\", y=\"Humidity(%)\", data=data)\n",
    "plt.ylabel('Humidity(%)', fontsize=12)\n",
    "plt.xlabel('Severity', fontsize=12)\n",
    "plt.xticks(rotation='vertical')\n",
    "plt.show()\n"
   ]
  },
  {
   "cell_type": "code",
   "execution_count": 27,
   "metadata": {},
   "outputs": [
    {
     "data": {
      "image/png": "[encoded data removed]",
      "text/plain": [
       "<Figure size 864x576 with 1 Axes>"
      ]
     },
     "metadata": {
      "needs_background": "light"
     },
     "output_type": "display_data"
    }
   ],
   "source": [
    "#Boxplot to correlate Temp and Severity\n",
    "plt.figure(figsize=(12,8))\n",
    "sns.boxplot(x=\"Severity\", y=\"Temperature(F)\", data=data)\n",
    "plt.ylabel('Temperature(Farenheit)', fontsize=10)\n",
    "plt.xlabel('Severity', fontsize=10)\n",
    "plt.xticks(rotation='vertical')\n",
    "plt.show()"
   ]
  },
  {
   "cell_type": "code",
   "execution_count": 28,
   "metadata": {},
   "outputs": [
    {
     "data": {
      "image/png": "[encoded data removed]",
      "text/plain": [
       "<Figure size 864x576 with 1 Axes>"
      ]
     },
     "metadata": {
      "needs_background": "light"
     },
     "output_type": "display_data"
    }
   ],
   "source": [
    "#Boxplot to correlate WindChill and Severity\n",
    "plt.figure(figsize=(12,8))\n",
    "sns.boxplot(x=\"Severity\", y=\"Wind_Chill(F)\", data=data)\n",
    "plt.ylabel('Wind_Chill(F)', fontsize=10)\n",
    "plt.xlabel('Severity', fontsize=10)\n",
    "plt.xticks(rotation='vertical')\n",
    "plt.show()"
   ]
  },
  {
   "cell_type": "code",
   "execution_count": 29,
   "metadata": {},
   "outputs": [
    {
     "data": {
      "image/png": "[encoded data removed]",
      "text/plain": [
       "<Figure size 3600x1800 with 1 Axes>"
      ]
     },
     "metadata": {
      "needs_background": "light"
     },
     "output_type": "display_data"
    }
   ],
   "source": [
    "#Boxplot to correlate WeatherCondition and Severity\n",
    "plt.figure(figsize=(50,25))\n",
    "sns.boxplot(x=\"Severity\", y=\"Weather_Condition\", data=data)\n",
    "plt.ylabel('Weather_Condition', fontsize=10)\n",
    "plt.xlabel('Severity', fontsize=10)\n",
    "plt.xticks(rotation='vertical')\n",
    "plt.show()"
   ]
  },
  {
   "cell_type": "markdown",
   "metadata": {},
   "source": [
    "# Analyzing most correlating features (Lab3, week4)"
   ]
  },
  {
   "cell_type": "code",
   "execution_count": 30,
   "metadata": {
    "scrolled": true
   },
   "outputs": [
    {
     "name": "stdout",
     "output_type": "stream",
     "text": [
      "After changing 2,3,4 to 99\n",
      "0    2690237\n",
      "3     155105\n",
      "Name: Severity, dtype: int64\n"
     ]
    }
   ],
   "source": [
    "#print(data[\"Severity\"][:50])\n",
    "#2 dataset 1: top features for each class\n",
    "testData1 = data.copy()\n",
    "testData2 = data.copy()\n",
    "testData3 = data.copy()\n",
    "testData4 = data.copy()\n",
    "\n",
    "\n",
    "#print(\"After changing 2 to 99\")\n",
    "#for index, row in testData.iloc[:50].iterrows():\n",
    "#    if row[\"Severity\"] == 99:\n",
    "#        #print(row[\"Severity\"])\n",
    "#        testData.at[index,\"Severity\"] = 2\n",
    "#print(testData[\"Severity\"][:50])\n",
    "\n",
    "#Most correlating features for each label\n",
    "#label 0, keep 0 as 0 and change all other values to null\n",
    "print(\"After changing 2,3,4 to 99\")\n",
    "\n",
    "testData1['Severity'] = testData1['Severity'].replace([2],0)\n",
    "testData1['Severity'] = testData1['Severity'].replace([3],0)\n",
    "testData1['Severity'] = testData1['Severity'].replace([4],0)\n",
    "\n",
    "testData2['Severity'] = testData2['Severity'].replace([1],0)\n",
    "testData2['Severity'] = testData2['Severity'].replace([3],0)\n",
    "testData2['Severity'] = testData2['Severity'].replace([4],0)\n",
    "\n",
    "testData3['Severity'] = testData3['Severity'].replace([1],0)\n",
    "testData3['Severity'] = testData3['Severity'].replace([4],0)\n",
    "testData3['Severity'] = testData3['Severity'].replace([2],0)\n",
    "\n",
    "testData4['Severity'] = testData4['Severity'].replace([1],0)\n",
    "testData4['Severity'] = testData4['Severity'].replace([3],0)\n",
    "testData4['Severity'] = testData4['Severity'].replace([2],0)\n",
    "\n",
    "#for index, row in testData0.iterrows():\n",
    "#    if row[\"Severity\"] != 0:\n",
    "#        #print(row[\"Severity\"])\n",
    "#        #currValue = row[\"Severity\"]\n",
    "#        #currIndex = index\n",
    "#        #testData0.at[\"Severity\"] = 99\n",
    "#        #print(\"Changed\")\n",
    "#        #print(currValue)\n",
    "#        testdata0['Severity'] = test['column name'].replace(['old value'],'new value')\n",
    "print(testData3[\"Severity\"].value_counts())\n"
   ]
  },
  {
   "cell_type": "code",
   "execution_count": 31,
   "metadata": {},
   "outputs": [
    {
     "data": {
      "text/plain": [
       "Severity             1.000000\n",
       "Traffic_Signal       0.120816\n",
       "Crossing             0.098200\n",
       "Wind_Chill(F)        0.055563\n",
       "Temperature(F)       0.049163\n",
       "Wind_Speed(mph)      0.017663\n",
       "Visibility(mi)       0.015361\n",
       "Railway              0.013699\n",
       "No_Exit              0.012042\n",
       "Amenity              0.010831\n",
       "Station              0.009867\n",
       "Give_Way             0.006776\n",
       "Stop                 0.002168\n",
       "Traffic_Calming      0.001704\n",
       "Bump                 0.000517\n",
       "Roundabout           0.000490\n",
       "Precipitation(in)   -0.001735\n",
       "Junction            -0.004765\n",
       "End_Lat             -0.009715\n",
       "Start_Lat           -0.009717\n",
       "Number              -0.015495\n",
       "Start_Lng           -0.021186\n",
       "End_Lng             -0.021187\n",
       "Distance(mi)        -0.030796\n",
       "Pressure(in)        -0.042321\n",
       "Humidity(%)         -0.060888\n",
       "Turning_Loop              NaN\n",
       "Name: Severity, dtype: float64"
      ]
     },
     "execution_count": 31,
     "metadata": {},
     "output_type": "execute_result"
    }
   ],
   "source": [
    "#Looking for Correlations for different classes of Severity (e.g testData1 for Severity = 1 and so on)\n",
    "corr_matrix_data1 = testData1.corr()\n",
    "corr_matrix_data1[\"Severity\"].sort_values(ascending=False)"
   ]
  },
  {
   "cell_type": "code",
   "execution_count": 32,
   "metadata": {},
   "outputs": [
    {
     "data": {
      "text/plain": [
       "Severity             1.000000\n",
       "Wind_Chill(F)        0.057926\n",
       "Station              0.013222\n",
       "Temperature(F)       0.011472\n",
       "Number               0.009230\n",
       "Stop                 0.007029\n",
       "Bump                 0.003507\n",
       "Traffic_Calming      0.002106\n",
       "Roundabout           0.000770\n",
       "Amenity              0.000508\n",
       "Humidity(%)         -0.000087\n",
       "No_Exit             -0.003870\n",
       "Railway             -0.005906\n",
       "Crossing            -0.010319\n",
       "Give_Way            -0.010517\n",
       "Precipitation(in)   -0.016908\n",
       "Visibility(mi)      -0.020936\n",
       "Pressure(in)        -0.022967\n",
       "Traffic_Signal      -0.049457\n",
       "Distance(mi)        -0.051789\n",
       "Junction            -0.061190\n",
       "Wind_Speed(mph)     -0.069599\n",
       "Start_Lat           -0.082253\n",
       "End_Lat             -0.082255\n",
       "Start_Lng           -0.096864\n",
       "End_Lng             -0.096864\n",
       "Turning_Loop              NaN\n",
       "Name: Severity, dtype: float64"
      ]
     },
     "execution_count": 32,
     "metadata": {},
     "output_type": "execute_result"
    }
   ],
   "source": [
    "\n",
    "corr_matrix_data2 = testData2.corr()\n",
    "corr_matrix_data2[\"Severity\"].sort_values(ascending=False)"
   ]
  },
  {
   "cell_type": "code",
   "execution_count": 33,
   "metadata": {},
   "outputs": [
    {
     "data": {
      "text/plain": [
       "Severity             1.000000\n",
       "Junction             0.077665\n",
       "Wind_Speed(mph)      0.067089\n",
       "Start_Lng            0.052905\n",
       "End_Lng              0.052904\n",
       "End_Lat              0.050645\n",
       "Start_Lat            0.050644\n",
       "Pressure(in)         0.024320\n",
       "Visibility(mi)       0.022633\n",
       "Precipitation(in)    0.021727\n",
       "Traffic_Signal       0.011123\n",
       "Give_Way             0.003269\n",
       "Railway              0.002707\n",
       "Temperature(F)       0.001644\n",
       "No_Exit              0.000476\n",
       "Roundabout          -0.001108\n",
       "Number              -0.001293\n",
       "Traffic_Calming     -0.001599\n",
       "Humidity(%)         -0.002263\n",
       "Bump                -0.002424\n",
       "Amenity             -0.006726\n",
       "Station             -0.010841\n",
       "Distance(mi)        -0.012905\n",
       "Stop                -0.016740\n",
       "Crossing            -0.020573\n",
       "Wind_Chill(F)       -0.045307\n",
       "Turning_Loop              NaN\n",
       "Name: Severity, dtype: float64"
      ]
     },
     "execution_count": 33,
     "metadata": {},
     "output_type": "execute_result"
    }
   ],
   "source": [
    "corr_matrix_data3 = testData3.corr()\n",
    "corr_matrix_data3[\"Severity\"].sort_values(ascending=False)"
   ]
  },
  {
   "cell_type": "code",
   "execution_count": 34,
   "metadata": {},
   "outputs": [
    {
     "data": {
      "text/plain": [
       "Severity             1.000000\n",
       "Distance(mi)         0.105154\n",
       "End_Lng              0.096740\n",
       "Start_Lng            0.096739\n",
       "End_Lat              0.072199\n",
       "Start_Lat            0.072197\n",
       "Humidity(%)          0.030482\n",
       "Pressure(in)         0.027250\n",
       "Wind_Speed(mph)      0.023178\n",
       "Junction             0.009301\n",
       "Give_Way             0.009061\n",
       "Traffic_Signal       0.006809\n",
       "Stop                 0.006659\n",
       "Precipitation(in)    0.004258\n",
       "Amenity              0.001604\n",
       "Roundabout          -0.000171\n",
       "No_Exit             -0.000215\n",
       "Visibility(mi)      -0.000347\n",
       "Railway             -0.000348\n",
       "Traffic_Calming     -0.002183\n",
       "Bump                -0.002838\n",
       "Number              -0.003758\n",
       "Crossing            -0.006948\n",
       "Station             -0.012455\n",
       "Temperature(F)      -0.041443\n",
       "Wind_Chill(F)       -0.073010\n",
       "Turning_Loop              NaN\n",
       "Name: Severity, dtype: float64"
      ]
     },
     "execution_count": 34,
     "metadata": {},
     "output_type": "execute_result"
    }
   ],
   "source": [
    "corr_matrix_data4 = testData4.corr()\n",
    "corr_matrix_data4[\"Severity\"].sort_values(ascending=False)"
   ]
  },
  {
   "cell_type": "code",
   "execution_count": 35,
   "metadata": {},
   "outputs": [
    {
     "data": {
      "text/html": [
       "<div>\n",
       "<style scoped>\n",
       "    .dataframe tbody tr th:only-of-type {\n",
       "        vertical-align: middle;\n",
       "    }\n",
       "\n",
       "    .dataframe tbody tr th {\n",
       "        vertical-align: top;\n",
       "    }\n",
       "\n",
       "    .dataframe thead th {\n",
       "        text-align: right;\n",
       "    }\n",
       "</style>\n",
       "<table border=\"1\" class=\"dataframe\">\n",
       "  <thead>\n",
       "    <tr style=\"text-align: right;\">\n",
       "      <th></th>\n",
       "      <th>Severity</th>\n",
       "      <th>Wind_Chill(F)</th>\n",
       "      <th>Temperature(F)</th>\n",
       "      <th>Humidity(%)</th>\n",
       "      <th>Wind_Speed(mph)</th>\n",
       "      <th>Distance(mi)</th>\n",
       "    </tr>\n",
       "  </thead>\n",
       "  <tbody>\n",
       "    <tr>\n",
       "      <th>0</th>\n",
       "      <td>3</td>\n",
       "      <td>36.1</td>\n",
       "      <td>42.1</td>\n",
       "      <td>58.0</td>\n",
       "      <td>10.4</td>\n",
       "      <td>3.230</td>\n",
       "    </tr>\n",
       "    <tr>\n",
       "      <th>1</th>\n",
       "      <td>2</td>\n",
       "      <td>NaN</td>\n",
       "      <td>36.9</td>\n",
       "      <td>91.0</td>\n",
       "      <td>NaN</td>\n",
       "      <td>0.747</td>\n",
       "    </tr>\n",
       "    <tr>\n",
       "      <th>2</th>\n",
       "      <td>2</td>\n",
       "      <td>NaN</td>\n",
       "      <td>36.0</td>\n",
       "      <td>97.0</td>\n",
       "      <td>NaN</td>\n",
       "      <td>0.055</td>\n",
       "    </tr>\n",
       "    <tr>\n",
       "      <th>3</th>\n",
       "      <td>2</td>\n",
       "      <td>NaN</td>\n",
       "      <td>39.0</td>\n",
       "      <td>55.0</td>\n",
       "      <td>NaN</td>\n",
       "      <td>0.123</td>\n",
       "    </tr>\n",
       "    <tr>\n",
       "      <th>4</th>\n",
       "      <td>3</td>\n",
       "      <td>29.8</td>\n",
       "      <td>37.0</td>\n",
       "      <td>93.0</td>\n",
       "      <td>10.4</td>\n",
       "      <td>0.500</td>\n",
       "    </tr>\n",
       "    <tr>\n",
       "      <th>...</th>\n",
       "      <td>...</td>\n",
       "      <td>...</td>\n",
       "      <td>...</td>\n",
       "      <td>...</td>\n",
       "      <td>...</td>\n",
       "      <td>...</td>\n",
       "    </tr>\n",
       "    <tr>\n",
       "      <th>2845337</th>\n",
       "      <td>2</td>\n",
       "      <td>86.0</td>\n",
       "      <td>86.0</td>\n",
       "      <td>40.0</td>\n",
       "      <td>13.0</td>\n",
       "      <td>0.543</td>\n",
       "    </tr>\n",
       "    <tr>\n",
       "      <th>2845338</th>\n",
       "      <td>2</td>\n",
       "      <td>70.0</td>\n",
       "      <td>70.0</td>\n",
       "      <td>73.0</td>\n",
       "      <td>6.0</td>\n",
       "      <td>0.338</td>\n",
       "    </tr>\n",
       "    <tr>\n",
       "      <th>2845339</th>\n",
       "      <td>2</td>\n",
       "      <td>73.0</td>\n",
       "      <td>73.0</td>\n",
       "      <td>64.0</td>\n",
       "      <td>10.0</td>\n",
       "      <td>0.561</td>\n",
       "    </tr>\n",
       "    <tr>\n",
       "      <th>2845340</th>\n",
       "      <td>2</td>\n",
       "      <td>71.0</td>\n",
       "      <td>71.0</td>\n",
       "      <td>81.0</td>\n",
       "      <td>8.0</td>\n",
       "      <td>0.772</td>\n",
       "    </tr>\n",
       "    <tr>\n",
       "      <th>2845341</th>\n",
       "      <td>2</td>\n",
       "      <td>79.0</td>\n",
       "      <td>79.0</td>\n",
       "      <td>47.0</td>\n",
       "      <td>7.0</td>\n",
       "      <td>0.537</td>\n",
       "    </tr>\n",
       "  </tbody>\n",
       "</table>\n",
       "<p>2845342 rows × 6 columns</p>\n",
       "</div>"
      ],
      "text/plain": [
       "         Severity  Wind_Chill(F)  Temperature(F)  Humidity(%)  \\\n",
       "0               3           36.1            42.1         58.0   \n",
       "1               2            NaN            36.9         91.0   \n",
       "2               2            NaN            36.0         97.0   \n",
       "3               2            NaN            39.0         55.0   \n",
       "4               3           29.8            37.0         93.0   \n",
       "...           ...            ...             ...          ...   \n",
       "2845337         2           86.0            86.0         40.0   \n",
       "2845338         2           70.0            70.0         73.0   \n",
       "2845339         2           73.0            73.0         64.0   \n",
       "2845340         2           71.0            71.0         81.0   \n",
       "2845341         2           79.0            79.0         47.0   \n",
       "\n",
       "         Wind_Speed(mph)  Distance(mi)  \n",
       "0                   10.4         3.230  \n",
       "1                    NaN         0.747  \n",
       "2                    NaN         0.055  \n",
       "3                    NaN         0.123  \n",
       "4                   10.4         0.500  \n",
       "...                  ...           ...  \n",
       "2845337             13.0         0.543  \n",
       "2845338              6.0         0.338  \n",
       "2845339             10.0         0.561  \n",
       "2845340              8.0         0.772  \n",
       "2845341              7.0         0.537  \n",
       "\n",
       "[2845342 rows x 6 columns]"
      ]
     },
     "execution_count": 35,
     "metadata": {},
     "output_type": "execute_result"
    }
   ],
   "source": [
    "#Use top 2 features for each of the Classes (5 total features) drop the rest\n",
    "#1-WindChill, Humidity\n",
    "#2-WindChill, WindSpeed\n",
    "#3-WindChill, WindSpeed\n",
    "#4-Distance, Temperature\n",
    "df1 = data.filter(['Severity', 'Wind_Chill(F)', 'Temperature(F)', 'Humidity(%)','Wind_Speed(mph)', 'Distance(mi)'])\n",
    "df1"
   ]
  },
  {
   "cell_type": "code",
   "execution_count": 36,
   "metadata": {},
   "outputs": [
    {
     "data": {
      "text/html": [
       "<div>\n",
       "<style scoped>\n",
       "    .dataframe tbody tr th:only-of-type {\n",
       "        vertical-align: middle;\n",
       "    }\n",
       "\n",
       "    .dataframe tbody tr th {\n",
       "        vertical-align: top;\n",
       "    }\n",
       "\n",
       "    .dataframe thead th {\n",
       "        text-align: right;\n",
       "    }\n",
       "</style>\n",
       "<table border=\"1\" class=\"dataframe\">\n",
       "  <thead>\n",
       "    <tr style=\"text-align: right;\">\n",
       "      <th></th>\n",
       "      <th>Severity</th>\n",
       "      <th>Wind_Chill(F)</th>\n",
       "      <th>Temperature(F)</th>\n",
       "      <th>Humidity(%)</th>\n",
       "      <th>Wind_Speed(mph)</th>\n",
       "      <th>Distance(mi)</th>\n",
       "    </tr>\n",
       "  </thead>\n",
       "  <tbody>\n",
       "    <tr>\n",
       "      <th>0</th>\n",
       "      <td>3</td>\n",
       "      <td>36.1</td>\n",
       "      <td>42.1</td>\n",
       "      <td>58.0</td>\n",
       "      <td>10.4</td>\n",
       "      <td>3.230</td>\n",
       "    </tr>\n",
       "    <tr>\n",
       "      <th>1</th>\n",
       "      <td>3</td>\n",
       "      <td>29.8</td>\n",
       "      <td>37.0</td>\n",
       "      <td>93.0</td>\n",
       "      <td>10.4</td>\n",
       "      <td>0.500</td>\n",
       "    </tr>\n",
       "    <tr>\n",
       "      <th>2</th>\n",
       "      <td>2</td>\n",
       "      <td>29.2</td>\n",
       "      <td>35.6</td>\n",
       "      <td>100.0</td>\n",
       "      <td>8.1</td>\n",
       "      <td>1.427</td>\n",
       "    </tr>\n",
       "    <tr>\n",
       "      <th>3</th>\n",
       "      <td>2</td>\n",
       "      <td>30.0</td>\n",
       "      <td>33.1</td>\n",
       "      <td>92.0</td>\n",
       "      <td>3.5</td>\n",
       "      <td>0.521</td>\n",
       "    </tr>\n",
       "    <tr>\n",
       "      <th>4</th>\n",
       "      <td>2</td>\n",
       "      <td>31.8</td>\n",
       "      <td>39.0</td>\n",
       "      <td>70.0</td>\n",
       "      <td>11.5</td>\n",
       "      <td>0.491</td>\n",
       "    </tr>\n",
       "    <tr>\n",
       "      <th>...</th>\n",
       "      <td>...</td>\n",
       "      <td>...</td>\n",
       "      <td>...</td>\n",
       "      <td>...</td>\n",
       "      <td>...</td>\n",
       "      <td>...</td>\n",
       "    </tr>\n",
       "    <tr>\n",
       "      <th>2372349</th>\n",
       "      <td>2</td>\n",
       "      <td>86.0</td>\n",
       "      <td>86.0</td>\n",
       "      <td>40.0</td>\n",
       "      <td>13.0</td>\n",
       "      <td>0.543</td>\n",
       "    </tr>\n",
       "    <tr>\n",
       "      <th>2372350</th>\n",
       "      <td>2</td>\n",
       "      <td>70.0</td>\n",
       "      <td>70.0</td>\n",
       "      <td>73.0</td>\n",
       "      <td>6.0</td>\n",
       "      <td>0.338</td>\n",
       "    </tr>\n",
       "    <tr>\n",
       "      <th>2372351</th>\n",
       "      <td>2</td>\n",
       "      <td>73.0</td>\n",
       "      <td>73.0</td>\n",
       "      <td>64.0</td>\n",
       "      <td>10.0</td>\n",
       "      <td>0.561</td>\n",
       "    </tr>\n",
       "    <tr>\n",
       "      <th>2372352</th>\n",
       "      <td>2</td>\n",
       "      <td>71.0</td>\n",
       "      <td>71.0</td>\n",
       "      <td>81.0</td>\n",
       "      <td>8.0</td>\n",
       "      <td>0.772</td>\n",
       "    </tr>\n",
       "    <tr>\n",
       "      <th>2372353</th>\n",
       "      <td>2</td>\n",
       "      <td>79.0</td>\n",
       "      <td>79.0</td>\n",
       "      <td>47.0</td>\n",
       "      <td>7.0</td>\n",
       "      <td>0.537</td>\n",
       "    </tr>\n",
       "  </tbody>\n",
       "</table>\n",
       "<p>2372354 rows × 6 columns</p>\n",
       "</div>"
      ],
      "text/plain": [
       "         Severity  Wind_Chill(F)  Temperature(F)  Humidity(%)  \\\n",
       "0               3           36.1            42.1         58.0   \n",
       "1               3           29.8            37.0         93.0   \n",
       "2               2           29.2            35.6        100.0   \n",
       "3               2           30.0            33.1         92.0   \n",
       "4               2           31.8            39.0         70.0   \n",
       "...           ...            ...             ...          ...   \n",
       "2372349         2           86.0            86.0         40.0   \n",
       "2372350         2           70.0            70.0         73.0   \n",
       "2372351         2           73.0            73.0         64.0   \n",
       "2372352         2           71.0            71.0         81.0   \n",
       "2372353         2           79.0            79.0         47.0   \n",
       "\n",
       "         Wind_Speed(mph)  Distance(mi)  \n",
       "0                   10.4         3.230  \n",
       "1                   10.4         0.500  \n",
       "2                    8.1         1.427  \n",
       "3                    3.5         0.521  \n",
       "4                   11.5         0.491  \n",
       "...                  ...           ...  \n",
       "2372349             13.0         0.543  \n",
       "2372350              6.0         0.338  \n",
       "2372351             10.0         0.561  \n",
       "2372352              8.0         0.772  \n",
       "2372353              7.0         0.537  \n",
       "\n",
       "[2372354 rows x 6 columns]"
      ]
     },
     "execution_count": 36,
     "metadata": {},
     "output_type": "execute_result"
    }
   ],
   "source": [
    "df1 = df1.dropna()\n",
    "df1 = df1.reset_index(drop = True)\n",
    "df1"
   ]
  },
  {
   "cell_type": "code",
   "execution_count": 37,
   "metadata": {
    "scrolled": true
   },
   "outputs": [
    {
     "data": {
      "text/html": [
       "<div>\n",
       "<style scoped>\n",
       "    .dataframe tbody tr th:only-of-type {\n",
       "        vertical-align: middle;\n",
       "    }\n",
       "\n",
       "    .dataframe tbody tr th {\n",
       "        vertical-align: top;\n",
       "    }\n",
       "\n",
       "    .dataframe thead th {\n",
       "        text-align: right;\n",
       "    }\n",
       "</style>\n",
       "<table border=\"1\" class=\"dataframe\">\n",
       "  <thead>\n",
       "    <tr style=\"text-align: right;\">\n",
       "      <th></th>\n",
       "      <th>Severity</th>\n",
       "      <th>Wind_Chill(F)</th>\n",
       "      <th>Temperature(F)</th>\n",
       "      <th>Humidity(%)</th>\n",
       "      <th>Wind_Speed(mph)</th>\n",
       "      <th>Distance(mi)</th>\n",
       "      <th>Pressure(in)</th>\n",
       "      <th>Visibility(mi)</th>\n",
       "      <th>Humidity(%)</th>\n",
       "    </tr>\n",
       "  </thead>\n",
       "  <tbody>\n",
       "    <tr>\n",
       "      <th>0</th>\n",
       "      <td>3</td>\n",
       "      <td>36.1</td>\n",
       "      <td>42.1</td>\n",
       "      <td>58.0</td>\n",
       "      <td>10.4</td>\n",
       "      <td>3.230</td>\n",
       "      <td>29.76</td>\n",
       "      <td>10.0</td>\n",
       "      <td>58.0</td>\n",
       "    </tr>\n",
       "    <tr>\n",
       "      <th>1</th>\n",
       "      <td>2</td>\n",
       "      <td>NaN</td>\n",
       "      <td>36.9</td>\n",
       "      <td>91.0</td>\n",
       "      <td>NaN</td>\n",
       "      <td>0.747</td>\n",
       "      <td>29.68</td>\n",
       "      <td>10.0</td>\n",
       "      <td>91.0</td>\n",
       "    </tr>\n",
       "    <tr>\n",
       "      <th>2</th>\n",
       "      <td>2</td>\n",
       "      <td>NaN</td>\n",
       "      <td>36.0</td>\n",
       "      <td>97.0</td>\n",
       "      <td>NaN</td>\n",
       "      <td>0.055</td>\n",
       "      <td>29.70</td>\n",
       "      <td>10.0</td>\n",
       "      <td>97.0</td>\n",
       "    </tr>\n",
       "    <tr>\n",
       "      <th>3</th>\n",
       "      <td>2</td>\n",
       "      <td>NaN</td>\n",
       "      <td>39.0</td>\n",
       "      <td>55.0</td>\n",
       "      <td>NaN</td>\n",
       "      <td>0.123</td>\n",
       "      <td>29.65</td>\n",
       "      <td>10.0</td>\n",
       "      <td>55.0</td>\n",
       "    </tr>\n",
       "    <tr>\n",
       "      <th>4</th>\n",
       "      <td>3</td>\n",
       "      <td>29.8</td>\n",
       "      <td>37.0</td>\n",
       "      <td>93.0</td>\n",
       "      <td>10.4</td>\n",
       "      <td>0.500</td>\n",
       "      <td>29.69</td>\n",
       "      <td>10.0</td>\n",
       "      <td>93.0</td>\n",
       "    </tr>\n",
       "    <tr>\n",
       "      <th>...</th>\n",
       "      <td>...</td>\n",
       "      <td>...</td>\n",
       "      <td>...</td>\n",
       "      <td>...</td>\n",
       "      <td>...</td>\n",
       "      <td>...</td>\n",
       "      <td>...</td>\n",
       "      <td>...</td>\n",
       "      <td>...</td>\n",
       "    </tr>\n",
       "    <tr>\n",
       "      <th>2845337</th>\n",
       "      <td>2</td>\n",
       "      <td>86.0</td>\n",
       "      <td>86.0</td>\n",
       "      <td>40.0</td>\n",
       "      <td>13.0</td>\n",
       "      <td>0.543</td>\n",
       "      <td>28.92</td>\n",
       "      <td>10.0</td>\n",
       "      <td>40.0</td>\n",
       "    </tr>\n",
       "    <tr>\n",
       "      <th>2845338</th>\n",
       "      <td>2</td>\n",
       "      <td>70.0</td>\n",
       "      <td>70.0</td>\n",
       "      <td>73.0</td>\n",
       "      <td>6.0</td>\n",
       "      <td>0.338</td>\n",
       "      <td>29.39</td>\n",
       "      <td>10.0</td>\n",
       "      <td>73.0</td>\n",
       "    </tr>\n",
       "    <tr>\n",
       "      <th>2845339</th>\n",
       "      <td>2</td>\n",
       "      <td>73.0</td>\n",
       "      <td>73.0</td>\n",
       "      <td>64.0</td>\n",
       "      <td>10.0</td>\n",
       "      <td>0.561</td>\n",
       "      <td>29.74</td>\n",
       "      <td>10.0</td>\n",
       "      <td>64.0</td>\n",
       "    </tr>\n",
       "    <tr>\n",
       "      <th>2845340</th>\n",
       "      <td>2</td>\n",
       "      <td>71.0</td>\n",
       "      <td>71.0</td>\n",
       "      <td>81.0</td>\n",
       "      <td>8.0</td>\n",
       "      <td>0.772</td>\n",
       "      <td>29.62</td>\n",
       "      <td>10.0</td>\n",
       "      <td>81.0</td>\n",
       "    </tr>\n",
       "    <tr>\n",
       "      <th>2845341</th>\n",
       "      <td>2</td>\n",
       "      <td>79.0</td>\n",
       "      <td>79.0</td>\n",
       "      <td>47.0</td>\n",
       "      <td>7.0</td>\n",
       "      <td>0.537</td>\n",
       "      <td>28.63</td>\n",
       "      <td>7.0</td>\n",
       "      <td>47.0</td>\n",
       "    </tr>\n",
       "  </tbody>\n",
       "</table>\n",
       "<p>2845342 rows × 9 columns</p>\n",
       "</div>"
      ],
      "text/plain": [
       "         Severity  Wind_Chill(F)  Temperature(F)  Humidity(%)  \\\n",
       "0               3           36.1            42.1         58.0   \n",
       "1               2            NaN            36.9         91.0   \n",
       "2               2            NaN            36.0         97.0   \n",
       "3               2            NaN            39.0         55.0   \n",
       "4               3           29.8            37.0         93.0   \n",
       "...           ...            ...             ...          ...   \n",
       "2845337         2           86.0            86.0         40.0   \n",
       "2845338         2           70.0            70.0         73.0   \n",
       "2845339         2           73.0            73.0         64.0   \n",
       "2845340         2           71.0            71.0         81.0   \n",
       "2845341         2           79.0            79.0         47.0   \n",
       "\n",
       "         Wind_Speed(mph)  Distance(mi)  Pressure(in)  Visibility(mi)  \\\n",
       "0                   10.4         3.230         29.76            10.0   \n",
       "1                    NaN         0.747         29.68            10.0   \n",
       "2                    NaN         0.055         29.70            10.0   \n",
       "3                    NaN         0.123         29.65            10.0   \n",
       "4                   10.4         0.500         29.69            10.0   \n",
       "...                  ...           ...           ...             ...   \n",
       "2845337             13.0         0.543         28.92            10.0   \n",
       "2845338              6.0         0.338         29.39            10.0   \n",
       "2845339             10.0         0.561         29.74            10.0   \n",
       "2845340              8.0         0.772         29.62            10.0   \n",
       "2845341              7.0         0.537         28.63             7.0   \n",
       "\n",
       "         Humidity(%)  \n",
       "0               58.0  \n",
       "1               91.0  \n",
       "2               97.0  \n",
       "3               55.0  \n",
       "4               93.0  \n",
       "...              ...  \n",
       "2845337         40.0  \n",
       "2845338         73.0  \n",
       "2845339         64.0  \n",
       "2845340         81.0  \n",
       "2845341         47.0  \n",
       "\n",
       "[2845342 rows x 9 columns]"
      ]
     },
     "execution_count": 37,
     "metadata": {},
     "output_type": "execute_result"
    }
   ],
   "source": [
    "#Use top 4 features for each of the Classes (8 total features) drop the rest\n",
    "#1-WindChill, Humidity, Temperature, Visibility\n",
    "#2-WindChill, WindSpeed, Humidity, Distance\n",
    "#3-WindChill, WindSpeed, Distance(mi), Pressure(Air)\n",
    "#4-Distance, Temperature, Wind_Chill(F), Humidity\n",
    "df2 = data.filter(['Severity','Wind_Chill(F)', 'Temperature(F)', 'Humidity(%)','Wind_Speed(mph)', 'Distance(mi)', 'Pressure(in)', 'Visibility(mi)', 'Humidity(%)'])\n",
    "df2"
   ]
  },
  {
   "cell_type": "code",
   "execution_count": 38,
   "metadata": {},
   "outputs": [
    {
     "data": {
      "text/html": [
       "<div>\n",
       "<style scoped>\n",
       "    .dataframe tbody tr th:only-of-type {\n",
       "        vertical-align: middle;\n",
       "    }\n",
       "\n",
       "    .dataframe tbody tr th {\n",
       "        vertical-align: top;\n",
       "    }\n",
       "\n",
       "    .dataframe thead th {\n",
       "        text-align: right;\n",
       "    }\n",
       "</style>\n",
       "<table border=\"1\" class=\"dataframe\">\n",
       "  <thead>\n",
       "    <tr style=\"text-align: right;\">\n",
       "      <th></th>\n",
       "      <th>Severity</th>\n",
       "      <th>Wind_Chill(F)</th>\n",
       "      <th>Temperature(F)</th>\n",
       "      <th>Humidity(%)</th>\n",
       "      <th>Wind_Speed(mph)</th>\n",
       "      <th>Distance(mi)</th>\n",
       "      <th>Pressure(in)</th>\n",
       "      <th>Visibility(mi)</th>\n",
       "      <th>Humidity(%)</th>\n",
       "    </tr>\n",
       "  </thead>\n",
       "  <tbody>\n",
       "    <tr>\n",
       "      <th>0</th>\n",
       "      <td>3</td>\n",
       "      <td>36.1</td>\n",
       "      <td>42.1</td>\n",
       "      <td>58.0</td>\n",
       "      <td>10.4</td>\n",
       "      <td>3.230</td>\n",
       "      <td>29.76</td>\n",
       "      <td>10.0</td>\n",
       "      <td>58.0</td>\n",
       "    </tr>\n",
       "    <tr>\n",
       "      <th>1</th>\n",
       "      <td>3</td>\n",
       "      <td>29.8</td>\n",
       "      <td>37.0</td>\n",
       "      <td>93.0</td>\n",
       "      <td>10.4</td>\n",
       "      <td>0.500</td>\n",
       "      <td>29.69</td>\n",
       "      <td>10.0</td>\n",
       "      <td>93.0</td>\n",
       "    </tr>\n",
       "    <tr>\n",
       "      <th>2</th>\n",
       "      <td>2</td>\n",
       "      <td>29.2</td>\n",
       "      <td>35.6</td>\n",
       "      <td>100.0</td>\n",
       "      <td>8.1</td>\n",
       "      <td>1.427</td>\n",
       "      <td>29.66</td>\n",
       "      <td>10.0</td>\n",
       "      <td>100.0</td>\n",
       "    </tr>\n",
       "    <tr>\n",
       "      <th>3</th>\n",
       "      <td>2</td>\n",
       "      <td>30.0</td>\n",
       "      <td>33.1</td>\n",
       "      <td>92.0</td>\n",
       "      <td>3.5</td>\n",
       "      <td>0.521</td>\n",
       "      <td>29.63</td>\n",
       "      <td>0.5</td>\n",
       "      <td>92.0</td>\n",
       "    </tr>\n",
       "    <tr>\n",
       "      <th>4</th>\n",
       "      <td>2</td>\n",
       "      <td>31.8</td>\n",
       "      <td>39.0</td>\n",
       "      <td>70.0</td>\n",
       "      <td>11.5</td>\n",
       "      <td>0.491</td>\n",
       "      <td>29.59</td>\n",
       "      <td>10.0</td>\n",
       "      <td>70.0</td>\n",
       "    </tr>\n",
       "    <tr>\n",
       "      <th>...</th>\n",
       "      <td>...</td>\n",
       "      <td>...</td>\n",
       "      <td>...</td>\n",
       "      <td>...</td>\n",
       "      <td>...</td>\n",
       "      <td>...</td>\n",
       "      <td>...</td>\n",
       "      <td>...</td>\n",
       "      <td>...</td>\n",
       "    </tr>\n",
       "    <tr>\n",
       "      <th>2363634</th>\n",
       "      <td>2</td>\n",
       "      <td>86.0</td>\n",
       "      <td>86.0</td>\n",
       "      <td>40.0</td>\n",
       "      <td>13.0</td>\n",
       "      <td>0.543</td>\n",
       "      <td>28.92</td>\n",
       "      <td>10.0</td>\n",
       "      <td>40.0</td>\n",
       "    </tr>\n",
       "    <tr>\n",
       "      <th>2363635</th>\n",
       "      <td>2</td>\n",
       "      <td>70.0</td>\n",
       "      <td>70.0</td>\n",
       "      <td>73.0</td>\n",
       "      <td>6.0</td>\n",
       "      <td>0.338</td>\n",
       "      <td>29.39</td>\n",
       "      <td>10.0</td>\n",
       "      <td>73.0</td>\n",
       "    </tr>\n",
       "    <tr>\n",
       "      <th>2363636</th>\n",
       "      <td>2</td>\n",
       "      <td>73.0</td>\n",
       "      <td>73.0</td>\n",
       "      <td>64.0</td>\n",
       "      <td>10.0</td>\n",
       "      <td>0.561</td>\n",
       "      <td>29.74</td>\n",
       "      <td>10.0</td>\n",
       "      <td>64.0</td>\n",
       "    </tr>\n",
       "    <tr>\n",
       "      <th>2363637</th>\n",
       "      <td>2</td>\n",
       "      <td>71.0</td>\n",
       "      <td>71.0</td>\n",
       "      <td>81.0</td>\n",
       "      <td>8.0</td>\n",
       "      <td>0.772</td>\n",
       "      <td>29.62</td>\n",
       "      <td>10.0</td>\n",
       "      <td>81.0</td>\n",
       "    </tr>\n",
       "    <tr>\n",
       "      <th>2363638</th>\n",
       "      <td>2</td>\n",
       "      <td>79.0</td>\n",
       "      <td>79.0</td>\n",
       "      <td>47.0</td>\n",
       "      <td>7.0</td>\n",
       "      <td>0.537</td>\n",
       "      <td>28.63</td>\n",
       "      <td>7.0</td>\n",
       "      <td>47.0</td>\n",
       "    </tr>\n",
       "  </tbody>\n",
       "</table>\n",
       "<p>2363639 rows × 9 columns</p>\n",
       "</div>"
      ],
      "text/plain": [
       "         Severity  Wind_Chill(F)  Temperature(F)  Humidity(%)  \\\n",
       "0               3           36.1            42.1         58.0   \n",
       "1               3           29.8            37.0         93.0   \n",
       "2               2           29.2            35.6        100.0   \n",
       "3               2           30.0            33.1         92.0   \n",
       "4               2           31.8            39.0         70.0   \n",
       "...           ...            ...             ...          ...   \n",
       "2363634         2           86.0            86.0         40.0   \n",
       "2363635         2           70.0            70.0         73.0   \n",
       "2363636         2           73.0            73.0         64.0   \n",
       "2363637         2           71.0            71.0         81.0   \n",
       "2363638         2           79.0            79.0         47.0   \n",
       "\n",
       "         Wind_Speed(mph)  Distance(mi)  Pressure(in)  Visibility(mi)  \\\n",
       "0                   10.4         3.230         29.76            10.0   \n",
       "1                   10.4         0.500         29.69            10.0   \n",
       "2                    8.1         1.427         29.66            10.0   \n",
       "3                    3.5         0.521         29.63             0.5   \n",
       "4                   11.5         0.491         29.59            10.0   \n",
       "...                  ...           ...           ...             ...   \n",
       "2363634             13.0         0.543         28.92            10.0   \n",
       "2363635              6.0         0.338         29.39            10.0   \n",
       "2363636             10.0         0.561         29.74            10.0   \n",
       "2363637              8.0         0.772         29.62            10.0   \n",
       "2363638              7.0         0.537         28.63             7.0   \n",
       "\n",
       "         Humidity(%)  \n",
       "0               58.0  \n",
       "1               93.0  \n",
       "2              100.0  \n",
       "3               92.0  \n",
       "4               70.0  \n",
       "...              ...  \n",
       "2363634         40.0  \n",
       "2363635         73.0  \n",
       "2363636         64.0  \n",
       "2363637         81.0  \n",
       "2363638         47.0  \n",
       "\n",
       "[2363639 rows x 9 columns]"
      ]
     },
     "execution_count": 38,
     "metadata": {},
     "output_type": "execute_result"
    }
   ],
   "source": [
    "df2 = df2.dropna()\n",
    "df2 = df2.reset_index(drop = True)\n",
    "df2"
   ]
  },
  {
   "cell_type": "code",
   "execution_count": 39,
   "metadata": {},
   "outputs": [
    {
     "data": {
      "text/plain": [
       "Severity           1.000000\n",
       "Distance(mi)       0.075081\n",
       "Wind_Speed(mph)    0.037724\n",
       "Humidity(%)        0.037265\n",
       "Temperature(F)    -0.089903\n",
       "Wind_Chill(F)     -0.097531\n",
       "Name: Severity, dtype: float64"
      ]
     },
     "execution_count": 39,
     "metadata": {},
     "output_type": "execute_result"
    }
   ],
   "source": [
    "#Correlations for dataframe1\n",
    "corr_matrix = df1.corr() # computes the standard correlation coefficient (Pearson’s r) between every pair of attributes\n",
    "corr_matrix[\"Severity\"].sort_values(ascending=False)"
   ]
  },
  {
   "cell_type": "code",
   "execution_count": 40,
   "metadata": {
    "scrolled": true
   },
   "outputs": [
    {
     "data": {
      "text/plain": [
       "Severity           1.000000\n",
       "Distance(mi)       0.074843\n",
       "Wind_Speed(mph)    0.037440\n",
       "Humidity(%)        0.037375\n",
       "Humidity(%)        0.037375\n",
       "Visibility(mi)    -0.006102\n",
       "Pressure(in)      -0.011482\n",
       "Temperature(F)    -0.089517\n",
       "Wind_Chill(F)     -0.097101\n",
       "Name: Severity, dtype: float64"
      ]
     },
     "execution_count": 40,
     "metadata": {},
     "output_type": "execute_result"
    }
   ],
   "source": [
    "#Correlations for dataframe2\n",
    "corr_matrix = df2.corr() # computes the standard correlation coefficient (Pearson’s r) between every pair of attributes\n",
    "corr_matrix[\"Severity\"].sort_values(ascending=False)"
   ]
  },
  {
   "cell_type": "markdown",
   "metadata": {},
   "source": [
    "# Lab4"
   ]
  },
  {
   "cell_type": "code",
   "execution_count": 41,
   "metadata": {},
   "outputs": [
    {
     "name": "stdout",
     "output_type": "stream",
     "text": [
      "Here\n"
     ]
    },
    {
     "data": {
      "text/plain": [
       "array([[ 36.,  42.,  58., ...,  30.,  10.,  58.],\n",
       "       [ 30.,  37.,  93., ...,  30.,  10.,  93.],\n",
       "       [ 29.,  36., 100., ...,  30.,  10., 100.],\n",
       "       ...,\n",
       "       [ 73.,  73.,  64., ...,  30.,  10.,  64.],\n",
       "       [ 71.,  71.,  81., ...,  30.,  10.,  81.],\n",
       "       [ 79.,  79.,  47., ...,  29.,   7.,  47.]])"
      ]
     },
     "execution_count": 41,
     "metadata": {},
     "output_type": "execute_result"
    }
   ],
   "source": [
    "# distributing the dataset into two components X and Y\n",
    "X = df2.iloc[:, 1:13].values.round(decimals=0)\n",
    "y = df2.iloc[:, 0].values\n",
    "y\n",
    "print(\"Here\")\n",
    "X"
   ]
  },
  {
   "cell_type": "code",
   "execution_count": 42,
   "metadata": {},
   "outputs": [],
   "source": [
    "X_train, X_test, y_train, y_test = train_test_split(X, y, test_size = 0.2, random_state = 0)\n"
   ]
  },
  {
   "cell_type": "code",
   "execution_count": 43,
   "metadata": {},
   "outputs": [
    {
     "name": "stdout",
     "output_type": "stream",
     "text": [
      "[2 2 2 ... 2 2 3]\n"
     ]
    }
   ],
   "source": [
    "# performing preprocessing part\n",
    "from sklearn.preprocessing import StandardScaler\n",
    "sc = StandardScaler()\n",
    "  \n",
    "X_train = sc.fit_transform(X_train)\n",
    "X_test = sc.transform(X_test)\n",
    "print(y_test)"
   ]
  },
  {
   "cell_type": "code",
   "execution_count": 45,
   "metadata": {},
   "outputs": [
    {
     "name": "stdout",
     "output_type": "stream",
     "text": [
      "[[-1.48391567  2.09273047]\n",
      " [ 0.68490338 -0.75504691]\n",
      " [ 2.23847301 -1.02772555]\n",
      " ...\n",
      " [-3.71089458 -0.03794888]\n",
      " [ 2.01116165  1.4484177 ]\n",
      " [ 2.17741603 -0.68552675]]\n"
     ]
    }
   ],
   "source": [
    "# Applying PCA function on training\n",
    "# and testing set of X component\n",
    "from sklearn.decomposition import PCA\n",
    "  \n",
    "pca = PCA(n_components = 2)\n",
    "  \n",
    "X_train = pca.fit_transform(X_train)\n",
    "X_test = pca.transform(X_test)\n",
    "  \n",
    "explained_variance = pca.explained_variance_ratio_\n",
    "explained_variance\n",
    "print(X_test)"
   ]
  },
  {
   "cell_type": "markdown",
   "metadata": {},
   "source": [
    "# Logistic Regression"
   ]
  },
  {
   "cell_type": "code",
   "execution_count": 46,
   "metadata": {},
   "outputs": [
    {
     "data": {
      "text/plain": [
       "LogisticRegression(random_state=0)"
      ]
     },
     "execution_count": 46,
     "metadata": {},
     "output_type": "execute_result"
    }
   ],
   "source": [
    "\n",
    "# Fitting Logistic Regression To the training set\n",
    "from sklearn.linear_model import LogisticRegression  \n",
    "  \n",
    "classifier = LogisticRegression(random_state = 0)\n",
    "classifier.fit(X_train, y_train)"
   ]
  },
  {
   "cell_type": "code",
   "execution_count": 47,
   "metadata": {},
   "outputs": [],
   "source": [
    "y_pred = classifier.predict(X_test)"
   ]
  },
  {
   "cell_type": "code",
   "execution_count": 48,
   "metadata": {},
   "outputs": [
    {
     "name": "stdout",
     "output_type": "stream",
     "text": [
      "0.9225135807483373\n"
     ]
    }
   ],
   "source": [
    "from sklearn.metrics import accuracy_score\n",
    "acc = accuracy_score(y_test, y_pred)\n",
    "print(acc)"
   ]
  },
  {
   "cell_type": "code",
   "execution_count": 109,
   "metadata": {},
   "outputs": [
    {
     "name": "stdout",
     "output_type": "stream",
     "text": [
      "[0.88937464 0.940309   0.93833605 ... 0.90417378 0.91441045 0.93833605]\n",
      "[[1 0]\n",
      " [1 0]\n",
      " [1 0]\n",
      " ...\n",
      " [1 0]\n",
      " [1 0]\n",
      " [0 1]]\n"
     ]
    },
    {
     "data": {
      "image/png": "[encoded data removed]",
      "text/plain": [
       "<Figure size 432x288 with 1 Axes>"
      ]
     },
     "metadata": {
      "needs_background": "light"
     },
     "output_type": "display_data"
    }
   ],
   "source": [
    "#define metrics\n",
    "y_pred_proba = classifier.predict_proba(X_test)[::,1]\n",
    "print(y_pred_proba)\n",
    "y_test2 = preprocessing.label_binarize(y_test, classes=[2, 3])\n",
    "\n",
    "\n",
    "print(y_test2)\n",
    "\n",
    "#y_pred_proba2 = \n",
    "fpr, tpr, thresholds = metrics.roc_curve(y_test2.argmax(axis=1),  y_pred_proba, pos_label=0)\n",
    "\n",
    "#create ROC curve\n",
    "plt.plot(fpr,tpr)\n",
    "plt.ylabel('True Positive Rate')\n",
    "plt.xlabel('False Positive Rate')\n",
    "plt.show()"
   ]
  },
  {
   "cell_type": "markdown",
   "metadata": {},
   "source": [
    "# Calculate Precision, Recall and F measure"
   ]
  },
  {
   "cell_type": "markdown",
   "metadata": {},
   "source": [
    "# K Nearest Neighbors"
   ]
  },
  {
   "cell_type": "code",
   "execution_count": 59,
   "metadata": {},
   "outputs": [],
   "source": [
    "from sklearn.model_selection import train_test_split\n",
    "## Split data into training and testing sets.\n",
    "X_train, X_test, y_train, y_test = train_test_split(X, y, random_state=42)"
   ]
  },
  {
   "cell_type": "code",
   "execution_count": 60,
   "metadata": {},
   "outputs": [
    {
     "name": "stdout",
     "output_type": "stream",
     "text": [
      "0.9186525866883282\n"
     ]
    }
   ],
   "source": [
    "## Import the Classifier.\n",
    "# Fitting K Nearest Neighbors\n",
    "from sklearn.neighbors import KNeighborsClassifier\n",
    "## Instantiate the model. \n",
    "knn = KNeighborsClassifier()\n",
    "## Fit the model on the training data.\n",
    "knn.fit(X_train, y_train)\n",
    "## See how the model performs on the test data.\n",
    "print(knn.score(X_test, y_test))"
   ]
  },
  {
   "cell_type": "code",
   "execution_count": 64,
   "metadata": {},
   "outputs": [],
   "source": [
    "from sklearn.model_selection import cross_val_predict\n",
    "y_train_pred = cross_val_predict(knn, X_train, y_train, cv=3)"
   ]
  },
  {
   "cell_type": "code",
   "execution_count": 68,
   "metadata": {},
   "outputs": [
    {
     "name": "stdout",
     "output_type": "stream",
     "text": [
      "[[   1416   17674      96      17]\n",
      " [   2793 1624319    4637    3239]\n",
      " [    181   57755    2245     333]\n",
      " [    138   55856     492    1538]]\n",
      "              precision    recall  f1-score   support\n",
      "\n",
      "           1       0.31      0.07      0.12     19203\n",
      "           2       0.93      0.99      0.96   1634988\n",
      "           3       0.30      0.04      0.07     60514\n",
      "           4       0.30      0.03      0.05     58024\n",
      "\n",
      "    accuracy                           0.92   1772729\n",
      "   macro avg       0.46      0.28      0.30   1772729\n",
      "weighted avg       0.88      0.92      0.89   1772729\n",
      "\n"
     ]
    }
   ],
   "source": [
    "from sklearn.metrics import confusion_matrix\n",
    "\n",
    "print(confusion_matrix(y_train, y_train_pred))\n",
    "print(classification_report(y_train, y_train_pred))"
   ]
  },
  {
   "cell_type": "markdown",
   "metadata": {
    "id": "w1FkaLeIhRrp"
   },
   "source": [
    "# Experimenting with Attribute Combinations"
   ]
  },
  {
   "cell_type": "code",
   "execution_count": null,
   "metadata": {
    "id": "DweFnW83hRrq"
   },
   "outputs": [],
   "source": [
    "# Here you will generate new features. This is what we call feature engineering\n",
    "# Q8 What are the new features that you are generating? Do they make sense ?\n",
    "\n",
    "data[\"latitude_diff\"] = data[\"End_Lat\"]-data[\"Start_Lat\"]\n",
    "\n",
    "#Calculate total time of accident\n",
    "data[\"Total_Time(hrs)\"] = pd.to_datetime(data['End_Time'])-pd.to_datetime(data['Start_Time'])\n",
    "data['Total_Time(hrs)'] = pd.to_timedelta(data['Total_Time(hrs)'])\n",
    "data['Total_Time(hrs)']=data['Total_Time(hrs)'].dt.total_seconds()/3600  \n",
    "data.head()"
   ]
  },
  {
   "cell_type": "code",
   "execution_count": null,
   "metadata": {
    "id": "-br1J7qlhRrv"
   },
   "outputs": [],
   "source": [
    "#Q10 Plot the scatter plot of the rooms_per_household against median_house_value\n",
    "#Q11 Now use the housing describe method to view the statistical summary of the dataset "
   ]
  },
  {
   "cell_type": "markdown",
   "metadata": {
    "id": "YLo6wzD-hRrx"
   },
   "source": [
    "# Prepare the Data for Machine Learning Algorithms"
   ]
  },
  {
   "cell_type": "markdown",
   "metadata": {
    "id": "UZZ9Tv3UhRr1"
   },
   "source": [
    "## Data Cleaning\n",
    "Dealing with missing features\n",
    "\n",
    "\n",
    "1. Get rid of the corresponding districts. `dropna()`\n",
    "2. Get rid of the whole attribute. `drop()` \n",
    "3. Set the values to some value (zero, the mean, the median, etc.)  `fillna()`\n"
   ]
  },
  {
   "cell_type": "code",
   "execution_count": null,
   "metadata": {
    "colab": {
     "base_uri": "https://localhost:8080/",
     "height": 224
    },
    "id": "mBWtt3e1hRr1",
    "outputId": "b8688a51-77d7-4d7c-986b-89b5e8bb978e"
   },
   "outputs": [],
   "source": [
    "sample_incomplete_rows = data[data.isnull().any(axis=1)].head()\n",
    "sample_incomplete_rows   # display rows with missing values\n"
   ]
  },
  {
   "cell_type": "code",
   "execution_count": null,
   "metadata": {
    "colab": {
     "base_uri": "https://localhost:8080/",
     "height": 69
    },
    "id": "yo7TMCgFhRr2",
    "outputId": "10f515f4-d6da-4e05-8887-a4081661daa8"
   },
   "outputs": [],
   "source": [
    "# option 1 Remove the records (i.e rows ) with missing values.\n",
    "sample_incomplete_rows.dropna(subset=[\"total_bedrooms\"])  \n",
    "#Q12 What is displayed below? Note your observation "
   ]
  },
  {
   "cell_type": "code",
   "execution_count": null,
   "metadata": {
    "colab": {
     "base_uri": "https://localhost:8080/",
     "height": 204
    },
    "id": "My_obND_hRr3",
    "outputId": "477c1e85-2d5b-4c93-8713-f25e07ffdd56"
   },
   "outputs": [],
   "source": [
    "sample_incomplete_rows.drop(\"total_bedrooms\", axis=1)        # option 2 Remove the entire attribute with the missing value\n",
    "#Q13  What do you see now? How is this different from your observation in Q12\n"
   ]
  },
  {
   "cell_type": "code",
   "execution_count": null,
   "metadata": {
    "id": "_D8hGfLGhRr4"
   },
   "outputs": [],
   "source": [
    "median = housing[\"total_bedrooms\"].median() # calculate the median of total_bedrooms\n",
    "sample_incomplete_rows[\"total_bedrooms\"].fillna(median, inplace=True) # option 3 Fill missing value with  median\n",
    "# Q14 Note your observation in the displayed rows below. How is it different from Q12 and Q13\n"
   ]
  },
  {
   "cell_type": "code",
   "execution_count": null,
   "metadata": {
    "colab": {
     "base_uri": "https://localhost:8080/",
     "height": 224
    },
    "id": "2t11ShG6hRr4",
    "outputId": "4c08be5f-a80d-4957-941e-ed524f7f162a"
   },
   "outputs": [],
   "source": [
    "sample_incomplete_rows"
   ]
  },
  {
   "cell_type": "markdown",
   "metadata": {
    "id": "WnX7vYm2hRr5"
   },
   "source": [
    "## Scikit-Learn solution (optional)\n"
   ]
  },
  {
   "cell_type": "code",
   "execution_count": null,
   "metadata": {
    "id": "LyOLU4ClhRr6"
   },
   "outputs": [],
   "source": [
    "from sklearn.impute import SimpleImputer      # Look up SimpleImputer Class in Sklearn Documenation\n",
    "imputer = SimpleImputer(strategy=\"median\")    # Replace each missing attribute with median of that attribute "
   ]
  },
  {
   "cell_type": "code",
   "execution_count": null,
   "metadata": {
    "id": "cFC2uLDmhRr7"
   },
   "outputs": [],
   "source": [
    "#We cant compute the median of a categorical data, therefore we are creating a copy of the data without ocean_prox\n",
    "housing_num = housing.drop(\"ocean_proximity\", axis=1) "
   ]
  },
  {
   "cell_type": "code",
   "execution_count": null,
   "metadata": {
    "colab": {
     "base_uri": "https://localhost:8080/"
    },
    "id": "2o5sV5I4hRr8",
    "outputId": "c6fa4095-ba17-41ed-b8b6-c89a5dc05d09"
   },
   "outputs": [],
   "source": [
    "imputer.fit(housing_num)"
   ]
  },
  {
   "cell_type": "markdown",
   "metadata": {
    "id": "qjn5yCXnhRr8"
   },
   "source": [
    "The imputer has simply computed the median of each attribute and stored the result in its `statistics_` instance variable. "
   ]
  },
  {
   "cell_type": "code",
   "execution_count": null,
   "metadata": {
    "colab": {
     "base_uri": "https://localhost:8080/"
    },
    "id": "zg6TgmeGhRr8",
    "outputId": "33945d78-4218-4081-b5e8-3e4a24e7452f"
   },
   "outputs": [],
   "source": [
    "imputer.statistics_"
   ]
  },
  {
   "cell_type": "code",
   "execution_count": null,
   "metadata": {
    "colab": {
     "base_uri": "https://localhost:8080/"
    },
    "id": "lJhzkVCnhRr8",
    "outputId": "7a5d346f-fa6c-4520-fe06-6db584a27c15"
   },
   "outputs": [],
   "source": [
    "housing_num.median().values #Check that this is the same as manually computing the median of each attribute\n"
   ]
  },
  {
   "cell_type": "code",
   "execution_count": null,
   "metadata": {
    "id": "8x0W2Z-0hRr9"
   },
   "outputs": [],
   "source": [
    "X = imputer.transform(housing_num) # transform the data set"
   ]
  },
  {
   "cell_type": "code",
   "execution_count": null,
   "metadata": {
    "id": "yJbltHl7hRr-"
   },
   "outputs": [],
   "source": [
    "housing_tr = pd.DataFrame(X, columns=housing_num.columns,\n",
    "                          index=housing_num.index) # load the new tranformed data set into the pandas frame housing_tr"
   ]
  },
  {
   "cell_type": "code",
   "execution_count": null,
   "metadata": {
    "colab": {
     "base_uri": "https://localhost:8080/",
     "height": 204
    },
    "id": "MEBesDPHhRr-",
    "outputId": "458bba23-4d7c-42de-89a7-bc0b63c9fd2f"
   },
   "outputs": [],
   "source": [
    "housing_tr.loc[sample_incomplete_rows.index.values] # show the rows with previously missing values "
   ]
  },
  {
   "cell_type": "markdown",
   "metadata": {
    "id": "X6xyVgYlhRr_"
   },
   "source": [
    "### Handling Text and Categorical Attributes"
   ]
  },
  {
   "cell_type": "code",
   "execution_count": null,
   "metadata": {
    "colab": {
     "base_uri": "https://localhost:8080/",
     "height": 359
    },
    "id": "b1F5WdRThRsA",
    "outputId": "c944f9a3-d6ca-47ba-b972-362ae02f7e12"
   },
   "outputs": [],
   "source": [
    "housing_cat = housing[[\"ocean_proximity\"]]\n",
    "housing_cat.head(10)  # look at the value of  'ocean_proximity' for the first 10 instances "
   ]
  },
  {
   "cell_type": "code",
   "execution_count": null,
   "metadata": {
    "colab": {
     "base_uri": "https://localhost:8080/",
     "height": 359
    },
    "id": "EECQACwDhRsA",
    "outputId": "f47dda29-6672-4a85-fc3d-beca71b9d0d8"
   },
   "outputs": [],
   "source": [
    "housing_cat.tail(10)\n",
    "# look at the value of  'ocean_proximity' for the last 10 instances"
   ]
  },
  {
   "cell_type": "code",
   "execution_count": null,
   "metadata": {
    "colab": {
     "base_uri": "https://localhost:8080/"
    },
    "id": "Y3HrUaaNhRsB",
    "outputId": "6fb20fa6-4f4a-4710-90d1-f199dde5838a"
   },
   "outputs": [],
   "source": [
    "from sklearn.preprocessing import OrdinalEncoder\n",
    "# sklearn OrdinalEncoder class is used to convert categorical values to numbers\n",
    "ordinal_encoder = OrdinalEncoder() \n",
    "housing_cat_encoded = ordinal_encoder.fit_transform(housing_cat)\n",
    "housing_cat_encoded[:10] # Lists the numerical values that correspond to the categorical attribute\n",
    "# Q15 Why can representing a catogorical variable with numbers be a problem in ML?\n"
   ]
  },
  {
   "cell_type": "code",
   "execution_count": null,
   "metadata": {
    "colab": {
     "base_uri": "https://localhost:8080/"
    },
    "id": "xtawqcnxhRsB",
    "outputId": "3fe6f28c-2c36-4e12-fcd2-021183bb5386"
   },
   "outputs": [],
   "source": [
    "# 1 D array of categories for the attribute 'ocean-proximity'\n",
    "ordinal_encoder.categories_ # prints the categories for all categorical attributes , here we only have one categorical attribute\n"
   ]
  },
  {
   "cell_type": "code",
   "execution_count": null,
   "metadata": {
    "colab": {
     "base_uri": "https://localhost:8080/"
    },
    "id": "D4wnlCPPhRsB",
    "outputId": "b217a828-8154-444e-f88e-8887053f9cf1"
   },
   "outputs": [],
   "source": [
    "# An alternative way to represent a categorical attribuite is to use 'one-hot-encoding'\n",
    "\n",
    "from sklearn.preprocessing import OneHotEncoder  \n",
    "# OneHotEncoder class converts categorical values into one-hot vectors , this assumes no order so better for categorical variables\n",
    "\n",
    "cat_encoder = OneHotEncoder()\n",
    "housing_cat_1hot = cat_encoder.fit_transform(housing_cat)\n",
    "housing_cat_1hot"
   ]
  },
  {
   "cell_type": "code",
   "execution_count": null,
   "metadata": {
    "colab": {
     "base_uri": "https://localhost:8080/"
    },
    "id": "Vb4HvpfwhRsC",
    "outputId": "8c8fda04-2019-4345-ba2b-e6d74a360395"
   },
   "outputs": [],
   "source": [
    "type(housing_cat_1hot) # This is a SciPy sparce matrix ( not a NumPy array)\n",
    "# a sparse matrix only stores the location of the non‐zero enties , therefore saves memory"
   ]
  },
  {
   "cell_type": "code",
   "execution_count": null,
   "metadata": {
    "colab": {
     "base_uri": "https://localhost:8080/"
    },
    "id": "pTa74wdVhRsC",
    "outputId": "823cd462-6e8b-48d6-fcb5-bb5dd7f4aebf"
   },
   "outputs": [],
   "source": [
    "housing_cat_1hot.toarray() # To convert it to a (dense) NumPy array, call toarrray() method"
   ]
  },
  {
   "cell_type": "code",
   "execution_count": null,
   "metadata": {
    "colab": {
     "base_uri": "https://localhost:8080/"
    },
    "id": "pohHpDVYhRsD",
    "outputId": "d65049f2-9516-4030-e307-55c280237f66"
   },
   "outputs": [],
   "source": [
    "cat_encoder = OneHotEncoder(sparse=False) # Alternatively, you can set sparse=False when creating the OneHotEncoder\n",
    "housing_cat_1hot = cat_encoder.fit_transform(housing_cat)\n",
    "housing_cat_1hot"
   ]
  },
  {
   "cell_type": "code",
   "execution_count": null,
   "metadata": {
    "colab": {
     "base_uri": "https://localhost:8080/"
    },
    "id": "alCjsVt0hRsD",
    "outputId": "6764030b-e81d-43dd-de80-3eae1966d7dc"
   },
   "outputs": [],
   "source": [
    "cat_encoder.categories_         # Get a list of categories"
   ]
  },
  {
   "cell_type": "code",
   "execution_count": null,
   "metadata": {
    "id": "1kpf91WUuPUK"
   },
   "outputs": [],
   "source": []
  },
  {
   "cell_type": "markdown",
   "metadata": {
    "id": "ABf7NG4xtEKS"
   },
   "source": [
    "### Feature Scaling (optional)\n",
    "\n",
    "\n"
   ]
  },
  {
   "cell_type": "markdown",
   "metadata": {
    "id": "PQwkH7i_ts13"
   },
   "source": [
    "In week 2 lectures you have learned about two common ways to get all attributes to have the same scale: min-max scaling and standardization (Zscore).\n",
    "\n",
    "Sklearn provides two transformer functions for this "
   ]
  },
  {
   "cell_type": "code",
   "execution_count": null,
   "metadata": {
    "id": "FVur3HpBuRje"
   },
   "outputs": [],
   "source": [
    "#Q16 Research sklearn documentation for the functions MinMaxScaler() and StandardScaler() and try to experiment with it on the housing data set"
   ]
  }
 ],
 "metadata": {
  "colab": {
   "name": "Tutorial 1  Data Exploration and Visualization (Getting to know your data).ipynb",
   "provenance": []
  },
  "kernelspec": {
   "display_name": "Python 3 (ipykernel)",
   "language": "python",
   "name": "python3"
  },
  "language_info": {
   "codemirror_mode": {
    "name": "ipython",
    "version": 3
   },
   "file_extension": ".py",
   "mimetype": "text/x-python",
   "name": "python",
   "nbconvert_exporter": "python",
   "pygments_lexer": "ipython3",
   "version": "3.9.12"
  },
  "vscode": {
   "interpreter": {
    "hash": "efb9f42aedd77c290c9ac444bca03d1d08f2eedfa00a5af02c90bac9443c2ca2"
   }
  }
 },
 "nbformat": 4,
 "nbformat_minor": 1
}
