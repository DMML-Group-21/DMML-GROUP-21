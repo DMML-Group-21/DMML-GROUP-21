{
  "metadata": {
    "language_info": {
      "codemirror_mode": {
        "name": "python",
        "version": 3
      },
      "file_extension": ".py",
      "mimetype": "text/x-python",
      "name": "python",
      "nbconvert_exporter": "python",
      "pygments_lexer": "ipython3",
      "version": "3.8"
    },
    "kernelspec": {
      "name": "python",
      "display_name": "Python (Pyodide)",
      "language": "python"
    }
  },
  "nbformat_minor": 4,
  "nbformat": 4,
  "cells": [
    {
      "cell_type": "raw",
      "source": "Lab 1\n\nOur group finalized on three datasets which include ‘The AudioSet \ndataset’ https://research.google/tools/datasets/audioset/ , US \nAccidents from 2016-2021 \nhttps://www.kaggle.com/datasets/sobhanmoosavi/us-accidents , and \nSign Language Gesture Image dataset \nhttps://www.kaggle.com/datasets/ahmedkhanak1995/sign-language-\ngesture-images-dataset . As interesting as the Image and Audio \nprocessing datasets are, they seem to include a lot more data than we \nwould like to work with. We decided to use the US Accidents dataset as \nit seemed to be a sophisticated alternative and it has a lot of interesting \nattributes such as severity of the accident, effects on traffic flow, \npinpoint location, length of road affected, a human provided \ndescription of the accident, and many more specific details to ensure a \nthorough examination of the data. As of now we have multiple use-\ncases for the dataset in mind such as:\n Real-time accident prediction\n Analysis for any casualties\n Correlation between environmental conditions and accidents\n Accident hotspots/hazard zones\nThe dataset contains 2,845,342 different recorded accidents. With this \ndata, every use-case mentioned above could be completed with precise \naccuracy.\n",
      "metadata": {}
    }
  ]
}